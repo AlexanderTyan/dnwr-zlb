{
 "metadata": {
  "name": ""
 },
 "nbformat": 3,
 "nbformat_minor": 0,
 "worksheets": [
  {
   "cells": [
    {
     "cell_type": "heading",
     "level": 1,
     "metadata": {},
     "source": [
      "By History"
     ]
    },
    {
     "cell_type": "markdown",
     "metadata": {},
     "source": [
      "We want to analyze the traits of new hires/existing workers by employment history."
     ]
    },
    {
     "cell_type": "code",
     "collapsed": false,
     "input": [
      "%pylab inline --no-import-all\n",
      "%load_ext autoreload\n",
      "%connect_info"
     ],
     "language": "python",
     "metadata": {},
     "outputs": [
      {
       "output_type": "stream",
       "stream": "stdout",
       "text": [
        "Populating the interactive namespace from numpy and matplotlib\n",
        "{\n",
        "  \"stdin_port\": 62941, \n",
        "  \"ip\": \"127.0.0.1\", \n",
        "  \"control_port\": 62942, \n",
        "  \"hb_port\": 62943, \n",
        "  \"signature_scheme\": \"hmac-sha256\", \n",
        "  \"key\": \"7bf53585-c4f9-4c7f-ab83-844b3967096a\", \n",
        "  \"shell_port\": 62939, \n",
        "  \"transport\": \"tcp\", \n",
        "  \"iopub_port\": 62940\n",
        "}\n",
        "\n",
        "Paste the above JSON into a file, and connect with:\n",
        "    $> ipython <app> --existing <file>\n",
        "or, if you are local, you can connect with just:\n",
        "    $> ipython <app> --existing kernel-3fadfb4a-b96e-43c4-933d-8637151cf2df.json \n",
        "or even just:\n",
        "    $> ipython <app> --existing \n",
        "if this is the most recent IPython session you have started.\n"
       ]
      }
     ],
     "prompt_number": 1
    },
    {
     "cell_type": "code",
     "collapsed": false,
     "input": [
      "%autoreload\n",
      "from __future__ import division, print_function\n",
      "\n",
      "from datetime import datetime\n",
      "import json\n",
      "\n",
      "import pandas as pd\n",
      "import prettyplotlib as pplt\n",
      "import numpy as np\n",
      "import matplotlib.pyplot as plt\n",
      "import statsmodels.api as sm\n",
      "\n",
      "from helpers import *\n",
      "from add_rec_bars import add_rec_bars\n",
      "\n",
      "plt.rcParams['figure.figsize'] = (13, 8)\n",
      "plt.rcParams['figure.figsize']"
     ],
     "language": "python",
     "metadata": {},
     "outputs": [
      {
       "metadata": {},
       "output_type": "pyout",
       "prompt_number": 2,
       "text": [
        "[13.0, 8.0]"
       ]
      }
     ],
     "prompt_number": 2
    },
    {
     "cell_type": "code",
     "collapsed": false,
     "input": [
      "with open('../panel_construction/settings.txt', 'r') as f:\n",
      "    settings = json.load(f)\n",
      "\n",
      "earn_store = pd.HDFStore(settings['earn_store_path'])\n",
      "panel_store = pd.HDFStore(settings['panel_store_path'])\n",
      "cps_store = pd.HDFStore(settings['store_path'])\n",
      "analyzed_store = pd.HDFStore(settings['analyzed_path'])\n",
      "data_dir = settings['base_path']"
     ],
     "language": "python",
     "metadata": {},
     "outputs": [],
     "prompt_number": 3
    },
    {
     "cell_type": "code",
     "collapsed": false,
     "input": [
      "wp = get_useful(panel_store.select(\"m2008_01\"))\n",
      "e = wp['earnings'][[4, 8]]"
     ],
     "language": "python",
     "metadata": {},
     "outputs": [],
     "prompt_number": 102
    },
    {
     "cell_type": "code",
     "collapsed": false,
     "input": [
      "# get demographic info:\n",
      "# TODO: should be a function\n",
      "cat = replace_categorical(wp)\n",
      "race = cat.loc['race'][4]\n",
      "sex = cat.loc['sex'][4]\n",
      "age = wp.loc['age'][4]\n",
      "same_job = wp.loc['same_employer']  # which month... 4 and 8 probably\n",
      "married = cat.loc['married'][4]\n",
      "edu = wp.loc['edu'][4]\n",
      "\n",
      "flow = wp.loc['flow']\n",
      "unemployed = wp.loc['unemployed_history'][[4, 8]]\n",
      "nonemployed =  wp.loc['nonemployed_history'][[4, 8]]\n",
      "either = wp.loc['either_history'][[4, 8]]"
     ],
     "language": "python",
     "metadata": {},
     "outputs": [],
     "prompt_number": 103
    },
    {
     "cell_type": "code",
     "collapsed": false,
     "input": [
      "e.groupby(unemployed[4]).agg(['median', 'count'])"
     ],
     "language": "python",
     "metadata": {},
     "outputs": [
      {
       "html": [
        "<div style=\"max-height:1000px;max-width:1500px;overflow:auto;\">\n",
        "<table border=\"1\" class=\"dataframe\">\n",
        "  <thead>\n",
        "    <tr>\n",
        "      <th></th>\n",
        "      <th colspan=\"2\" halign=\"left\">4</th>\n",
        "      <th colspan=\"2\" halign=\"left\">8</th>\n",
        "    </tr>\n",
        "    <tr>\n",
        "      <th></th>\n",
        "      <th>median</th>\n",
        "      <th>count</th>\n",
        "      <th>median</th>\n",
        "      <th>count</th>\n",
        "    </tr>\n",
        "    <tr>\n",
        "      <th>4</th>\n",
        "      <th></th>\n",
        "      <th></th>\n",
        "      <th></th>\n",
        "      <th></th>\n",
        "    </tr>\n",
        "  </thead>\n",
        "  <tbody>\n",
        "    <tr>\n",
        "      <th>False</th>\n",
        "      <td> 67300</td>\n",
        "      <td> 5628</td>\n",
        "      <td> 73076.0</td>\n",
        "      <td> 4148</td>\n",
        "    </tr>\n",
        "    <tr>\n",
        "      <th>True </th>\n",
        "      <td> 35000</td>\n",
        "      <td>  268</td>\n",
        "      <td> 39291.5</td>\n",
        "      <td>  134</td>\n",
        "    </tr>\n",
        "  </tbody>\n",
        "</table>\n",
        "</div>"
       ],
       "metadata": {},
       "output_type": "pyout",
       "prompt_number": 167,
       "text": [
        "            4               8       \n",
        "       median  count   median  count\n",
        "4                                   \n",
        "False   67300   5628  73076.0   4148\n",
        "True    35000    268  39291.5    134"
       ]
      }
     ],
     "prompt_number": 167
    },
    {
     "cell_type": "code",
     "collapsed": false,
     "input": [
      "e.groupby(nonemployed[4]).agg(['median', 'count'])"
     ],
     "language": "python",
     "metadata": {},
     "outputs": [
      {
       "html": [
        "<div style=\"max-height:1000px;max-width:1500px;overflow:auto;\">\n",
        "<table border=\"1\" class=\"dataframe\">\n",
        "  <thead>\n",
        "    <tr>\n",
        "      <th></th>\n",
        "      <th colspan=\"2\" halign=\"left\">4</th>\n",
        "      <th colspan=\"2\" halign=\"left\">8</th>\n",
        "    </tr>\n",
        "    <tr>\n",
        "      <th></th>\n",
        "      <th>median</th>\n",
        "      <th>count</th>\n",
        "      <th>median</th>\n",
        "      <th>count</th>\n",
        "    </tr>\n",
        "    <tr>\n",
        "      <th>4</th>\n",
        "      <th></th>\n",
        "      <th></th>\n",
        "      <th></th>\n",
        "      <th></th>\n",
        "    </tr>\n",
        "  </thead>\n",
        "  <tbody>\n",
        "    <tr>\n",
        "      <th>False</th>\n",
        "      <td> 67300</td>\n",
        "      <td> 5628</td>\n",
        "      <td> 73076</td>\n",
        "      <td> 4148</td>\n",
        "    </tr>\n",
        "    <tr>\n",
        "      <th>True </th>\n",
        "      <td> 24650</td>\n",
        "      <td>  284</td>\n",
        "      <td> 28000</td>\n",
        "      <td>  136</td>\n",
        "    </tr>\n",
        "  </tbody>\n",
        "</table>\n",
        "</div>"
       ],
       "metadata": {},
       "output_type": "pyout",
       "prompt_number": 169,
       "text": [
        "            4              8       \n",
        "       median  count  median  count\n",
        "4                                  \n",
        "False   67300   5628   73076   4148\n",
        "True    24650    284   28000    136"
       ]
      }
     ],
     "prompt_number": 169
    },
    {
     "cell_type": "code",
     "collapsed": false,
     "input": [
      "e.groupby(either[4]).agg(['median', 'count'])"
     ],
     "language": "python",
     "metadata": {},
     "outputs": [
      {
       "html": [
        "<div style=\"max-height:1000px;max-width:1500px;overflow:auto;\">\n",
        "<table border=\"1\" class=\"dataframe\">\n",
        "  <thead>\n",
        "    <tr>\n",
        "      <th></th>\n",
        "      <th colspan=\"2\" halign=\"left\">4</th>\n",
        "      <th colspan=\"2\" halign=\"left\">8</th>\n",
        "    </tr>\n",
        "    <tr>\n",
        "      <th></th>\n",
        "      <th>median</th>\n",
        "      <th>count</th>\n",
        "      <th>median</th>\n",
        "      <th>count</th>\n",
        "    </tr>\n",
        "    <tr>\n",
        "      <th>4</th>\n",
        "      <th></th>\n",
        "      <th></th>\n",
        "      <th></th>\n",
        "      <th></th>\n",
        "    </tr>\n",
        "  </thead>\n",
        "  <tbody>\n",
        "    <tr>\n",
        "      <th>False</th>\n",
        "      <td> 67300</td>\n",
        "      <td> 5628</td>\n",
        "      <td> 73076</td>\n",
        "      <td> 4148</td>\n",
        "    </tr>\n",
        "    <tr>\n",
        "      <th>True </th>\n",
        "      <td> 30000</td>\n",
        "      <td>  491</td>\n",
        "      <td> 31990</td>\n",
        "      <td>  237</td>\n",
        "    </tr>\n",
        "  </tbody>\n",
        "</table>\n",
        "</div>"
       ],
       "metadata": {},
       "output_type": "pyout",
       "prompt_number": 170,
       "text": [
        "            4              8       \n",
        "       median  count  median  count\n",
        "4                                  \n",
        "False   67300   5628   73076   4148\n",
        "True    30000    491   31990    237"
       ]
      }
     ],
     "prompt_number": 170
    },
    {
     "cell_type": "code",
     "collapsed": false,
     "input": [
      "e.groupby(flow[4]).median()"
     ],
     "language": "python",
     "metadata": {},
     "outputs": [
      {
       "html": [
        "<div style=\"max-height:1000px;max-width:1500px;overflow:auto;\">\n",
        "<table border=\"1\" class=\"dataframe\">\n",
        "  <thead>\n",
        "    <tr style=\"text-align: right;\">\n",
        "      <th></th>\n",
        "      <th>4</th>\n",
        "      <th>8</th>\n",
        "    </tr>\n",
        "    <tr>\n",
        "      <th>4</th>\n",
        "      <th></th>\n",
        "      <th></th>\n",
        "    </tr>\n",
        "  </thead>\n",
        "  <tbody>\n",
        "    <tr>\n",
        "      <th>ee</th>\n",
        "      <td> 64627.5</td>\n",
        "      <td> 72000.0</td>\n",
        "    </tr>\n",
        "    <tr>\n",
        "      <th>en</th>\n",
        "      <td>     NaN</td>\n",
        "      <td> 42049.5</td>\n",
        "    </tr>\n",
        "    <tr>\n",
        "      <th>eu</th>\n",
        "      <td>     NaN</td>\n",
        "      <td> 71500.0</td>\n",
        "    </tr>\n",
        "    <tr>\n",
        "      <th>ne</th>\n",
        "      <td> 30000.0</td>\n",
        "      <td> 31616.0</td>\n",
        "    </tr>\n",
        "    <tr>\n",
        "      <th>nn</th>\n",
        "      <td>     NaN</td>\n",
        "      <td> 34200.0</td>\n",
        "    </tr>\n",
        "    <tr>\n",
        "      <th>nu</th>\n",
        "      <td>     NaN</td>\n",
        "      <td>     NaN</td>\n",
        "    </tr>\n",
        "    <tr>\n",
        "      <th>ue</th>\n",
        "      <td> 42000.0</td>\n",
        "      <td> 57653.5</td>\n",
        "    </tr>\n",
        "    <tr>\n",
        "      <th>un</th>\n",
        "      <td>     NaN</td>\n",
        "      <td> 48000.0</td>\n",
        "    </tr>\n",
        "    <tr>\n",
        "      <th>uu</th>\n",
        "      <td>     NaN</td>\n",
        "      <td> 73600.0</td>\n",
        "    </tr>\n",
        "  </tbody>\n",
        "</table>\n",
        "</div>"
       ],
       "metadata": {},
       "output_type": "pyout",
       "prompt_number": 41,
       "text": [
        "          4        8\n",
        "4                   \n",
        "ee  64627.5  72000.0\n",
        "en      NaN  42049.5\n",
        "eu      NaN  71500.0\n",
        "ne  30000.0  31616.0\n",
        "nn      NaN  34200.0\n",
        "nu      NaN      NaN\n",
        "ue  42000.0  57653.5\n",
        "un      NaN  48000.0\n",
        "uu      NaN  73600.0"
       ]
      }
     ],
     "prompt_number": 41
    },
    {
     "cell_type": "code",
     "collapsed": false,
     "input": [
      "others = ['American Indian, Alaskan Native Only', 'White-AI', \n",
      "          'Hawaiian/Pacific Islander Only', 'White-Black',\n",
      "          'Black-AI', 'W-B-HP', 'White-Asian', 'AI-HP',\n",
      "          'Asian-HP', 'W-B-A', 'Black-Asian', 'White-HP']\n",
      "\n",
      "e.groupby(bin_others(race, others)).agg(['median', 'count']).swaplevel(0, 1, axis=1).sort_index(axis=1)"
     ],
     "language": "python",
     "metadata": {},
     "outputs": [
      {
       "html": [
        "<div style=\"max-height:1000px;max-width:1500px;overflow:auto;\">\n",
        "<table border=\"1\" class=\"dataframe\">\n",
        "  <thead>\n",
        "    <tr>\n",
        "      <th></th>\n",
        "      <th colspan=\"2\" halign=\"left\">median</th>\n",
        "      <th colspan=\"2\" halign=\"left\">count</th>\n",
        "    </tr>\n",
        "    <tr>\n",
        "      <th></th>\n",
        "      <th>4</th>\n",
        "      <th>8</th>\n",
        "      <th>4</th>\n",
        "      <th>8</th>\n",
        "    </tr>\n",
        "    <tr>\n",
        "      <th>4</th>\n",
        "      <th></th>\n",
        "      <th></th>\n",
        "      <th></th>\n",
        "      <th></th>\n",
        "    </tr>\n",
        "  </thead>\n",
        "  <tbody>\n",
        "    <tr>\n",
        "      <th>Asian Only</th>\n",
        "      <td> 71100</td>\n",
        "      <td> 65650</td>\n",
        "      <td>  275</td>\n",
        "      <td>  202</td>\n",
        "    </tr>\n",
        "    <tr>\n",
        "      <th>Black Only</th>\n",
        "      <td> 53000</td>\n",
        "      <td> 53000</td>\n",
        "      <td>  563</td>\n",
        "      <td>  418</td>\n",
        "    </tr>\n",
        "    <tr>\n",
        "      <th>White Only</th>\n",
        "      <td> 65000</td>\n",
        "      <td> 68505</td>\n",
        "      <td> 5289</td>\n",
        "      <td> 4168</td>\n",
        "    </tr>\n",
        "    <tr>\n",
        "      <th>other</th>\n",
        "      <td> 59400</td>\n",
        "      <td> 60000</td>\n",
        "      <td>  190</td>\n",
        "      <td>  141</td>\n",
        "    </tr>\n",
        "  </tbody>\n",
        "</table>\n",
        "</div>"
       ],
       "metadata": {},
       "output_type": "pyout",
       "prompt_number": 132,
       "text": [
        "            median         count      \n",
        "                 4      8      4     8\n",
        "4                                     \n",
        "Asian Only   71100  65650    275   202\n",
        "Black Only   53000  53000    563   418\n",
        "White Only   65000  68505   5289  4168\n",
        "other        59400  60000    190   141"
       ]
      }
     ],
     "prompt_number": 132
    },
    {
     "cell_type": "code",
     "collapsed": false,
     "input": [
      "e.groupby(married).agg(['median', 'count'])"
     ],
     "language": "python",
     "metadata": {},
     "outputs": [
      {
       "html": [
        "<div style=\"max-height:1000px;max-width:1500px;overflow:auto;\">\n",
        "<table border=\"1\" class=\"dataframe\">\n",
        "  <thead>\n",
        "    <tr>\n",
        "      <th></th>\n",
        "      <th colspan=\"2\" halign=\"left\">4</th>\n",
        "      <th colspan=\"2\" halign=\"left\">8</th>\n",
        "    </tr>\n",
        "    <tr>\n",
        "      <th></th>\n",
        "      <th>median</th>\n",
        "      <th>count</th>\n",
        "      <th>median</th>\n",
        "      <th>count</th>\n",
        "    </tr>\n",
        "    <tr>\n",
        "      <th>4</th>\n",
        "      <th></th>\n",
        "      <th></th>\n",
        "      <th></th>\n",
        "      <th></th>\n",
        "    </tr>\n",
        "  </thead>\n",
        "  <tbody>\n",
        "    <tr>\n",
        "      <th>DIVORCED</th>\n",
        "      <td> 51800</td>\n",
        "      <td>  137</td>\n",
        "      <td> 53000</td>\n",
        "      <td>   86</td>\n",
        "    </tr>\n",
        "    <tr>\n",
        "      <th>MARRIED, ARMED FORCES SPOUSE PRESENT</th>\n",
        "      <td> 56000</td>\n",
        "      <td>   79</td>\n",
        "      <td> 50000</td>\n",
        "      <td>   47</td>\n",
        "    </tr>\n",
        "    <tr>\n",
        "      <th>MARRIED, CIVILIAN SPOUSE PRESENT</th>\n",
        "      <td> 75000</td>\n",
        "      <td> 3622</td>\n",
        "      <td> 76923</td>\n",
        "      <td> 2985</td>\n",
        "    </tr>\n",
        "    <tr>\n",
        "      <th>MARRIED, SPOUSE ABSENT (EXC. SEPARATED)</th>\n",
        "      <td> 46153</td>\n",
        "      <td>  127</td>\n",
        "      <td> 54500</td>\n",
        "      <td>  102</td>\n",
        "    </tr>\n",
        "    <tr>\n",
        "      <th>SEPARATED</th>\n",
        "      <td> 44000</td>\n",
        "      <td> 1676</td>\n",
        "      <td> 46000</td>\n",
        "      <td> 1168</td>\n",
        "    </tr>\n",
        "    <tr>\n",
        "      <th>WIDOWED</th>\n",
        "      <td> 66000</td>\n",
        "      <td>  676</td>\n",
        "      <td> 69230</td>\n",
        "      <td>  532</td>\n",
        "    </tr>\n",
        "  </tbody>\n",
        "</table>\n",
        "</div>"
       ],
       "metadata": {},
       "output_type": "pyout",
       "prompt_number": 148,
       "text": [
        "                                              4              8       \n",
        "                                         median  count  median  count\n",
        "4                                                                    \n",
        "DIVORCED                                  51800    137   53000     86\n",
        "MARRIED, ARMED FORCES SPOUSE PRESENT      56000     79   50000     47\n",
        "MARRIED, CIVILIAN SPOUSE PRESENT          75000   3622   76923   2985\n",
        "MARRIED, SPOUSE ABSENT (EXC. SEPARATED)   46153    127   54500    102\n",
        "SEPARATED                                 44000   1676   46000   1168\n",
        "WIDOWED                                   66000    676   69230    532"
       ]
      }
     ],
     "prompt_number": 148
    },
    {
     "cell_type": "code",
     "collapsed": false,
     "input": [
      "e.groupby(married).agg(['median'])[4].plot(kind='barh')"
     ],
     "language": "python",
     "metadata": {},
     "outputs": [
      {
       "metadata": {},
       "output_type": "pyout",
       "prompt_number": 151,
       "text": [
        "<matplotlib.axes.AxesSubplot at 0x116f2e750>"
       ]
      },
      {
       "metadata": {},
       "output_type": "display_data",
       "png": "[encoded data removed]",
       "text": [
        "<matplotlib.figure.Figure at 0x116f35f50>"
       ]
      }
     ],
     "prompt_number": 151
    },
    {
     "cell_type": "code",
     "collapsed": false,
     "input": [
      "e.groupby(sex).median()"
     ],
     "language": "python",
     "metadata": {},
     "outputs": [
      {
       "html": [
        "<div style=\"max-height:1000px;max-width:1500px;overflow:auto;\">\n",
        "<table border=\"1\" class=\"dataframe\">\n",
        "  <thead>\n",
        "    <tr style=\"text-align: right;\">\n",
        "      <th></th>\n",
        "      <th>4</th>\n",
        "      <th>8</th>\n",
        "    </tr>\n",
        "    <tr>\n",
        "      <th>4</th>\n",
        "      <th></th>\n",
        "      <th></th>\n",
        "    </tr>\n",
        "  </thead>\n",
        "  <tbody>\n",
        "    <tr>\n",
        "      <th>female</th>\n",
        "      <td> 53900</td>\n",
        "      <td> 56000</td>\n",
        "    </tr>\n",
        "    <tr>\n",
        "      <th>male</th>\n",
        "      <td> 76923</td>\n",
        "      <td> 80769</td>\n",
        "    </tr>\n",
        "  </tbody>\n",
        "</table>\n",
        "</div>"
       ],
       "metadata": {},
       "output_type": "pyout",
       "prompt_number": 155,
       "text": [
        "            4      8\n",
        "4                   \n",
        "female  53900  56000\n",
        "male    76923  80769"
       ]
      }
     ],
     "prompt_number": 155
    },
    {
     "cell_type": "code",
     "collapsed": false,
     "input": [
      "married_others = ['MARRIED, ARMED FORCES SPOUSE PRESENT',\n",
      "                  'MARRIED, SPOUSE ABSENT (EXC. SEPARATED)',\n",
      "                  'DIVORCED']\n",
      "e.groupby([sex, bin_others(married, married_others)]).median()"
     ],
     "language": "python",
     "metadata": {},
     "outputs": [
      {
       "html": [
        "<div style=\"max-height:1000px;max-width:1500px;overflow:auto;\">\n",
        "<table border=\"1\" class=\"dataframe\">\n",
        "  <thead>\n",
        "    <tr style=\"text-align: right;\">\n",
        "      <th></th>\n",
        "      <th></th>\n",
        "      <th>4</th>\n",
        "      <th>8</th>\n",
        "    </tr>\n",
        "    <tr>\n",
        "      <th>4</th>\n",
        "      <th>4</th>\n",
        "      <th></th>\n",
        "      <th></th>\n",
        "    </tr>\n",
        "  </thead>\n",
        "  <tbody>\n",
        "    <tr>\n",
        "      <th rowspan=\"4\" valign=\"top\">female</th>\n",
        "      <th>MARRIED, CIVILIAN SPOUSE PRESENT</th>\n",
        "      <td> 60000</td>\n",
        "      <td> 60000.0</td>\n",
        "    </tr>\n",
        "    <tr>\n",
        "      <th>SEPARATED</th>\n",
        "      <td> 40100</td>\n",
        "      <td> 40730.5</td>\n",
        "    </tr>\n",
        "    <tr>\n",
        "      <th>WIDOWED</th>\n",
        "      <td> 57646</td>\n",
        "      <td> 61538.0</td>\n",
        "    </tr>\n",
        "    <tr>\n",
        "      <th>other</th>\n",
        "      <td> 46153</td>\n",
        "      <td> 50000.0</td>\n",
        "    </tr>\n",
        "    <tr>\n",
        "      <th rowspan=\"4\" valign=\"top\">male</th>\n",
        "      <th>MARRIED, CIVILIAN SPOUSE PRESENT</th>\n",
        "      <td> 92307</td>\n",
        "      <td> 98076.0</td>\n",
        "    </tr>\n",
        "    <tr>\n",
        "      <th>SEPARATED</th>\n",
        "      <td> 46250</td>\n",
        "      <td> 48000.0</td>\n",
        "    </tr>\n",
        "    <tr>\n",
        "      <th>WIDOWED</th>\n",
        "      <td> 80500</td>\n",
        "      <td> 88461.0</td>\n",
        "    </tr>\n",
        "    <tr>\n",
        "      <th>other</th>\n",
        "      <td> 61806</td>\n",
        "      <td> 62499.5</td>\n",
        "    </tr>\n",
        "  </tbody>\n",
        "</table>\n",
        "</div>"
       ],
       "metadata": {},
       "output_type": "pyout",
       "prompt_number": 159,
       "text": [
        "                                             4        8\n",
        "4      4                                               \n",
        "female MARRIED, CIVILIAN SPOUSE PRESENT  60000  60000.0\n",
        "       SEPARATED                         40100  40730.5\n",
        "       WIDOWED                           57646  61538.0\n",
        "       other                             46153  50000.0\n",
        "male   MARRIED, CIVILIAN SPOUSE PRESENT  92307  98076.0\n",
        "       SEPARATED                         46250  48000.0\n",
        "       WIDOWED                           80500  88461.0\n",
        "       other                             61806  62499.5"
       ]
      }
     ],
     "prompt_number": 159
    },
    {
     "cell_type": "code",
     "collapsed": false,
     "input": [
      "e.groupby([sex, bin_others(married, married_others)])[4].median().unstack(0).plot(kind='barh')"
     ],
     "language": "python",
     "metadata": {},
     "outputs": [
      {
       "metadata": {},
       "output_type": "pyout",
       "prompt_number": 164,
       "text": [
        "<matplotlib.axes.AxesSubplot at 0x116e62bd0>"
       ]
      },
      {
       "metadata": {},
       "output_type": "display_data",
       "png": "[encoded data removed]",
       "text": [
        "<matplotlib.figure.Figure at 0x11615b810>"
       ]
      }
     ],
     "prompt_number": 164
    }
   ],
   "metadata": {}
  }
 ]
}