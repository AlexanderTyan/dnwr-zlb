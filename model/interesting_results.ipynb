{
 "metadata": {
  "name": ""
 },
 "nbformat": 3,
 "nbformat_minor": 0,
 "worksheets": [
  {
   "cells": [
    {
     "cell_type": "code",
     "collapsed": false,
     "input": [
      "%pylab inline\n",
      "%load_ext autoreload\n",
      "%connect_info"
     ],
     "language": "python",
     "metadata": {},
     "outputs": [
      {
       "output_type": "stream",
       "stream": "stdout",
       "text": [
        "\n",
        "Welcome to pylab, a matplotlib-based Python environment [backend: module://IPython.kernel.zmq.pylab.backend_inline].\n",
        "For more information, type 'help(pylab)'.\n"
       ]
      },
      {
       "output_type": "stream",
       "stream": "stdout",
       "text": [
        "{\n",
        "  \"stdin_port\": 58586, \n",
        "  \"ip\": \"127.0.0.1\", \n",
        "  \"control_port\": 58587, \n",
        "  \"hb_port\": 58588, \n",
        "  \"key\": \"cdf8bdaf-fdeb-4546-a166-3c9eca9534d3\", \n",
        "  \"shell_port\": 58584, \n",
        "  \"transport\": \"tcp\", \n",
        "  \"iopub_port\": 58585\n",
        "}\n",
        "\n",
        "Paste the above JSON into a file, and connect with:\n",
        "    $> ipython <app> --existing <file>\n",
        "or, if you are local, you can connect with just:\n",
        "    $> ipython <app> --existing kernel-106582db-6ee1-4f88-97cb-beb7defa5332.json \n",
        "or even just:\n",
        "    $> ipython <app> --existing \n",
        "if this is the most recent IPython session you have started.\n"
       ]
      }
     ],
     "prompt_number": 1
    },
    {
     "cell_type": "code",
     "collapsed": false,
     "input": [
      "%autoreload\n",
      "\n",
      "import cPickle\n",
      "import pickle\n",
      "\n",
      "from scipy.stats import norm, lognorm\n",
      "\n",
      "from value_function import *\n",
      "from vf_iteration import ss_wage_flexible, ss_output_flexible, load_params"
     ],
     "language": "python",
     "metadata": {},
     "outputs": [],
     "prompt_number": 2
    },
    {
     "cell_type": "code",
     "collapsed": false,
     "input": [
      "np.random.seed(42)"
     ],
     "language": "python",
     "metadata": {},
     "outputs": [],
     "prompt_number": 3
    },
    {
     "cell_type": "code",
     "collapsed": false,
     "input": [
      "# Setup\n",
      "grid = np.linspace(0.1, 4, 100)\n",
      "fine_grid = np.linspace(.1, grid[-1], 10000)\n",
      "sigma = 0.2\n",
      "mu = -(sigma ** 2) / 2\n",
      "trunc = truncate_normal(norm(loc=mu, scale=sigma), .05, .95)\n",
      "shock = np.sort(np.exp(trunc.rvs(30)))\n",
      "fine_shock = np.sort(np.exp(trunc.rvs(1000)))  # need to deal with endoints\n",
      "params = load_params()\n",
      "gamma = params['gamma'][0]\n",
      "eta = params['eta'][0]"
     ],
     "language": "python",
     "metadata": {},
     "outputs": [],
     "prompt_number": 4
    },
    {
     "cell_type": "code",
     "collapsed": false,
     "input": [
      "exp(-.02)"
     ],
     "language": "python",
     "metadata": {},
     "outputs": [
      {
       "metadata": {},
       "output_type": "pyout",
       "prompt_number": 5,
       "text": [
        "0.98019867330675525"
       ]
      }
     ],
     "prompt_number": 5
    },
    {
     "cell_type": "code",
     "collapsed": false,
     "input": [
      "d = lognorm(sigma, shape=exp(mu))\n",
      "d.pdf(2)"
     ],
     "language": "python",
     "metadata": {},
     "outputs": [
      {
       "metadata": {},
       "output_type": "pyout",
       "prompt_number": 6,
       "text": [
        "0.002458237927553997"
       ]
      }
     ],
     "prompt_number": 6
    },
    {
     "cell_type": "code",
     "collapsed": false,
     "input": [
      "pd.DataFrame(np.log(d.rvs(100000))).hist(bins=40)"
     ],
     "language": "python",
     "metadata": {},
     "outputs": [
      {
       "metadata": {},
       "output_type": "pyout",
       "prompt_number": 7,
       "text": [
        "array([[<matplotlib.axes._subplots.AxesSubplot object at 0x10c458850>]], dtype=object)"
       ]
      },
      {
       "metadata": {},
       "output_type": "display_data",
       "png": "[encoded data removed]",
       "text": [
        "<matplotlib.figure.Figure at 0x10c458310>"
       ]
      }
     ],
     "prompt_number": 7
    },
    {
     "cell_type": "heading",
     "level": 2,
     "metadata": {},
     "source": [
      "Updated returns on bellmam"
     ]
    },
    {
     "cell_type": "code",
     "collapsed": false,
     "input": [
      "w0 = LinInterp(grid, -grid + 4)\n",
      "w = burn_in_vf(w0, maxiter=10, pi=.02)\n",
      "Tv, wage_schedule, res = bellman(w, u_, shock=shock, pi=.02)"
     ],
     "language": "python",
     "metadata": {},
     "outputs": [
      {
       "output_type": "stream",
       "stream": "stdout",
       "text": [
        "1 / 10\n",
        "2 / 10"
       ]
      },
      {
       "output_type": "stream",
       "stream": "stdout",
       "text": [
        "\n",
        "3 / 10"
       ]
      },
      {
       "output_type": "stream",
       "stream": "stdout",
       "text": [
        "\n",
        "4 / 10"
       ]
      },
      {
       "output_type": "stream",
       "stream": "stdout",
       "text": [
        "\n",
        "5 / 10"
       ]
      },
      {
       "output_type": "stream",
       "stream": "stdout",
       "text": [
        "\n",
        "6 / 10"
       ]
      },
      {
       "output_type": "stream",
       "stream": "stdout",
       "text": [
        "\n",
        "7 / 10"
       ]
      },
      {
       "output_type": "stream",
       "stream": "stdout",
       "text": [
        "\n",
        "8 / 10"
       ]
      },
      {
       "output_type": "stream",
       "stream": "stdout",
       "text": [
        "\n",
        "9 / 10"
       ]
      },
      {
       "output_type": "stream",
       "stream": "stdout",
       "text": [
        "\n",
        "10 / 10"
       ]
      },
      {
       "output_type": "stream",
       "stream": "stdout",
       "text": [
        "\n"
       ]
      }
     ],
     "prompt_number": 9
    },
    {
     "cell_type": "code",
     "collapsed": false,
     "input": [
      "fig = plt.figure(figsize=(19, 8))\n",
      "ax = fig.add_subplot(121)\n",
      "ax.set_xlabel(\"Shock\")\n",
      "l1 = ax.plot(fine_shock, wage_schedule(fine_shock), label='Wage Schedule: $w_t(Z_{it})$', c='r')\n",
      "ax.legend(loc=2)\n",
      "ax2 = fig.add_subplot(122)\n",
      "ax2.set_xlabel(\"Wage\")\n",
      "l2 = ax2.plot(fine_grid, wage_schedule.inverse()(fine_grid), label='$z_t(w)$')\n",
      "ax2.legend(loc=2)"
     ],
     "language": "python",
     "metadata": {},
     "outputs": [
      {
       "metadata": {},
       "output_type": "pyout",
       "prompt_number": 10,
       "text": [
        "<matplotlib.legend.Legend at 0x10c7f9350>"
       ]
      },
      {
       "metadata": {},
       "output_type": "display_data",
       "png": "[encoded data removed]",
       "text": [
        "<matplotlib.figure.Figure at 0x10c458550>"
       ]
      }
     ],
     "prompt_number": 10
    },
    {
     "cell_type": "code",
     "collapsed": false,
     "input": [
      "split = np.array(np.split(res, len(grid)))\n",
      "pan = pd.Panel(split, items=grid, major_axis=shock, minor_axis=['wage', 'shock', 'value', 'm1', 'm2'])\n",
      "pan.major_axis.name = 'shock'"
     ],
     "language": "python",
     "metadata": {},
     "outputs": [],
     "prompt_number": 17
    },
    {
     "cell_type": "code",
     "collapsed": false,
     "input": [
      "pan.shape"
     ],
     "language": "python",
     "metadata": {},
     "outputs": [
      {
       "metadata": {},
       "output_type": "pyout",
       "prompt_number": 18,
       "text": [
        "(100, 30, 5)"
       ]
      }
     ],
     "prompt_number": 18
    },
    {
     "cell_type": "code",
     "collapsed": false,
     "input": [
      "for i in range(10):\n",
      "    print i\n",
      "    Tv, wage_schedule, res = bellman(Tv, u_, shock=shock, pi=.02)\n",
      "    "
     ],
     "language": "python",
     "metadata": {},
     "outputs": [
      {
       "output_type": "stream",
       "stream": "stdout",
       "text": [
        "0\n",
        "1"
       ]
      },
      {
       "output_type": "stream",
       "stream": "stdout",
       "text": [
        "\n",
        "2"
       ]
      },
      {
       "output_type": "stream",
       "stream": "stdout",
       "text": [
        "\n",
        "3"
       ]
      },
      {
       "output_type": "stream",
       "stream": "stdout",
       "text": [
        "\n",
        "4"
       ]
      },
      {
       "output_type": "stream",
       "stream": "stdout",
       "text": [
        "\n",
        "5"
       ]
      },
      {
       "output_type": "stream",
       "stream": "stdout",
       "text": [
        "\n",
        "6"
       ]
      },
      {
       "output_type": "stream",
       "stream": "stdout",
       "text": [
        "\n",
        "7"
       ]
      },
      {
       "output_type": "stream",
       "stream": "stdout",
       "text": [
        "\n",
        "8"
       ]
      },
      {
       "output_type": "stream",
       "stream": "stdout",
       "text": [
        "\n",
        "9"
       ]
      },
      {
       "output_type": "stream",
       "stream": "stdout",
       "text": [
        "\n"
       ]
      }
     ],
     "prompt_number": 39
    },
    {
     "cell_type": "code",
     "collapsed": false,
     "input": [
      "fig = plt.figure()\n",
      "Tv.plot(c='r')"
     ],
     "language": "python",
     "metadata": {},
     "outputs": [
      {
       "metadata": {},
       "output_type": "pyout",
       "prompt_number": 40,
       "text": [
        "[<matplotlib.lines.Line2D at 0x10d5e0fd0>]"
       ]
      },
      {
       "metadata": {},
       "output_type": "display_data",
       "png": "[encoded data removed]",
       "text": [
        "<matplotlib.figure.Figure at 0x10d2b8410>"
       ]
      }
     ],
     "prompt_number": 40
    },
    {
     "cell_type": "code",
     "collapsed": false,
     "input": [
      "Tv2, ws2, res2 = bellman(Tv, u_, shock=shock)"
     ],
     "language": "python",
     "metadata": {},
     "outputs": [],
     "prompt_number": 44
    },
    {
     "cell_type": "code",
     "collapsed": false,
     "input": [
      "bellman??"
     ],
     "language": "python",
     "metadata": {},
     "outputs": [],
     "prompt_number": 46
    },
    {
     "cell_type": "code",
     "collapsed": false,
     "input": [
      "Tv2.plot()"
     ],
     "language": "python",
     "metadata": {},
     "outputs": [
      {
       "metadata": {},
       "output_type": "pyout",
       "prompt_number": 45,
       "text": [
        "[<matplotlib.lines.Line2D at 0x10d9e66d0>]"
       ]
      },
      {
       "metadata": {},
       "output_type": "display_data",
       "png": "[encoded data removed]",
       "text": [
        "<matplotlib.figure.Figure at 0x10cd559d0>"
       ]
      }
     ],
     "prompt_number": 45
    },
    {
     "cell_type": "code",
     "collapsed": false,
     "input": [
      "ax = plt.plot(Tv.X, Tv.Y, Tv2.X, Tv2.Y)"
     ],
     "language": "python",
     "metadata": {},
     "outputs": [
      {
       "metadata": {},
       "output_type": "display_data",
       "png": "[encoded data removed]",
       "text": [
        "<matplotlib.figure.Figure at 0x10cc1f050>"
       ]
      }
     ],
     "prompt_number": 42
    },
    {
     "cell_type": "code",
     "collapsed": false,
     "input": [
      "Tv2 - Tv"
     ],
     "language": "python",
     "metadata": {},
     "outputs": [
      {
       "metadata": {},
       "output_type": "pyout",
       "prompt_number": 43,
       "text": [
        "array([ 0.19562125,  0.19562125,  0.19562126,  0.19562125,  0.19562125,\n",
        "        0.19562125,  0.19562126,  0.19562125,  0.19562125,  0.19562126,\n",
        "        0.19562125,  0.19562126,  0.19562125,  0.19562125,  0.19562125,\n",
        "        0.19562125,  0.19562126,  0.19562125,  0.19562126,  0.19562126,\n",
        "        0.19562125,  0.19562125,  0.19563088,  0.19633981,  0.20195969,\n",
        "        0.21729788,  0.24371478,  0.28016237,  0.32449162,  0.37438635,\n",
        "        0.42775924,  0.4828941 ,  0.53847115,  0.59353389,  0.64742716,\n",
        "        0.69972693,  0.75017667,  0.79863719,  0.84504996,  0.88941123,\n",
        "        0.93175395,  0.97213504,  1.01062645,  1.04730888,  1.08226742,\n",
        "        1.11558855,  1.14735808,  1.17765975,  1.20657438,  1.23416584,\n",
        "        1.26050184,  1.28566019,  1.30971189,  1.33272548,  1.35475756,\n",
        "        1.37586521,  1.39610097,  1.41551233,  1.43414498,  1.45204103,\n",
        "        1.46923974,  1.48577764,  1.50168849,  1.51700508,  1.53175709,\n",
        "        1.54597274,  1.55967807,  1.57289858,  1.5856569 ,  1.5979248 ,\n",
        "        1.60976912,  1.6212147 ,  1.63161454,  1.64159524,  1.65122795,\n",
        "        1.65810461,  1.6644618 ,  1.67051488,  1.67269339,  1.67429503,\n",
        "        1.67562957,  1.6732077 ,  1.67024893,  1.66705552,  1.66077642,\n",
        "        1.65404392,  1.64710654,  1.63788003,  1.62829414,  1.61853466,\n",
        "        1.60723175,  1.59566014,  1.58394452,  1.57131158,  1.55848246,\n",
        "        1.54552578,  1.53214449,  1.51861939,  1.50497679,  1.49127051])"
       ]
      }
     ],
     "prompt_number": 43
    },
    {
     "cell_type": "heading",
     "level": 3,
     "metadata": {},
     "source": [
      "With Piecewise Cubics"
     ]
    },
    {
     "cell_type": "code",
     "collapsed": false,
     "input": [
      "#w0 = pchip(grid, -grid + 4)\n",
      "#w0.X = np.array(w0.xi)\n",
      "#w = burn_in_vf(w0, maxiter=10, cubic=True)\n",
      "Tv, wage_schedule, res = bellman(w, u_, shock=shock, cubic=True)\n",
      "with open('cubic_bellman.pck', 'wb') as f:\n",
      "    pickle.dump(Tv, f)\n",
      "\n",
      "with open('cubic_ws.pck', 'wb') as f:\n",
      "    pickle.dump(wage_schedule, f)\n",
      "\n",
      "with open('cubic_res.pck', 'wb') as f:\n",
      "    pickle.dump(res, f)"
     ],
     "language": "python",
     "metadata": {},
     "outputs": [],
     "prompt_number": 76
    },
    {
     "cell_type": "code",
     "collapsed": false,
     "input": [
      "with open('cubic_bellman.pck', 'wb') as f:\n",
      "    pickle.dump(Tv, f)"
     ],
     "language": "python",
     "metadata": {},
     "outputs": [],
     "prompt_number": 107
    },
    {
     "cell_type": "code",
     "collapsed": false,
     "input": [
      "plt.plot(fine_grid, Tv(fine_grid))"
     ],
     "language": "python",
     "metadata": {},
     "outputs": [
      {
       "metadata": {},
       "output_type": "pyout",
       "prompt_number": 113,
       "text": [
        "[<matplotlib.lines.Line2D at 0x116bd9390>]"
       ]
      },
      {
       "metadata": {},
       "output_type": "display_data",
       "png": "[encoded data removed]",
       "text": [
        "<matplotlib.figure.Figure at 0x115057850>"
       ]
      }
     ],
     "prompt_number": 113
    },
    {
     "cell_type": "code",
     "collapsed": false,
     "input": [
      "plt.plot(fine_shock, wage_schedule(fine_shock))"
     ],
     "language": "python",
     "metadata": {},
     "outputs": [
      {
       "metadata": {},
       "output_type": "pyout",
       "prompt_number": 114,
       "text": [
        "[<matplotlib.lines.Line2D at 0x116ef2d50>]"
       ]
      },
      {
       "metadata": {},
       "output_type": "display_data",
       "png": "[encoded data removed]",
       "text": [
        "<matplotlib.figure.Figure at 0x115038610>"
       ]
      }
     ],
     "prompt_number": 114
    },
    {
     "cell_type": "heading",
     "level": 3,
     "metadata": {},
     "source": [
      "Wage Setting Schedules"
     ]
    },
    {
     "cell_type": "heading",
     "level": 4,
     "metadata": {},
     "source": [
      "Flexible Case.  Should be the same?  Or should it not?  Seems like if you have a high shock today you wouldn't want to raise your wage all the way, since tomorrow you might get a low shock and want to lower your wage."
     ]
    },
    {
     "cell_type": "code",
     "collapsed": false,
     "input": [
      "flex = ss_wage_flexible(params, shock)"
     ],
     "language": "python",
     "metadata": {},
     "outputs": []
    },
    {
     "cell_type": "code",
     "collapsed": false,
     "input": [
      "fig = plt.figure(figsize=(13,7))\n",
      "ax = fig.add_subplot(211)\n",
      "l1 = ax.plot(shock, wage_schedule(shock), label='Wage Schedule $W_t(Z_{it})$')\n",
      "l2 = ax.plot(shock, ss_wage_flexible(params, shock), label='$\\hat{w}_{it}(Z)$')\n",
      "plt.legend(loc=2)\n",
      "ax2 = fig.add_subplot(212)\n",
      "l3 = ax2.plot(shock, wage_schedule(shock) - ss_wage_flexible(params, shock), c='r', label='Difference')\n",
      "plt.legend()"
     ],
     "language": "python",
     "metadata": {},
     "outputs": [
      {
       "metadata": {},
       "output_type": "pyout",
       "prompt_number": 38,
       "text": [
        "<matplotlib.legend.Legend at 0x10d851d50>"
       ]
      },
      {
       "metadata": {},
       "output_type": "display_data",
       "png": "[encoded data removed]",
       "text": [
        "<matplotlib.figure.Figure at 0x10cb79e10>"
       ]
      }
     ],
     "prompt_number": 38
    },
    {
     "cell_type": "code",
     "collapsed": false,
     "input": [],
     "language": "python",
     "metadata": {},
     "outputs": [],
     "prompt_number": 24
    },
    {
     "cell_type": "code",
     "collapsed": false,
     "input": [
      "plt.plot(shock, flex)"
     ],
     "language": "python",
     "metadata": {},
     "outputs": [
      {
       "metadata": {},
       "output_type": "pyout",
       "prompt_number": 25,
       "text": [
        "[<matplotlib.lines.Line2D at 0x10cd75d90>]"
       ]
      },
      {
       "metadata": {},
       "output_type": "display_data",
       "png": "[encoded data removed]",
       "text": [
        "<matplotlib.figure.Figure at 0x10cd5d6d0>"
       ]
      }
     ],
     "prompt_number": 25
    },
    {
     "cell_type": "heading",
     "level": 5,
     "metadata": {},
     "source": [
      "With Rigidities.  Rigid should be lower."
     ]
    },
    {
     "cell_type": "code",
     "collapsed": false,
     "input": [
      "Tv.plot()"
     ],
     "language": "python",
     "metadata": {},
     "outputs": [
      {
       "metadata": {},
       "output_type": "pyout",
       "prompt_number": 128,
       "text": [
        "[<matplotlib.lines.Line2D at 0x10e79b350>]"
       ]
      },
      {
       "metadata": {},
       "output_type": "display_data",
       "png": "[encoded data removed]",
       "text": [
        "<matplotlib.figure.Figure at 0x116be0310>"
       ]
      }
     ],
     "prompt_number": 128
    },
    {
     "cell_type": "code",
     "collapsed": false,
     "input": [
      "# m1 is free, m2 is rigid.  This seems wrong...\n",
      "pan.mean(axis='items')[['m1', 'm2']].plot()"
     ],
     "language": "python",
     "metadata": {},
     "outputs": []
    },
    {
     "cell_type": "heading",
     "level": 3,
     "metadata": {},
     "source": [
      "Compare free $(\\lambda = 1)\\ $ with mostly rigid $(\\lambda = 0.9)$"
     ]
    },
    {
     "cell_type": "code",
     "collapsed": false,
     "input": [
      "w0 = LinInterp(grid, -grid + 4)\n",
      "Tv_free, ws_free, res_free = bellman(w0, u_, shock=shock, lambda_=0)\n",
      "Tv_res,  ws_res,  res_res  = bellman(w0, u_, shock=shock, lambda_=.9)"
     ],
     "language": "python",
     "metadata": {},
     "outputs": [],
     "prompt_number": 105
    },
    {
     "cell_type": "code",
     "collapsed": false,
     "input": [
      "# Now recurse\n",
      "Tv_free, ws_free, res_free = bellman(Tv_free, u_, shock=shock, lambda_=0)\n",
      "Tv_res,  ws_res,  res_res  = bellman(Tv_res, u_, shock=shock, lambda_=.9)"
     ],
     "language": "python",
     "metadata": {},
     "outputs": [],
     "prompt_number": 120
    },
    {
     "cell_type": "code",
     "collapsed": false,
     "input": [
      "plt.plot(grid, Tv_free - Tv_res)"
     ],
     "language": "python",
     "metadata": {},
     "outputs": [
      {
       "metadata": {},
       "output_type": "pyout",
       "prompt_number": 117,
       "text": [
        "[<matplotlib.lines.Line2D at 0x107fae610>]"
       ]
      },
      {
       "metadata": {},
       "output_type": "display_data",
       "png": "[encoded data removed]",
       "text": [
        "<matplotlib.figure.Figure at 0x1070c02d0>"
       ]
      }
     ],
     "prompt_number": 117
    },
    {
     "cell_type": "code",
     "collapsed": false,
     "input": [
      "Tv_free.plot()"
     ],
     "language": "python",
     "metadata": {},
     "outputs": [
      {
       "metadata": {},
       "output_type": "pyout",
       "prompt_number": 123,
       "text": [
        "[<matplotlib.lines.Line2D at 0x10817ca10>]"
       ]
      },
      {
       "metadata": {},
       "output_type": "display_data",
       "png": "[encoded data removed]",
       "text": [
        "<matplotlib.figure.Figure at 0x1080c69d0>"
       ]
      }
     ],
     "prompt_number": 123
    },
    {
     "cell_type": "code",
     "collapsed": false,
     "input": [
      "Tv_res.plot()"
     ],
     "language": "python",
     "metadata": {},
     "outputs": [
      {
       "metadata": {},
       "output_type": "pyout",
       "prompt_number": 124,
       "text": [
        "[<matplotlib.lines.Line2D at 0x108271510>]"
       ]
      },
      {
       "metadata": {},
       "output_type": "display_data",
       "png": "[encoded data removed]",
       "text": [
        "<matplotlib.figure.Figure at 0x107e57290>"
       ]
      }
     ],
     "prompt_number": 124
    },
    {
     "cell_type": "markdown",
     "metadata": {},
     "source": [
      "Now deal with the rest."
     ]
    },
    {
     "cell_type": "code",
     "collapsed": false,
     "input": [
      "split_free = np.array(np.split(res_free, len(grid)))\n",
      "split_res  = np.array(np.split(res_res, len(grid)))"
     ],
     "language": "python",
     "metadata": {},
     "outputs": [],
     "prompt_number": 132
    },
    {
     "cell_type": "code",
     "collapsed": false,
     "input": [
      "#pan = pd.Panel(split, items=grid, major_axis=shock, minor_axis=['wage', 'shock', 'value', 'm1', 'm2'])\n",
      "#pan.major_axis.name = 'shock'\n",
      "pan_free = pd.Panel(split_free, items=grid, major_axis=shock, minor_axis=['wage', 'shock', 'value', 'm1', 'm2'])\n",
      "pan_free.major_axis.name = 'shock'\n",
      "pan_res = pd.Panel(split_res, items=grid, major_axis=shock, minor_axis=['wage', 'shock', 'value', 'm1', 'm2'])\n",
      "pan_res.major_axis.name = 'shock'"
     ],
     "language": "python",
     "metadata": {},
     "outputs": [],
     "prompt_number": 133
    },
    {
     "cell_type": "code",
     "collapsed": false,
     "input": [
      "pan_free.iloc[0].mean(0)"
     ],
     "language": "python",
     "metadata": {},
     "outputs": [
      {
       "metadata": {},
       "output_type": "pyout",
       "prompt_number": 141,
       "text": [
        "wage     0.100000\n",
        "shock    0.959017\n",
        "value    7.260165\n",
        "m1       0.995010\n",
        "m2       0.995010\n",
        "dtype: float64"
       ]
      }
     ],
     "prompt_number": 141
    },
    {
     "cell_type": "code",
     "collapsed": false,
     "input": [
      "(pan_free.mean(1).loc['m2']).plot()"
     ],
     "language": "python",
     "metadata": {},
     "outputs": [
      {
       "metadata": {},
       "output_type": "pyout",
       "prompt_number": 154,
       "text": [
        "<matplotlib.axes._subplots.AxesSubplot at 0x1086c20d0>"
       ]
      },
      {
       "metadata": {},
       "output_type": "display_data",
       "png": "[encoded data removed]",
       "text": [
        "<matplotlib.figure.Figure at 0x108464910>"
       ]
      }
     ],
     "prompt_number": 154
    },
    {
     "cell_type": "code",
     "collapsed": false,
     "input": [
      "pan_free.mean(1).loc['m2'].plot()"
     ],
     "language": "python",
     "metadata": {},
     "outputs": [
      {
       "metadata": {},
       "output_type": "pyout",
       "prompt_number": 153,
       "text": [
        "<matplotlib.axes._subplots.AxesSubplot at 0x1084aad50>"
       ]
      },
      {
       "metadata": {},
       "output_type": "display_data",
       "png": "[encoded data removed]",
       "text": [
        "<matplotlib.figure.Figure at 0x108660f50>"
       ]
      }
     ],
     "prompt_number": 153
    },
    {
     "cell_type": "code",
     "collapsed": false,
     "input": [
      "ax = wage_schedule.plot()[0]"
     ],
     "language": "python",
     "metadata": {},
     "outputs": [
      {
       "metadata": {},
       "output_type": "display_data",
       "png": "[encoded data removed]",
       "text": [
        "<matplotlib.figure.Figure at 0x108fc6850>"
       ]
      }
     ],
     "prompt_number": 185
    },
    {
     "cell_type": "code",
     "collapsed": false,
     "input": [],
     "language": "python",
     "metadata": {},
     "outputs": [
      {
       "metadata": {},
       "output_type": "pyout",
       "prompt_number": 198,
       "text": [
        "[<matplotlib.axes._subplots.AxesSubplot at 0x1092a5bd0>,\n",
        " <matplotlib.axes._subplots.AxesSubplot at 0x1092a5bd0>,\n",
        " <matplotlib.axes._subplots.AxesSubplot at 0x1092a5bd0>,\n",
        " <matplotlib.axes._subplots.AxesSubplot at 0x1092a5bd0>,\n",
        " <matplotlib.axes._subplots.AxesSubplot at 0x1092a5bd0>,\n",
        " <matplotlib.axes._subplots.AxesSubplot at 0x1092a5bd0>,\n",
        " <matplotlib.axes._subplots.AxesSubplot at 0x1092a5bd0>,\n",
        " <matplotlib.axes._subplots.AxesSubplot at 0x1092a5bd0>,\n",
        " <matplotlib.axes._subplots.AxesSubplot at 0x1092a5bd0>,\n",
        " <matplotlib.axes._subplots.AxesSubplot at 0x1092a5bd0>]"
       ]
      },
      {
       "metadata": {},
       "output_type": "display_data",
       "png": "[encoded data removed]",
       "text": [
        "<matplotlib.figure.Figure at 0x1094e71d0>"
       ]
      }
     ],
     "prompt_number": 198
    },
    {
     "cell_type": "code",
     "collapsed": false,
     "input": [
      "v = Tv"
     ],
     "language": "python",
     "metadata": {},
     "outputs": [],
     "prompt_number": 200
    },
    {
     "cell_type": "code",
     "collapsed": false,
     "input": [
      "for i in range(20):\n",
      "    print i\n",
      "    Tv, wage_schedule, res = bellman(v, u_, shock=shock)\n",
      "    print(max(np.abs(Tv - v)))\n",
      "    v = Tv"
     ],
     "language": "python",
     "metadata": {},
     "outputs": [
      {
       "output_type": "stream",
       "stream": "stdout",
       "text": [
        "0\n",
        "0.0735524726016"
       ]
      },
      {
       "output_type": "stream",
       "stream": "stdout",
       "text": [
        "\n",
        "1\n",
        "0.0706103736975"
       ]
      },
      {
       "output_type": "stream",
       "stream": "stdout",
       "text": [
        "\n",
        "2\n",
        "0.0677859587495"
       ]
      },
      {
       "output_type": "stream",
       "stream": "stdout",
       "text": [
        "\n",
        "3\n",
        "0.0650745203996"
       ]
      },
      {
       "output_type": "stream",
       "stream": "stdout",
       "text": [
        "\n",
        "4\n",
        "0.0624715395836"
       ]
      },
      {
       "output_type": "stream",
       "stream": "stdout",
       "text": [
        "\n",
        "5\n",
        "0.0599726780003"
       ]
      },
      {
       "output_type": "stream",
       "stream": "stdout",
       "text": [
        "\n",
        "6\n",
        "0.0575737708802"
       ]
      },
      {
       "output_type": "stream",
       "stream": "stdout",
       "text": [
        "\n",
        "7\n",
        "0.055270820045"
       ]
      },
      {
       "output_type": "stream",
       "stream": "stdout",
       "text": [
        "\n",
        "8\n",
        "0.0530599872433"
       ]
      },
      {
       "output_type": "stream",
       "stream": "stdout",
       "text": [
        "\n",
        "9\n",
        "0.0509375877536"
       ]
      },
      {
       "output_type": "stream",
       "stream": "stdout",
       "text": [
        "\n",
        "10\n",
        "0.0489000842434"
       ]
      },
      {
       "output_type": "stream",
       "stream": "stdout",
       "text": [
        "\n",
        "11\n",
        "0.0469440808737"
       ]
      },
      {
       "output_type": "stream",
       "stream": "stdout",
       "text": [
        "\n",
        "12\n",
        "0.0450663176387"
       ]
      },
      {
       "output_type": "stream",
       "stream": "stdout",
       "text": [
        "\n",
        "13\n",
        "0.0432636649332"
       ]
      },
      {
       "output_type": "stream",
       "stream": "stdout",
       "text": [
        "\n",
        "14\n",
        "0.0415331183361"
       ]
      },
      {
       "output_type": "stream",
       "stream": "stdout",
       "text": [
        "\n",
        "15\n",
        "0.0398717936026"
       ]
      },
      {
       "output_type": "stream",
       "stream": "stdout",
       "text": [
        "\n",
        "16\n",
        "0.0382769218585"
       ]
      },
      {
       "output_type": "stream",
       "stream": "stdout",
       "text": [
        "\n",
        "17\n",
        "0.0367458449841"
       ]
      },
      {
       "output_type": "stream",
       "stream": "stdout",
       "text": [
        "\n",
        "18\n",
        "0.0352760111847"
       ]
      },
      {
       "output_type": "stream",
       "stream": "stdout",
       "text": [
        "\n",
        "19\n",
        "0.0338649707373"
       ]
      },
      {
       "output_type": "stream",
       "stream": "stdout",
       "text": [
        "\n"
       ]
      }
     ],
     "prompt_number": 203
    },
    {
     "cell_type": "code",
     "collapsed": false,
     "input": [
      "fig = plt.figure(figsize=(13, 7))\n",
      "[wage_schedule.inverse().plot(label='$z_t(w)$'), wage_schedule.plot(label='$w_t(Z)$')]\n",
      "plt.legend()"
     ],
     "language": "python",
     "metadata": {},
     "outputs": [
      {
       "metadata": {},
       "output_type": "pyout",
       "prompt_number": 144,
       "text": [
        "<matplotlib.legend.Legend at 0x1173bf0d0>"
       ]
      },
      {
       "metadata": {},
       "output_type": "display_data",
       "png": "[encoded data removed]",
       "text": [
        "<matplotlib.figure.Figure at 0x1173c1710>"
       ]
      }
     ],
     "prompt_number": 144
    },
    {
     "cell_type": "code",
     "collapsed": false,
     "input": [
      "wage_schedule(np.linspace(.92, 1.06, 1000))"
     ],
     "language": "python",
     "metadata": {},
     "outputs": [
      {
       "metadata": {},
       "output_type": "pyout",
       "prompt_number": 275,
       "text": [
        "array([ 0.99030665,  0.99033205,  0.99035744,  0.99038284,  0.99040823,\n",
        "        0.99043363,  0.99045903,  0.99048442,  0.99050982,  0.99053521,\n",
        "        0.99056061,  0.990586  ,  0.9906114 ,  0.9906368 ,  0.99066219,\n",
        "        0.99068759,  0.99071298,  0.99073838,  0.99076378,  0.99078917,\n",
        "        0.99081457,  0.99083996,  0.99086536,  0.99089076,  0.99091615,\n",
        "        0.99094155,  0.99096694,  0.99099234,  0.99101773,  0.99104313,\n",
        "        0.99106853,  0.99109392,  0.99111932,  0.99114471,  0.99116972,\n",
        "        0.99119464,  0.99121955,  0.99124447,  0.99126939,  0.9912943 ,\n",
        "        0.99131922,  0.99134413,  0.99136905,  0.99139397,  0.99141888,\n",
        "        0.9914438 ,  0.99146872,  0.99149363,  0.99151855,  0.99154347,\n",
        "        0.99156838,  0.9915933 ,  0.99161821,  0.99164313,  0.99166805,\n",
        "        0.99169296,  0.99171788,  0.9917428 ,  0.99176771,  0.99179263,\n",
        "        0.99181754,  0.99184246,  0.99186738,  0.99189229,  0.99191721,\n",
        "        0.99194213,  0.99196704,  0.99199196,  0.99201687,  0.99204179,\n",
        "        0.99206671,  0.99209162,  0.99211654,  0.99214146,  0.99216637,\n",
        "        0.99219129,  0.99221621,  0.99224112,  0.99226604,  0.99229095,\n",
        "        0.99231587,  0.99234079,  0.9923657 ,  0.99239062,  0.99241554,\n",
        "        0.99244045,  0.99246537,  0.99249028,  0.9925152 ,  0.99254012,\n",
        "        0.99256503,  0.99258995,  0.99261487,  0.99263978,  0.9926647 ,\n",
        "        0.99268962,  0.99271453,  0.99273945,  0.99276436,  0.99278928,\n",
        "        0.9928142 ,  0.99283911,  0.99286403,  0.99288895,  0.99291386,\n",
        "        0.99293878,  0.99296369,  0.99298861,  0.99301353,  0.99303844,\n",
        "        0.9930633 ,  0.99308808,  0.99311286,  0.99313764,  0.99316242,\n",
        "        0.9931872 ,  0.99321198,  0.99323676,  0.99326154,  0.99328632,\n",
        "        0.9933111 ,  0.99333583,  0.99336041,  0.99338499,  0.99340958,\n",
        "        0.99343416,  0.99345874,  0.99348332,  0.99350791,  0.99353249,\n",
        "        0.99355707,  0.99358165,  0.99360624,  0.99363082,  0.9936554 ,\n",
        "        0.99367998,  0.99370457,  0.99372915,  0.99375373,  0.99377831,\n",
        "        0.99380289,  0.99382748,  0.99385206,  0.99387664,  0.99390122,\n",
        "        0.99392581,  0.99395039,  0.99397497,  0.99399955,  0.99402414,\n",
        "        0.99404872,  0.9940733 ,  0.99409788,  0.99412247,  0.99414705,\n",
        "        0.99417163,  0.99419621,  0.9942208 ,  0.99424538,  0.99426996,\n",
        "        0.99429454,  0.99431913,  0.99434371,  0.99436829,  0.99439287,\n",
        "        0.99441746,  0.99444204,  0.99446662,  0.9944912 ,  0.99451578,\n",
        "        0.99454037,  0.99456495,  0.99458953,  0.99461411,  0.9946387 ,\n",
        "        0.99466328,  0.99468786,  0.99471244,  0.99473703,  0.99476161,\n",
        "        0.99478619,  0.99481077,  0.99483536,  0.99485994,  0.99488452,\n",
        "        0.9949091 ,  0.99493369,  0.99495827,  0.99498285,  0.99500743,\n",
        "        0.99503202,  0.9950566 ,  0.99508118,  0.99510576,  0.99513034,\n",
        "        0.99515493,  0.99517951,  0.99520409,  0.99522867,  0.99525326,\n",
        "        0.99527784,  0.99530242,  0.995327  ,  0.99535159,  0.99537617,\n",
        "        0.99540075,  0.99542533,  0.99544992,  0.9954745 ,  0.99549908,\n",
        "        0.99552366,  0.99554825,  0.99557283,  0.99559741,  0.99562199,\n",
        "        0.99564658,  0.99567116,  0.99569574,  0.99572032,  0.99574491,\n",
        "        0.99576949,  0.99579407,  0.99581865,  0.99584323,  0.99586782,\n",
        "        0.9958924 ,  0.99591698,  0.99594156,  0.99596615,  0.99599073,\n",
        "        0.99601531,  0.99603989,  0.99606448,  0.99608906,  0.99611364,\n",
        "        0.99613822,  0.99616281,  0.99618739,  0.99621197,  0.99623643,\n",
        "        0.99626042,  0.99628441,  0.99630839,  0.99633238,  0.99635637,\n",
        "        0.99638036,  0.99640434,  0.99642833,  0.99645232,  0.99647631,\n",
        "        0.99650029,  0.99652428,  0.99654827,  0.99657226,  0.99659624,\n",
        "        0.99662023,  0.99664422,  0.9966682 ,  0.99669219,  0.99671618,\n",
        "        0.99674017,  0.99676415,  0.99678814,  0.99681213,  0.99683612,\n",
        "        0.9968601 ,  0.99688409,  0.99690808,  0.99693207,  0.99695605,\n",
        "        0.99698004,  0.99700403,  0.99702802,  0.997052  ,  0.99707599,\n",
        "        0.99709998,  0.99712397,  0.99714795,  0.99717194,  0.99719593,\n",
        "        0.99721992,  0.9972439 ,  0.99726789,  0.99729188,  0.99731587,\n",
        "        0.99733985,  0.99736384,  0.99738783,  0.99741182,  0.9974358 ,\n",
        "        0.99745979,  0.99748378,  0.99750776,  0.99753175,  0.99755574,\n",
        "        0.99757973,  0.99760371,  0.9976277 ,  0.99765169,  0.99767568,\n",
        "        0.99769966,  0.99772365,  0.99774764,  0.99777163,  0.99779561,\n",
        "        0.9978196 ,  0.99784359,  0.99786758,  0.99789156,  0.99791555,\n",
        "        0.99793954,  0.99796353,  0.99798751,  0.9980115 ,  0.99803549,\n",
        "        0.99805948,  0.99808346,  0.99810745,  0.99813144,  0.99815543,\n",
        "        0.99817941,  0.9982034 ,  0.99822739,  0.99825137,  0.99827536,\n",
        "        0.99829935,  0.99832334,  0.99834732,  0.99837131,  0.9983953 ,\n",
        "        0.99841929,  0.99844327,  0.99846726,  0.99849125,  0.99851524,\n",
        "        0.99853922,  0.99856321,  0.9985872 ,  0.99861119,  0.99863517,\n",
        "        0.99865916,  0.99868315,  0.99870714,  0.99873112,  0.99875511,\n",
        "        0.9987791 ,  0.99880309,  0.99882707,  0.99885106,  0.99887505,\n",
        "        0.99889904,  0.99892302,  0.99894701,  0.998971  ,  0.99899499,\n",
        "        0.99901897,  0.99904296,  0.99906695,  0.99909093,  0.99911492,\n",
        "        0.99913891,  0.9991629 ,  0.99918688,  0.99921087,  0.99923486,\n",
        "        0.99925885,  0.99928283,  0.99930682,  0.99933081,  0.9993548 ,\n",
        "        0.99937878,  0.99940277,  0.99942676,  0.99945075,  0.99947473,\n",
        "        0.99949872,  0.99952271,  0.9995467 ,  0.99957068,  0.99959467,\n",
        "        0.99961866,  0.99964265,  0.99966663,  0.99969062,  0.99971461,\n",
        "        0.9997386 ,  0.99976258,  0.99978657,  0.99981056,  0.99983455,\n",
        "        0.99985853,  0.99988252,  0.99990651,  0.99993049,  0.99995448,\n",
        "        0.99997847,  1.00000246,  1.00002644,  1.00005043,  1.00007442,\n",
        "        1.00009841,  1.00012239,  1.00014638,  1.00017037,  1.00019436,\n",
        "        1.00021834,  1.00024233,  1.00026632,  1.00029031,  1.00031429,\n",
        "        1.00033828,  1.00036227,  1.00038626,  1.00041024,  1.00043423,\n",
        "        1.00045822,  1.00048221,  1.00050619,  1.00053018,  1.00055417,\n",
        "        1.00057816,  1.00060214,  1.00062613,  1.00065012,  1.00067411,\n",
        "        1.00069809,  1.00072208,  1.00074607,  1.00077005,  1.00079404,\n",
        "        1.00081803,  1.00084202,  1.000866  ,  1.00088999,  1.00091398,\n",
        "        1.00093797,  1.00096195,  1.00098594,  1.00100993,  1.00103392,\n",
        "        1.0010579 ,  1.00108189,  1.00110588,  1.00112987,  1.00115385,\n",
        "        1.00117784,  1.00120183,  1.00122582,  1.0012498 ,  1.00127379,\n",
        "        1.00129778,  1.00132177,  1.00134575,  1.00136974,  1.00139373,\n",
        "        1.00141772,  1.0014417 ,  1.00146569,  1.00148968,  1.00151367,\n",
        "        1.00153765,  1.00156164,  1.00158563,  1.00160961,  1.0016336 ,\n",
        "        1.00165759,  1.00168158,  1.00170556,  1.00172955,  1.00175354,\n",
        "        1.00177753,  1.00180151,  1.0018255 ,  1.00184949,  1.00187348,\n",
        "        1.00189746,  1.00192145,  1.00194544,  1.00196943,  1.00199341,\n",
        "        1.0020174 ,  1.00204139,  1.00206538,  1.00208936,  1.00211335,\n",
        "        1.00213734,  1.00216133,  1.00218531,  1.0022093 ,  1.00223329,\n",
        "        1.00225728,  1.00228126,  1.00230525,  1.00232924,  1.00235323,\n",
        "        1.00237721,  1.0024012 ,  1.00242519,  1.00244917,  1.00247316,\n",
        "        1.00249715,  1.00252114,  1.00254512,  1.00256911,  1.0025931 ,\n",
        "        1.00261709,  1.00264107,  1.00266506,  1.00268905,  1.00271304,\n",
        "        1.00273702,  1.00276101,  1.002785  ,  1.00280899,  1.00283297,\n",
        "        1.00285696,  1.00288095,  1.00290494,  1.00292892,  1.00295291,\n",
        "        1.0029769 ,  1.00300089,  1.00302487,  1.00304886,  1.00307285,\n",
        "        1.00309667,  1.00312017,  1.00314366,  1.00316716,  1.00319065,\n",
        "        1.00321415,  1.00323765,  1.00326114,  1.00328464,  1.00330814,\n",
        "        1.00333163,  1.00335513,  1.00337862,  1.00340212,  1.00342562,\n",
        "        1.00344911,  1.00347261,  1.0034961 ,  1.0035196 ,  1.0035431 ,\n",
        "        1.00356659,  1.00359009,  1.00361358,  1.00363708,  1.00366058,\n",
        "        1.00368407,  1.00370757,  1.00373106,  1.00375456,  1.00377806,\n",
        "        1.00380155,  1.00382505,  1.00384854,  1.00387204,  1.00389554,\n",
        "        1.00391903,  1.00394253,  1.00396602,  1.00398952,  1.00401302,\n",
        "        1.00403651,  1.00406001,  1.0040835 ,  1.004107  ,  1.0041305 ,\n",
        "        1.00415399,  1.00417749,  1.00420098,  1.00422448,  1.00424798,\n",
        "        1.00427147,  1.00429497,  1.00431846,  1.00434196,  1.00436546,\n",
        "        1.00438895,  1.00441245,  1.00443594,  1.00445944,  1.00448294,\n",
        "        1.00450643,  1.00452993,  1.00455324,  1.0045764 ,  1.00459956,\n",
        "        1.00462271,  1.00464587,  1.00466903,  1.00469218,  1.00471534,\n",
        "        1.0047385 ,  1.00476166,  1.00478481,  1.00480797,  1.00483113,\n",
        "        1.00485429,  1.00487744,  1.0049006 ,  1.00492376,  1.00494691,\n",
        "        1.00497007,  1.00499323,  1.00501639,  1.00503954,  1.0050627 ,\n",
        "        1.00508586,  1.00510901,  1.00513217,  1.00515533,  1.00517849,\n",
        "        1.00520164,  1.0052248 ,  1.00524796,  1.00527112,  1.00529427,\n",
        "        1.00531743,  1.00534059,  1.00536374,  1.0053869 ,  1.00541006,\n",
        "        1.00543322,  1.00545637,  1.00547953,  1.00550269,  1.00552584,\n",
        "        1.005549  ,  1.00557216,  1.00559532,  1.00561847,  1.00564163,\n",
        "        1.00566479,  1.00568795,  1.0057111 ,  1.00573426,  1.00575742,\n",
        "        1.00578057,  1.00580373,  1.00582689,  1.00585005,  1.0058732 ,\n",
        "        1.00589636,  1.00591952,  1.00594268,  1.00596583,  1.00598899,\n",
        "        1.00601215,  1.0060353 ,  1.00605846,  1.00608162,  1.00610478,\n",
        "        1.00612793,  1.00615109,  1.00617425,  1.0061974 ,  1.00622056,\n",
        "        1.00624372,  1.00626688,  1.00629003,  1.00631319,  1.00633635,\n",
        "        1.00635951,  1.00638266,  1.00640582,  1.00642898,  1.00645213,\n",
        "        1.00647529,  1.00649845,  1.00652161,  1.00654476,  1.00656792,\n",
        "        1.00659108,  1.00661423,  1.00663739,  1.00666055,  1.00668371,\n",
        "        1.00670686,  1.00673002,  1.00675318,  1.00677634,  1.00679949,\n",
        "        1.00682265,  1.00684581,  1.00686896,  1.00689212,  1.00691528,\n",
        "        1.00693844,  1.00696159,  1.00698475,  1.00700791,  1.00703106,\n",
        "        1.00705422,  1.00707738,  1.00710054,  1.00712369,  1.00714685,\n",
        "        1.00717001,  1.00719317,  1.00721632,  1.00723948,  1.00726264,\n",
        "        1.00728579,  1.00730895,  1.00733211,  1.00735527,  1.00737842,\n",
        "        1.00740158,  1.00742474,  1.0074479 ,  1.00747105,  1.00749421,\n",
        "        1.00751737,  1.00754052,  1.00756368,  1.00758684,  1.00761   ,\n",
        "        1.00763315,  1.00765631,  1.00767947,  1.00770262,  1.00772578,\n",
        "        1.00774894,  1.0077721 ,  1.00779525,  1.00781841,  1.00784157,\n",
        "        1.00786473,  1.00788788,  1.00791104,  1.0079342 ,  1.00795735,\n",
        "        1.00798051,  1.00800367,  1.00802683,  1.00804998,  1.00807314,\n",
        "        1.0080963 ,  1.00811945,  1.00814261,  1.00816577,  1.00818893,\n",
        "        1.00821208,  1.00823524,  1.0082584 ,  1.00828156,  1.00830471,\n",
        "        1.00832787,  1.00835103,  1.00837418,  1.00839734,  1.0084205 ,\n",
        "        1.00844366,  1.00846681,  1.00848997,  1.00851313,  1.00853628,\n",
        "        1.00855944,  1.0085826 ,  1.00860576,  1.00862891,  1.00865207,\n",
        "        1.00867523,  1.00869839,  1.00872154,  1.0087447 ,  1.00876786,\n",
        "        1.00879101,  1.00881417,  1.00883733,  1.00886049,  1.00888364,\n",
        "        1.0089068 ,  1.00892996,  1.00895288,  1.00897566,  1.00899844,\n",
        "        1.00902122,  1.009044  ,  1.00906679,  1.00908957,  1.00911235,\n",
        "        1.00913513,  1.00915791,  1.0091807 ,  1.00920348,  1.00922626,\n",
        "        1.00924904,  1.00927182,  1.00929461,  1.00931739,  1.00934017,\n",
        "        1.00936295,  1.00938574,  1.00940852,  1.0094313 ,  1.00945408,\n",
        "        1.00947686,  1.00949965,  1.00952243,  1.00954521,  1.00956799,\n",
        "        1.00959077,  1.00961356,  1.00963634,  1.00965912,  1.0096819 ,\n",
        "        1.00970468,  1.00972747,  1.00975025,  1.00977303,  1.00979581,\n",
        "        1.00981859,  1.00984138,  1.00986416,  1.00988694,  1.00990972,\n",
        "        1.00993251,  1.00995529,  1.00997807,  1.01000085,  1.01002363,\n",
        "        1.01004642,  1.0100692 ,  1.01009198,  1.01011476,  1.01013754,\n",
        "        1.01016033,  1.01018311,  1.01020589,  1.01022867,  1.01025145,\n",
        "        1.01027424,  1.01029702,  1.0103198 ,  1.01034258,  1.01036536,\n",
        "        1.01038815,  1.01041093,  1.01043371,  1.01045649,  1.01047928,\n",
        "        1.01050206,  1.01052484,  1.01054762,  1.0105704 ,  1.01059319,\n",
        "        1.01061597,  1.01063875,  1.01066153,  1.01068431,  1.0107071 ,\n",
        "        1.01072988,  1.01075266,  1.01077544,  1.01079822,  1.01082101,\n",
        "        1.01084379,  1.01086657,  1.01088935,  1.01091213,  1.01093492,\n",
        "        1.0109577 ,  1.01098048,  1.01100326,  1.01102605,  1.01104883,\n",
        "        1.01107161,  1.01109439,  1.01111717,  1.01113996,  1.01116274,\n",
        "        1.01118552,  1.0112083 ,  1.01123108,  1.01125387,  1.01127665,\n",
        "        1.01129943,  1.01132221,  1.01134499,  1.01136778,  1.01139035,\n",
        "        1.01141285,  1.01143535,  1.01145785,  1.01148035,  1.01150285,\n",
        "        1.01152535,  1.01154785,  1.01157035,  1.01159285,  1.01161536,\n",
        "        1.01163786,  1.01166036,  1.01168286,  1.01170536,  1.01172786,\n",
        "        1.01175036,  1.01177286,  1.01179536,  1.01181786,  1.01184036,\n",
        "        1.01186286,  1.01188536,  1.01190786,  1.01193036,  1.01195286,\n",
        "        1.01197536,  1.01199786,  1.01202036,  1.01204286,  1.01206536,\n",
        "        1.01208786,  1.01211036,  1.01213287,  1.01215537,  1.01217787,\n",
        "        1.01220037,  1.01222287,  1.01224537,  1.01226787,  1.01229037,\n",
        "        1.01231287,  1.01233537,  1.01235787,  1.01238037,  1.01240287,\n",
        "        1.01242537,  1.01244787,  1.01247037,  1.01249287,  1.01251537,\n",
        "        1.01253787,  1.01256037,  1.01258287,  1.01260537,  1.01262787,\n",
        "        1.01265037,  1.01267288,  1.01269538,  1.01271788,  1.01274038,\n",
        "        1.01276288,  1.01278538,  1.01280788,  1.01283038,  1.01285288,\n",
        "        1.01287538,  1.01289788,  1.01292038,  1.01294288,  1.01296538,\n",
        "        1.01298788,  1.01301038,  1.01303288,  1.01305538,  1.01307788,\n",
        "        1.01310038,  1.01312288,  1.01314538,  1.01316788,  1.01319038,\n",
        "        1.01321289,  1.01323539,  1.01325789,  1.01328039,  1.01330289,\n",
        "        1.01332539,  1.01334789,  1.01337039,  1.01339289,  1.01341539,\n",
        "        1.01343789,  1.01346019,  1.01348237,  1.01350455,  1.01352673,\n",
        "        1.01354891,  1.01357109,  1.01359328,  1.01361546,  1.01363764,\n",
        "        1.01365982,  1.013682  ,  1.01370418,  1.01372636,  1.01374855,\n",
        "        1.01377073,  1.01379291,  1.01381509,  1.01383727,  1.01385945,\n",
        "        1.01388163,  1.01390381,  1.013926  ,  1.01394818,  1.01397036])"
       ]
      }
     ],
     "prompt_number": 275
    },
    {
     "cell_type": "code",
     "collapsed": false,
     "input": [
      "from scipy.stats import lognorm"
     ],
     "language": "python",
     "metadata": {},
     "outputs": [],
     "prompt_number": 279
    },
    {
     "cell_type": "code",
     "collapsed": false,
     "input": [
      "lognorm(exp(.2), loc=mu, scale=sigma).rvs(1000).mean()"
     ],
     "language": "python",
     "metadata": {},
     "outputs": [
      {
       "metadata": {},
       "output_type": "pyout",
       "prompt_number": 298,
       "text": [
        "0.39278953363356034"
       ]
      }
     ],
     "prompt_number": 298
    },
    {
     "cell_type": "code",
     "collapsed": false,
     "input": [
      "full_shocks = np.sort(np.exp(trunc.rvs(1000)))"
     ],
     "language": "python",
     "metadata": {},
     "outputs": [],
     "prompt_number": 317
    },
    {
     "cell_type": "code",
     "collapsed": false,
     "input": [
      "plt.plot(full_shocks, wage_schedule(full_shocks))"
     ],
     "language": "python",
     "metadata": {},
     "outputs": [
      {
       "metadata": {},
       "output_type": "pyout",
       "prompt_number": 318,
       "text": [
        "[<matplotlib.lines.Line2D at 0x109baba90>]"
       ]
      },
      {
       "metadata": {},
       "output_type": "display_data",
       "png": "[encoded data removed]",
       "text": [
        "<matplotlib.figure.Figure at 0x1097e46d0>"
       ]
      }
     ],
     "prompt_number": 318
    },
    {
     "cell_type": "code",
     "collapsed": false,
     "input": [
      "plt.figure(figsize=(13, 8))\n",
      "wage_schedule.plot()"
     ],
     "language": "python",
     "metadata": {},
     "outputs": [
      {
       "metadata": {},
       "output_type": "pyout",
       "prompt_number": 146,
       "text": [
        "[<matplotlib.lines.Line2D at 0x11786a950>]"
       ]
      },
      {
       "metadata": {},
       "output_type": "display_data",
       "png": "[encoded data removed]",
       "text": [
        "<matplotlib.figure.Figure at 0x11506dbd0>"
       ]
      }
     ],
     "prompt_number": 146
    },
    {
     "cell_type": "markdown",
     "metadata": {},
     "source": [
      "This is weird since the wage schedule $w_t(Z_{it})$ should be lower than $\\hat{w}_{it}$. Thanks to the probability of being unable to lower wage tomorrow.  Problem somewhere with the Bellamn equation. "
     ]
    },
    {
     "cell_type": "code",
     "collapsed": false,
     "input": [
      "plt.figure(figsize=(13, 8))\n",
      "\n",
      "plt.plot(shock, ss_wage_flexible(params, shock=shock), 'b',  wage_schedule.X, wage_schedule.Y, 'r')"
     ],
     "language": "python",
     "metadata": {},
     "outputs": [
      {
       "metadata": {},
       "output_type": "pyout",
       "prompt_number": 147,
       "text": [
        "[<matplotlib.lines.Line2D at 0x1177b3f90>,\n",
        " <matplotlib.lines.Line2D at 0x1177a7250>]"
       ]
      },
      {
       "metadata": {},
       "output_type": "display_data",
       "png": "[encoded data removed]",
       "text": [
        "<matplotlib.figure.Figure at 0x117863250>"
       ]
      }
     ],
     "prompt_number": 147
    },
    {
     "cell_type": "code",
     "collapsed": false,
     "input": [
      "ss_wage_flexible(params, shock=shock) - wage_schedule.Y"
     ],
     "language": "python",
     "metadata": {},
     "outputs": [
      {
       "metadata": {},
       "output_type": "pyout",
       "prompt_number": 48,
       "text": [
        "array([  2.69126529e-08,   2.86393178e-07,  -1.58381776e-06,\n",
        "         1.65524285e-06,   1.12514915e-06,   1.51369046e-06,\n",
        "        -1.16963063e-06,   1.10486416e-06,  -9.07617246e-07,\n",
        "        -1.11659211e-07,   3.28998297e-08,   3.39288480e-08,\n",
        "         3.45699134e-08,   8.54736194e-08,   1.04255677e-07,\n",
        "         1.04260220e-07,   1.07025641e-07,   1.36312501e-07,\n",
        "         2.25383717e-07,   2.43422516e-07,   1.32471363e-07,\n",
        "        -1.36943474e-06,   4.26418805e-08,  -1.01962900e-06,\n",
        "        -4.81989429e-07,  -1.03806718e-06,   1.07744589e-06,\n",
        "        -3.78803231e-07,  -2.57029717e-07,  -1.51411224e-07])"
       ]
      }
     ],
     "prompt_number": 48
    },
    {
     "cell_type": "code",
     "collapsed": false,
     "input": [
      "ss_wage_flexible(params, shock=shock) - wage_schedule.Y"
     ],
     "language": "python",
     "metadata": {},
     "outputs": [
      {
       "metadata": {},
       "output_type": "pyout",
       "prompt_number": 50,
       "text": [
        "array([  2.69115740e-08,   2.86392229e-07,  -1.58381838e-06,\n",
        "         1.65524224e-06,   1.12514765e-06,   1.51368887e-06,\n",
        "        -1.16963181e-06,   1.10486288e-06,  -9.07618181e-07,\n",
        "        -1.11659899e-07,   3.28987209e-08,   3.39334750e-08,\n",
        "         3.45744083e-08,   8.54723757e-08,   1.04251315e-07,\n",
        "         1.04255856e-07,   1.07027629e-07,   1.36308470e-07,\n",
        "         2.25381486e-07,   2.43420311e-07,   1.32470305e-07,\n",
        "        -1.36943313e-06,   4.26555058e-08,  -1.01962612e-06,\n",
        "        -4.81984694e-07,  -1.03806419e-06,   1.07744944e-06,\n",
        "        -3.78799425e-07,  -2.57026338e-07,  -1.51406741e-07])"
       ]
      }
     ],
     "prompt_number": 50
    },
    {
     "cell_type": "code",
     "collapsed": false,
     "input": [
      "Tv.plot()"
     ],
     "language": "python",
     "metadata": {},
     "outputs": [
      {
       "metadata": {},
       "output_type": "pyout",
       "prompt_number": 47,
       "text": [
        "[<matplotlib.lines.Line2D at 0x1163c2810>]"
       ]
      },
      {
       "metadata": {},
       "output_type": "display_data",
       "png": "[encoded data removed]",
       "text": [
        "<matplotlib.figure.Figure at 0x115b12750>"
       ]
      }
     ],
     "prompt_number": 47
    },
    {
     "cell_type": "code",
     "collapsed": false,
     "input": [
      "from ecdf import *"
     ],
     "language": "python",
     "metadata": {},
     "outputs": [
      {
       "metadata": {},
       "output_type": "display_data",
       "png": "[encoded data removed]",
       "text": [
        "<matplotlib.figure.Figure at 0x115f1cf50>"
       ]
      }
     ],
     "prompt_number": 51
    },
    {
     "cell_type": "heading",
     "level": 4,
     "metadata": {},
     "source": [
      "Stochastic Recursive Sequence for $G_t(w) = (1 - \\lambda) F(z_t(w)) + \\lambda G_{t-1}(w(1 + \\pi_t))F(z_t(w))$"
     ]
    },
    {
     "cell_type": "code",
     "collapsed": false,
     "input": [
      "ws = wage_schedule\n",
      "zs = ws.inverse()\n",
      "zs.plot()"
     ],
     "language": "python",
     "metadata": {},
     "outputs": [
      {
       "metadata": {},
       "output_type": "pyout",
       "prompt_number": 14,
       "text": [
        "[<matplotlib.lines.Line2D at 0x113378dd0>]"
       ]
      },
      {
       "metadata": {},
       "output_type": "display_data",
       "png": "[encoded data removed]",
       "text": [
        "<matplotlib.figure.Figure at 0x1132400d0>"
       ]
      }
     ],
     "prompt_number": 14
    },
    {
     "cell_type": "code",
     "collapsed": false,
     "input": [
      "w = .97\n",
      "z = zs(w)\n",
      "print('Wage: {}; Shock: {}'.format(w, z))"
     ],
     "language": "python",
     "metadata": {},
     "outputs": [
      {
       "output_type": "stream",
       "stream": "stdout",
       "text": [
        "Wage: 0.97; Shock: 0.81243469924\n"
       ]
      }
     ],
     "prompt_number": 214
    },
    {
     "cell_type": "code",
     "collapsed": false,
     "input": [
      "g1 = LinInterp(grid, (1 - lambda_) * d.cdf(grid) + lambda_ * d.cdf(grid) * grid / grid[-1])\n",
      "g1.plot()"
     ],
     "language": "python",
     "metadata": {},
     "outputs": [
      {
       "metadata": {},
       "output_type": "pyout",
       "prompt_number": 150,
       "text": [
        "[<matplotlib.lines.Line2D at 0x1177abdd0>]"
       ]
      },
      {
       "metadata": {},
       "output_type": "display_data",
       "png": "[encoded data removed]",
       "text": [
        "<matplotlib.figure.Figure at 0x11779a750>"
       ]
      }
     ],
     "prompt_number": 150
    },
    {
     "cell_type": "code",
     "collapsed": false,
     "input": [
      "def g_p(g, f_dist, tol=1e-3):\n",
      "    e = 1\n",
      "    vals = []\n",
      "    while e > tol:\n",
      "        gp = LinInterp(grid, ((1 - lambda_) * f_dist.cdf(grid) +\n",
      "                              lambda_ * f_dist.cdf(grid) * g.Y))\n",
      "        vals.append(gp)\n",
      "        e = np.max(np.abs(gp - g))\n",
      "        g = gp\n",
      "    return gp, vals"
     ],
     "language": "python",
     "metadata": {},
     "outputs": [],
     "prompt_number": 151
    },
    {
     "cell_type": "code",
     "collapsed": false,
     "input": [
      "gp, vals = g_p(g1, d)"
     ],
     "language": "python",
     "metadata": {},
     "outputs": [],
     "prompt_number": 152
    },
    {
     "cell_type": "code",
     "collapsed": false,
     "input": [
      "plt.plot(grid, g1.Y, grid, g_next.Y, grid, gp.Y)"
     ],
     "language": "python",
     "metadata": {},
     "outputs": [
      {
       "ename": "NameError",
       "evalue": "name 'g_next' is not defined",
       "output_type": "pyerr",
       "traceback": [
        "\u001b[0;31m---------------------------------------------------------------------------\u001b[0m\n\u001b[0;31mNameError\u001b[0m                                 Traceback (most recent call last)",
        "\u001b[0;32m<ipython-input-153-ab2a29b57e94>\u001b[0m in \u001b[0;36m<module>\u001b[0;34m()\u001b[0m\n\u001b[0;32m----> 1\u001b[0;31m \u001b[0mplt\u001b[0m\u001b[0;34m.\u001b[0m\u001b[0mplot\u001b[0m\u001b[0;34m(\u001b[0m\u001b[0mgrid\u001b[0m\u001b[0;34m,\u001b[0m \u001b[0mg1\u001b[0m\u001b[0;34m.\u001b[0m\u001b[0mY\u001b[0m\u001b[0;34m,\u001b[0m \u001b[0mgrid\u001b[0m\u001b[0;34m,\u001b[0m \u001b[0mg_next\u001b[0m\u001b[0;34m.\u001b[0m\u001b[0mY\u001b[0m\u001b[0;34m,\u001b[0m \u001b[0mgrid\u001b[0m\u001b[0;34m,\u001b[0m \u001b[0mgp\u001b[0m\u001b[0;34m.\u001b[0m\u001b[0mY\u001b[0m\u001b[0;34m)\u001b[0m\u001b[0;34m\u001b[0m\u001b[0m\n\u001b[0m",
        "\u001b[0;31mNameError\u001b[0m: name 'g_next' is not defined"
       ]
      }
     ],
     "prompt_number": 153
    },
    {
     "cell_type": "code",
     "collapsed": false,
     "input": [
      "_ = [plt.plot(grid, x.Y) for x in vals]"
     ],
     "language": "python",
     "metadata": {},
     "outputs": [
      {
       "metadata": {},
       "output_type": "display_data",
       "png": "[encoded data removed]",
       "text": [
        "<matplotlib.figure.Figure at 0x11387ae90>"
       ]
      }
     ],
     "prompt_number": 154
    },
    {
     "cell_type": "code",
     "collapsed": false,
     "input": [
      "flex = ss_wage_flexible(params, shock)"
     ],
     "language": "python",
     "metadata": {},
     "outputs": [],
     "prompt_number": 155
    },
    {
     "cell_type": "code",
     "collapsed": false,
     "input": [
      "(1 - lambda_) * sum((1 / shock) ** (gamma * (eta - 1) / (gamma + eta)) * (flex / ws.Y) ** (eta - 1))"
     ],
     "language": "python",
     "metadata": {},
     "outputs": [
      {
       "metadata": {},
       "output_type": "pyout",
       "prompt_number": 156,
       "text": [
        "6.0930170358832214"
       ]
      }
     ],
     "prompt_number": 156
    },
    {
     "cell_type": "code",
     "collapsed": false,
     "input": [
      "plt.plot(shock, (flex - ws.Y))"
     ],
     "language": "python",
     "metadata": {},
     "outputs": [
      {
       "metadata": {},
       "output_type": "pyout",
       "prompt_number": 157,
       "text": [
        "[<matplotlib.lines.Line2D at 0x117b63690>]"
       ]
      },
      {
       "metadata": {},
       "output_type": "display_data",
       "png": "[encoded data removed]",
       "text": [
        "<matplotlib.figure.Figure at 0x1177bfbd0>"
       ]
      }
     ],
     "prompt_number": 157
    },
    {
     "cell_type": "code",
     "collapsed": false,
     "input": [
      "sub_w = lambda z: grid[grid > z]"
     ],
     "language": "python",
     "metadata": {},
     "outputs": [],
     "prompt_number": 312
    },
    {
     "cell_type": "code",
     "collapsed": false,
     "input": [
      "[sub_w(x) for x in grid]"
     ],
     "language": "python",
     "metadata": {},
     "outputs": [
      {
       "metadata": {},
       "output_type": "pyout",
       "prompt_number": 316,
       "text": [
        "[array([ 0.13939394,  0.17878788,  0.21818182,  0.25757576,  0.2969697 ,\n",
        "        0.33636364,  0.37575758,  0.41515152,  0.45454545,  0.49393939,\n",
        "        0.53333333,  0.57272727,  0.61212121,  0.65151515,  0.69090909,\n",
        "        0.73030303,  0.76969697,  0.80909091,  0.84848485,  0.88787879,\n",
        "        0.92727273,  0.96666667,  1.00606061,  1.04545455,  1.08484848,\n",
        "        1.12424242,  1.16363636,  1.2030303 ,  1.24242424,  1.28181818,\n",
        "        1.32121212,  1.36060606,  1.4       ,  1.43939394,  1.47878788,\n",
        "        1.51818182,  1.55757576,  1.5969697 ,  1.63636364,  1.67575758,\n",
        "        1.71515152,  1.75454545,  1.79393939,  1.83333333,  1.87272727,\n",
        "        1.91212121,  1.95151515,  1.99090909,  2.03030303,  2.06969697,\n",
        "        2.10909091,  2.14848485,  2.18787879,  2.22727273,  2.26666667,\n",
        "        2.30606061,  2.34545455,  2.38484848,  2.42424242,  2.46363636,\n",
        "        2.5030303 ,  2.54242424,  2.58181818,  2.62121212,  2.66060606,\n",
        "        2.7       ,  2.73939394,  2.77878788,  2.81818182,  2.85757576,\n",
        "        2.8969697 ,  2.93636364,  2.97575758,  3.01515152,  3.05454545,\n",
        "        3.09393939,  3.13333333,  3.17272727,  3.21212121,  3.25151515,\n",
        "        3.29090909,  3.33030303,  3.36969697,  3.40909091,  3.44848485,\n",
        "        3.48787879,  3.52727273,  3.56666667,  3.60606061,  3.64545455,\n",
        "        3.68484848,  3.72424242,  3.76363636,  3.8030303 ,  3.84242424,\n",
        "        3.88181818,  3.92121212,  3.96060606,  4.        ]),\n",
        " array([ 0.17878788,  0.21818182,  0.25757576,  0.2969697 ,  0.33636364,\n",
        "        0.37575758,  0.41515152,  0.45454545,  0.49393939,  0.53333333,\n",
        "        0.57272727,  0.61212121,  0.65151515,  0.69090909,  0.73030303,\n",
        "        0.76969697,  0.80909091,  0.84848485,  0.88787879,  0.92727273,\n",
        "        0.96666667,  1.00606061,  1.04545455,  1.08484848,  1.12424242,\n",
        "        1.16363636,  1.2030303 ,  1.24242424,  1.28181818,  1.32121212,\n",
        "        1.36060606,  1.4       ,  1.43939394,  1.47878788,  1.51818182,\n",
        "        1.55757576,  1.5969697 ,  1.63636364,  1.67575758,  1.71515152,\n",
        "        1.75454545,  1.79393939,  1.83333333,  1.87272727,  1.91212121,\n",
        "        1.95151515,  1.99090909,  2.03030303,  2.06969697,  2.10909091,\n",
        "        2.14848485,  2.18787879,  2.22727273,  2.26666667,  2.30606061,\n",
        "        2.34545455,  2.38484848,  2.42424242,  2.46363636,  2.5030303 ,\n",
        "        2.54242424,  2.58181818,  2.62121212,  2.66060606,  2.7       ,\n",
        "        2.73939394,  2.77878788,  2.81818182,  2.85757576,  2.8969697 ,\n",
        "        2.93636364,  2.97575758,  3.01515152,  3.05454545,  3.09393939,\n",
        "        3.13333333,  3.17272727,  3.21212121,  3.25151515,  3.29090909,\n",
        "        3.33030303,  3.36969697,  3.40909091,  3.44848485,  3.48787879,\n",
        "        3.52727273,  3.56666667,  3.60606061,  3.64545455,  3.68484848,\n",
        "        3.72424242,  3.76363636,  3.8030303 ,  3.84242424,  3.88181818,\n",
        "        3.92121212,  3.96060606,  4.        ]),\n",
        " array([ 0.21818182,  0.25757576,  0.2969697 ,  0.33636364,  0.37575758,\n",
        "        0.41515152,  0.45454545,  0.49393939,  0.53333333,  0.57272727,\n",
        "        0.61212121,  0.65151515,  0.69090909,  0.73030303,  0.76969697,\n",
        "        0.80909091,  0.84848485,  0.88787879,  0.92727273,  0.96666667,\n",
        "        1.00606061,  1.04545455,  1.08484848,  1.12424242,  1.16363636,\n",
        "        1.2030303 ,  1.24242424,  1.28181818,  1.32121212,  1.36060606,\n",
        "        1.4       ,  1.43939394,  1.47878788,  1.51818182,  1.55757576,\n",
        "        1.5969697 ,  1.63636364,  1.67575758,  1.71515152,  1.75454545,\n",
        "        1.79393939,  1.83333333,  1.87272727,  1.91212121,  1.95151515,\n",
        "        1.99090909,  2.03030303,  2.06969697,  2.10909091,  2.14848485,\n",
        "        2.18787879,  2.22727273,  2.26666667,  2.30606061,  2.34545455,\n",
        "        2.38484848,  2.42424242,  2.46363636,  2.5030303 ,  2.54242424,\n",
        "        2.58181818,  2.62121212,  2.66060606,  2.7       ,  2.73939394,\n",
        "        2.77878788,  2.81818182,  2.85757576,  2.8969697 ,  2.93636364,\n",
        "        2.97575758,  3.01515152,  3.05454545,  3.09393939,  3.13333333,\n",
        "        3.17272727,  3.21212121,  3.25151515,  3.29090909,  3.33030303,\n",
        "        3.36969697,  3.40909091,  3.44848485,  3.48787879,  3.52727273,\n",
        "        3.56666667,  3.60606061,  3.64545455,  3.68484848,  3.72424242,\n",
        "        3.76363636,  3.8030303 ,  3.84242424,  3.88181818,  3.92121212,\n",
        "        3.96060606,  4.        ]),\n",
        " array([ 0.25757576,  0.2969697 ,  0.33636364,  0.37575758,  0.41515152,\n",
        "        0.45454545,  0.49393939,  0.53333333,  0.57272727,  0.61212121,\n",
        "        0.65151515,  0.69090909,  0.73030303,  0.76969697,  0.80909091,\n",
        "        0.84848485,  0.88787879,  0.92727273,  0.96666667,  1.00606061,\n",
        "        1.04545455,  1.08484848,  1.12424242,  1.16363636,  1.2030303 ,\n",
        "        1.24242424,  1.28181818,  1.32121212,  1.36060606,  1.4       ,\n",
        "        1.43939394,  1.47878788,  1.51818182,  1.55757576,  1.5969697 ,\n",
        "        1.63636364,  1.67575758,  1.71515152,  1.75454545,  1.79393939,\n",
        "        1.83333333,  1.87272727,  1.91212121,  1.95151515,  1.99090909,\n",
        "        2.03030303,  2.06969697,  2.10909091,  2.14848485,  2.18787879,\n",
        "        2.22727273,  2.26666667,  2.30606061,  2.34545455,  2.38484848,\n",
        "        2.42424242,  2.46363636,  2.5030303 ,  2.54242424,  2.58181818,\n",
        "        2.62121212,  2.66060606,  2.7       ,  2.73939394,  2.77878788,\n",
        "        2.81818182,  2.85757576,  2.8969697 ,  2.93636364,  2.97575758,\n",
        "        3.01515152,  3.05454545,  3.09393939,  3.13333333,  3.17272727,\n",
        "        3.21212121,  3.25151515,  3.29090909,  3.33030303,  3.36969697,\n",
        "        3.40909091,  3.44848485,  3.48787879,  3.52727273,  3.56666667,\n",
        "        3.60606061,  3.64545455,  3.68484848,  3.72424242,  3.76363636,\n",
        "        3.8030303 ,  3.84242424,  3.88181818,  3.92121212,  3.96060606,  4.        ]),\n",
        " array([ 0.2969697 ,  0.33636364,  0.37575758,  0.41515152,  0.45454545,\n",
        "        0.49393939,  0.53333333,  0.57272727,  0.61212121,  0.65151515,\n",
        "        0.69090909,  0.73030303,  0.76969697,  0.80909091,  0.84848485,\n",
        "        0.88787879,  0.92727273,  0.96666667,  1.00606061,  1.04545455,\n",
        "        1.08484848,  1.12424242,  1.16363636,  1.2030303 ,  1.24242424,\n",
        "        1.28181818,  1.32121212,  1.36060606,  1.4       ,  1.43939394,\n",
        "        1.47878788,  1.51818182,  1.55757576,  1.5969697 ,  1.63636364,\n",
        "        1.67575758,  1.71515152,  1.75454545,  1.79393939,  1.83333333,\n",
        "        1.87272727,  1.91212121,  1.95151515,  1.99090909,  2.03030303,\n",
        "        2.06969697,  2.10909091,  2.14848485,  2.18787879,  2.22727273,\n",
        "        2.26666667,  2.30606061,  2.34545455,  2.38484848,  2.42424242,\n",
        "        2.46363636,  2.5030303 ,  2.54242424,  2.58181818,  2.62121212,\n",
        "        2.66060606,  2.7       ,  2.73939394,  2.77878788,  2.81818182,\n",
        "        2.85757576,  2.8969697 ,  2.93636364,  2.97575758,  3.01515152,\n",
        "        3.05454545,  3.09393939,  3.13333333,  3.17272727,  3.21212121,\n",
        "        3.25151515,  3.29090909,  3.33030303,  3.36969697,  3.40909091,\n",
        "        3.44848485,  3.48787879,  3.52727273,  3.56666667,  3.60606061,\n",
        "        3.64545455,  3.68484848,  3.72424242,  3.76363636,  3.8030303 ,\n",
        "        3.84242424,  3.88181818,  3.92121212,  3.96060606,  4.        ]),\n",
        " array([ 0.33636364,  0.37575758,  0.41515152,  0.45454545,  0.49393939,\n",
        "        0.53333333,  0.57272727,  0.61212121,  0.65151515,  0.69090909,\n",
        "        0.73030303,  0.76969697,  0.80909091,  0.84848485,  0.88787879,\n",
        "        0.92727273,  0.96666667,  1.00606061,  1.04545455,  1.08484848,\n",
        "        1.12424242,  1.16363636,  1.2030303 ,  1.24242424,  1.28181818,\n",
        "        1.32121212,  1.36060606,  1.4       ,  1.43939394,  1.47878788,\n",
        "        1.51818182,  1.55757576,  1.5969697 ,  1.63636364,  1.67575758,\n",
        "        1.71515152,  1.75454545,  1.79393939,  1.83333333,  1.87272727,\n",
        "        1.91212121,  1.95151515,  1.99090909,  2.03030303,  2.06969697,\n",
        "        2.10909091,  2.14848485,  2.18787879,  2.22727273,  2.26666667,\n",
        "        2.30606061,  2.34545455,  2.38484848,  2.42424242,  2.46363636,\n",
        "        2.5030303 ,  2.54242424,  2.58181818,  2.62121212,  2.66060606,\n",
        "        2.7       ,  2.73939394,  2.77878788,  2.81818182,  2.85757576,\n",
        "        2.8969697 ,  2.93636364,  2.97575758,  3.01515152,  3.05454545,\n",
        "        3.09393939,  3.13333333,  3.17272727,  3.21212121,  3.25151515,\n",
        "        3.29090909,  3.33030303,  3.36969697,  3.40909091,  3.44848485,\n",
        "        3.48787879,  3.52727273,  3.56666667,  3.60606061,  3.64545455,\n",
        "        3.68484848,  3.72424242,  3.76363636,  3.8030303 ,  3.84242424,\n",
        "        3.88181818,  3.92121212,  3.96060606,  4.        ]),\n",
        " array([ 0.37575758,  0.41515152,  0.45454545,  0.49393939,  0.53333333,\n",
        "        0.57272727,  0.61212121,  0.65151515,  0.69090909,  0.73030303,\n",
        "        0.76969697,  0.80909091,  0.84848485,  0.88787879,  0.92727273,\n",
        "        0.96666667,  1.00606061,  1.04545455,  1.08484848,  1.12424242,\n",
        "        1.16363636,  1.2030303 ,  1.24242424,  1.28181818,  1.32121212,\n",
        "        1.36060606,  1.4       ,  1.43939394,  1.47878788,  1.51818182,\n",
        "        1.55757576,  1.5969697 ,  1.63636364,  1.67575758,  1.71515152,\n",
        "        1.75454545,  1.79393939,  1.83333333,  1.87272727,  1.91212121,\n",
        "        1.95151515,  1.99090909,  2.03030303,  2.06969697,  2.10909091,\n",
        "        2.14848485,  2.18787879,  2.22727273,  2.26666667,  2.30606061,\n",
        "        2.34545455,  2.38484848,  2.42424242,  2.46363636,  2.5030303 ,\n",
        "        2.54242424,  2.58181818,  2.62121212,  2.66060606,  2.7       ,\n",
        "        2.73939394,  2.77878788,  2.81818182,  2.85757576,  2.8969697 ,\n",
        "        2.93636364,  2.97575758,  3.01515152,  3.05454545,  3.09393939,\n",
        "        3.13333333,  3.17272727,  3.21212121,  3.25151515,  3.29090909,\n",
        "        3.33030303,  3.36969697,  3.40909091,  3.44848485,  3.48787879,\n",
        "        3.52727273,  3.56666667,  3.60606061,  3.64545455,  3.68484848,\n",
        "        3.72424242,  3.76363636,  3.8030303 ,  3.84242424,  3.88181818,\n",
        "        3.92121212,  3.96060606,  4.        ]),\n",
        " array([ 0.41515152,  0.45454545,  0.49393939,  0.53333333,  0.57272727,\n",
        "        0.61212121,  0.65151515,  0.69090909,  0.73030303,  0.76969697,\n",
        "        0.80909091,  0.84848485,  0.88787879,  0.92727273,  0.96666667,\n",
        "        1.00606061,  1.04545455,  1.08484848,  1.12424242,  1.16363636,\n",
        "        1.2030303 ,  1.24242424,  1.28181818,  1.32121212,  1.36060606,\n",
        "        1.4       ,  1.43939394,  1.47878788,  1.51818182,  1.55757576,\n",
        "        1.5969697 ,  1.63636364,  1.67575758,  1.71515152,  1.75454545,\n",
        "        1.79393939,  1.83333333,  1.87272727,  1.91212121,  1.95151515,\n",
        "        1.99090909,  2.03030303,  2.06969697,  2.10909091,  2.14848485,\n",
        "        2.18787879,  2.22727273,  2.26666667,  2.30606061,  2.34545455,\n",
        "        2.38484848,  2.42424242,  2.46363636,  2.5030303 ,  2.54242424,\n",
        "        2.58181818,  2.62121212,  2.66060606,  2.7       ,  2.73939394,\n",
        "        2.77878788,  2.81818182,  2.85757576,  2.8969697 ,  2.93636364,\n",
        "        2.97575758,  3.01515152,  3.05454545,  3.09393939,  3.13333333,\n",
        "        3.17272727,  3.21212121,  3.25151515,  3.29090909,  3.33030303,\n",
        "        3.36969697,  3.40909091,  3.44848485,  3.48787879,  3.52727273,\n",
        "        3.56666667,  3.60606061,  3.64545455,  3.68484848,  3.72424242,\n",
        "        3.76363636,  3.8030303 ,  3.84242424,  3.88181818,  3.92121212,\n",
        "        3.96060606,  4.        ]),\n",
        " array([ 0.45454545,  0.49393939,  0.53333333,  0.57272727,  0.61212121,\n",
        "        0.65151515,  0.69090909,  0.73030303,  0.76969697,  0.80909091,\n",
        "        0.84848485,  0.88787879,  0.92727273,  0.96666667,  1.00606061,\n",
        "        1.04545455,  1.08484848,  1.12424242,  1.16363636,  1.2030303 ,\n",
        "        1.24242424,  1.28181818,  1.32121212,  1.36060606,  1.4       ,\n",
        "        1.43939394,  1.47878788,  1.51818182,  1.55757576,  1.5969697 ,\n",
        "        1.63636364,  1.67575758,  1.71515152,  1.75454545,  1.79393939,\n",
        "        1.83333333,  1.87272727,  1.91212121,  1.95151515,  1.99090909,\n",
        "        2.03030303,  2.06969697,  2.10909091,  2.14848485,  2.18787879,\n",
        "        2.22727273,  2.26666667,  2.30606061,  2.34545455,  2.38484848,\n",
        "        2.42424242,  2.46363636,  2.5030303 ,  2.54242424,  2.58181818,\n",
        "        2.62121212,  2.66060606,  2.7       ,  2.73939394,  2.77878788,\n",
        "        2.81818182,  2.85757576,  2.8969697 ,  2.93636364,  2.97575758,\n",
        "        3.01515152,  3.05454545,  3.09393939,  3.13333333,  3.17272727,\n",
        "        3.21212121,  3.25151515,  3.29090909,  3.33030303,  3.36969697,\n",
        "        3.40909091,  3.44848485,  3.48787879,  3.52727273,  3.56666667,\n",
        "        3.60606061,  3.64545455,  3.68484848,  3.72424242,  3.76363636,\n",
        "        3.8030303 ,  3.84242424,  3.88181818,  3.92121212,  3.96060606,  4.        ]),\n",
        " array([ 0.49393939,  0.53333333,  0.57272727,  0.61212121,  0.65151515,\n",
        "        0.69090909,  0.73030303,  0.76969697,  0.80909091,  0.84848485,\n",
        "        0.88787879,  0.92727273,  0.96666667,  1.00606061,  1.04545455,\n",
        "        1.08484848,  1.12424242,  1.16363636,  1.2030303 ,  1.24242424,\n",
        "        1.28181818,  1.32121212,  1.36060606,  1.4       ,  1.43939394,\n",
        "        1.47878788,  1.51818182,  1.55757576,  1.5969697 ,  1.63636364,\n",
        "        1.67575758,  1.71515152,  1.75454545,  1.79393939,  1.83333333,\n",
        "        1.87272727,  1.91212121,  1.95151515,  1.99090909,  2.03030303,\n",
        "        2.06969697,  2.10909091,  2.14848485,  2.18787879,  2.22727273,\n",
        "        2.26666667,  2.30606061,  2.34545455,  2.38484848,  2.42424242,\n",
        "        2.46363636,  2.5030303 ,  2.54242424,  2.58181818,  2.62121212,\n",
        "        2.66060606,  2.7       ,  2.73939394,  2.77878788,  2.81818182,\n",
        "        2.85757576,  2.8969697 ,  2.93636364,  2.97575758,  3.01515152,\n",
        "        3.05454545,  3.09393939,  3.13333333,  3.17272727,  3.21212121,\n",
        "        3.25151515,  3.29090909,  3.33030303,  3.36969697,  3.40909091,\n",
        "        3.44848485,  3.48787879,  3.52727273,  3.56666667,  3.60606061,\n",
        "        3.64545455,  3.68484848,  3.72424242,  3.76363636,  3.8030303 ,\n",
        "        3.84242424,  3.88181818,  3.92121212,  3.96060606,  4.        ]),\n",
        " array([ 0.53333333,  0.57272727,  0.61212121,  0.65151515,  0.69090909,\n",
        "        0.73030303,  0.76969697,  0.80909091,  0.84848485,  0.88787879,\n",
        "        0.92727273,  0.96666667,  1.00606061,  1.04545455,  1.08484848,\n",
        "        1.12424242,  1.16363636,  1.2030303 ,  1.24242424,  1.28181818,\n",
        "        1.32121212,  1.36060606,  1.4       ,  1.43939394,  1.47878788,\n",
        "        1.51818182,  1.55757576,  1.5969697 ,  1.63636364,  1.67575758,\n",
        "        1.71515152,  1.75454545,  1.79393939,  1.83333333,  1.87272727,\n",
        "        1.91212121,  1.95151515,  1.99090909,  2.03030303,  2.06969697,\n",
        "        2.10909091,  2.14848485,  2.18787879,  2.22727273,  2.26666667,\n",
        "        2.30606061,  2.34545455,  2.38484848,  2.42424242,  2.46363636,\n",
        "        2.5030303 ,  2.54242424,  2.58181818,  2.62121212,  2.66060606,\n",
        "        2.7       ,  2.73939394,  2.77878788,  2.81818182,  2.85757576,\n",
        "        2.8969697 ,  2.93636364,  2.97575758,  3.01515152,  3.05454545,\n",
        "        3.09393939,  3.13333333,  3.17272727,  3.21212121,  3.25151515,\n",
        "        3.29090909,  3.33030303,  3.36969697,  3.40909091,  3.44848485,\n",
        "        3.48787879,  3.52727273,  3.56666667,  3.60606061,  3.64545455,\n",
        "        3.68484848,  3.72424242,  3.76363636,  3.8030303 ,  3.84242424,\n",
        "        3.88181818,  3.92121212,  3.96060606,  4.        ]),\n",
        " array([ 0.57272727,  0.61212121,  0.65151515,  0.69090909,  0.73030303,\n",
        "        0.76969697,  0.80909091,  0.84848485,  0.88787879,  0.92727273,\n",
        "        0.96666667,  1.00606061,  1.04545455,  1.08484848,  1.12424242,\n",
        "        1.16363636,  1.2030303 ,  1.24242424,  1.28181818,  1.32121212,\n",
        "        1.36060606,  1.4       ,  1.43939394,  1.47878788,  1.51818182,\n",
        "        1.55757576,  1.5969697 ,  1.63636364,  1.67575758,  1.71515152,\n",
        "        1.75454545,  1.79393939,  1.83333333,  1.87272727,  1.91212121,\n",
        "        1.95151515,  1.99090909,  2.03030303,  2.06969697,  2.10909091,\n",
        "        2.14848485,  2.18787879,  2.22727273,  2.26666667,  2.30606061,\n",
        "        2.34545455,  2.38484848,  2.42424242,  2.46363636,  2.5030303 ,\n",
        "        2.54242424,  2.58181818,  2.62121212,  2.66060606,  2.7       ,\n",
        "        2.73939394,  2.77878788,  2.81818182,  2.85757576,  2.8969697 ,\n",
        "        2.93636364,  2.97575758,  3.01515152,  3.05454545,  3.09393939,\n",
        "        3.13333333,  3.17272727,  3.21212121,  3.25151515,  3.29090909,\n",
        "        3.33030303,  3.36969697,  3.40909091,  3.44848485,  3.48787879,\n",
        "        3.52727273,  3.56666667,  3.60606061,  3.64545455,  3.68484848,\n",
        "        3.72424242,  3.76363636,  3.8030303 ,  3.84242424,  3.88181818,\n",
        "        3.92121212,  3.96060606,  4.        ]),\n",
        " array([ 0.61212121,  0.65151515,  0.69090909,  0.73030303,  0.76969697,\n",
        "        0.80909091,  0.84848485,  0.88787879,  0.92727273,  0.96666667,\n",
        "        1.00606061,  1.04545455,  1.08484848,  1.12424242,  1.16363636,\n",
        "        1.2030303 ,  1.24242424,  1.28181818,  1.32121212,  1.36060606,\n",
        "        1.4       ,  1.43939394,  1.47878788,  1.51818182,  1.55757576,\n",
        "        1.5969697 ,  1.63636364,  1.67575758,  1.71515152,  1.75454545,\n",
        "        1.79393939,  1.83333333,  1.87272727,  1.91212121,  1.95151515,\n",
        "        1.99090909,  2.03030303,  2.06969697,  2.10909091,  2.14848485,\n",
        "        2.18787879,  2.22727273,  2.26666667,  2.30606061,  2.34545455,\n",
        "        2.38484848,  2.42424242,  2.46363636,  2.5030303 ,  2.54242424,\n",
        "        2.58181818,  2.62121212,  2.66060606,  2.7       ,  2.73939394,\n",
        "        2.77878788,  2.81818182,  2.85757576,  2.8969697 ,  2.93636364,\n",
        "        2.97575758,  3.01515152,  3.05454545,  3.09393939,  3.13333333,\n",
        "        3.17272727,  3.21212121,  3.25151515,  3.29090909,  3.33030303,\n",
        "        3.36969697,  3.40909091,  3.44848485,  3.48787879,  3.52727273,\n",
        "        3.56666667,  3.60606061,  3.64545455,  3.68484848,  3.72424242,\n",
        "        3.76363636,  3.8030303 ,  3.84242424,  3.88181818,  3.92121212,\n",
        "        3.96060606,  4.        ]),\n",
        " array([ 0.65151515,  0.69090909,  0.73030303,  0.76969697,  0.80909091,\n",
        "        0.84848485,  0.88787879,  0.92727273,  0.96666667,  1.00606061,\n",
        "        1.04545455,  1.08484848,  1.12424242,  1.16363636,  1.2030303 ,\n",
        "        1.24242424,  1.28181818,  1.32121212,  1.36060606,  1.4       ,\n",
        "        1.43939394,  1.47878788,  1.51818182,  1.55757576,  1.5969697 ,\n",
        "        1.63636364,  1.67575758,  1.71515152,  1.75454545,  1.79393939,\n",
        "        1.83333333,  1.87272727,  1.91212121,  1.95151515,  1.99090909,\n",
        "        2.03030303,  2.06969697,  2.10909091,  2.14848485,  2.18787879,\n",
        "        2.22727273,  2.26666667,  2.30606061,  2.34545455,  2.38484848,\n",
        "        2.42424242,  2.46363636,  2.5030303 ,  2.54242424,  2.58181818,\n",
        "        2.62121212,  2.66060606,  2.7       ,  2.73939394,  2.77878788,\n",
        "        2.81818182,  2.85757576,  2.8969697 ,  2.93636364,  2.97575758,\n",
        "        3.01515152,  3.05454545,  3.09393939,  3.13333333,  3.17272727,\n",
        "        3.21212121,  3.25151515,  3.29090909,  3.33030303,  3.36969697,\n",
        "        3.40909091,  3.44848485,  3.48787879,  3.52727273,  3.56666667,\n",
        "        3.60606061,  3.64545455,  3.68484848,  3.72424242,  3.76363636,\n",
        "        3.8030303 ,  3.84242424,  3.88181818,  3.92121212,  3.96060606,  4.        ]),\n",
        " array([ 0.69090909,  0.73030303,  0.76969697,  0.80909091,  0.84848485,\n",
        "        0.88787879,  0.92727273,  0.96666667,  1.00606061,  1.04545455,\n",
        "        1.08484848,  1.12424242,  1.16363636,  1.2030303 ,  1.24242424,\n",
        "        1.28181818,  1.32121212,  1.36060606,  1.4       ,  1.43939394,\n",
        "        1.47878788,  1.51818182,  1.55757576,  1.5969697 ,  1.63636364,\n",
        "        1.67575758,  1.71515152,  1.75454545,  1.79393939,  1.83333333,\n",
        "        1.87272727,  1.91212121,  1.95151515,  1.99090909,  2.03030303,\n",
        "        2.06969697,  2.10909091,  2.14848485,  2.18787879,  2.22727273,\n",
        "        2.26666667,  2.30606061,  2.34545455,  2.38484848,  2.42424242,\n",
        "        2.46363636,  2.5030303 ,  2.54242424,  2.58181818,  2.62121212,\n",
        "        2.66060606,  2.7       ,  2.73939394,  2.77878788,  2.81818182,\n",
        "        2.85757576,  2.8969697 ,  2.93636364,  2.97575758,  3.01515152,\n",
        "        3.05454545,  3.09393939,  3.13333333,  3.17272727,  3.21212121,\n",
        "        3.25151515,  3.29090909,  3.33030303,  3.36969697,  3.40909091,\n",
        "        3.44848485,  3.48787879,  3.52727273,  3.56666667,  3.60606061,\n",
        "        3.64545455,  3.68484848,  3.72424242,  3.76363636,  3.8030303 ,\n",
        "        3.84242424,  3.88181818,  3.92121212,  3.96060606,  4.        ]),\n",
        " array([ 0.73030303,  0.76969697,  0.80909091,  0.84848485,  0.88787879,\n",
        "        0.92727273,  0.96666667,  1.00606061,  1.04545455,  1.08484848,\n",
        "        1.12424242,  1.16363636,  1.2030303 ,  1.24242424,  1.28181818,\n",
        "        1.32121212,  1.36060606,  1.4       ,  1.43939394,  1.47878788,\n",
        "        1.51818182,  1.55757576,  1.5969697 ,  1.63636364,  1.67575758,\n",
        "        1.71515152,  1.75454545,  1.79393939,  1.83333333,  1.87272727,\n",
        "        1.91212121,  1.95151515,  1.99090909,  2.03030303,  2.06969697,\n",
        "        2.10909091,  2.14848485,  2.18787879,  2.22727273,  2.26666667,\n",
        "        2.30606061,  2.34545455,  2.38484848,  2.42424242,  2.46363636,\n",
        "        2.5030303 ,  2.54242424,  2.58181818,  2.62121212,  2.66060606,\n",
        "        2.7       ,  2.73939394,  2.77878788,  2.81818182,  2.85757576,\n",
        "        2.8969697 ,  2.93636364,  2.97575758,  3.01515152,  3.05454545,\n",
        "        3.09393939,  3.13333333,  3.17272727,  3.21212121,  3.25151515,\n",
        "        3.29090909,  3.33030303,  3.36969697,  3.40909091,  3.44848485,\n",
        "        3.48787879,  3.52727273,  3.56666667,  3.60606061,  3.64545455,\n",
        "        3.68484848,  3.72424242,  3.76363636,  3.8030303 ,  3.84242424,\n",
        "        3.88181818,  3.92121212,  3.96060606,  4.        ]),\n",
        " array([ 0.76969697,  0.80909091,  0.84848485,  0.88787879,  0.92727273,\n",
        "        0.96666667,  1.00606061,  1.04545455,  1.08484848,  1.12424242,\n",
        "        1.16363636,  1.2030303 ,  1.24242424,  1.28181818,  1.32121212,\n",
        "        1.36060606,  1.4       ,  1.43939394,  1.47878788,  1.51818182,\n",
        "        1.55757576,  1.5969697 ,  1.63636364,  1.67575758,  1.71515152,\n",
        "        1.75454545,  1.79393939,  1.83333333,  1.87272727,  1.91212121,\n",
        "        1.95151515,  1.99090909,  2.03030303,  2.06969697,  2.10909091,\n",
        "        2.14848485,  2.18787879,  2.22727273,  2.26666667,  2.30606061,\n",
        "        2.34545455,  2.38484848,  2.42424242,  2.46363636,  2.5030303 ,\n",
        "        2.54242424,  2.58181818,  2.62121212,  2.66060606,  2.7       ,\n",
        "        2.73939394,  2.77878788,  2.81818182,  2.85757576,  2.8969697 ,\n",
        "        2.93636364,  2.97575758,  3.01515152,  3.05454545,  3.09393939,\n",
        "        3.13333333,  3.17272727,  3.21212121,  3.25151515,  3.29090909,\n",
        "        3.33030303,  3.36969697,  3.40909091,  3.44848485,  3.48787879,\n",
        "        3.52727273,  3.56666667,  3.60606061,  3.64545455,  3.68484848,\n",
        "        3.72424242,  3.76363636,  3.8030303 ,  3.84242424,  3.88181818,\n",
        "        3.92121212,  3.96060606,  4.        ]),\n",
        " array([ 0.80909091,  0.84848485,  0.88787879,  0.92727273,  0.96666667,\n",
        "        1.00606061,  1.04545455,  1.08484848,  1.12424242,  1.16363636,\n",
        "        1.2030303 ,  1.24242424,  1.28181818,  1.32121212,  1.36060606,\n",
        "        1.4       ,  1.43939394,  1.47878788,  1.51818182,  1.55757576,\n",
        "        1.5969697 ,  1.63636364,  1.67575758,  1.71515152,  1.75454545,\n",
        "        1.79393939,  1.83333333,  1.87272727,  1.91212121,  1.95151515,\n",
        "        1.99090909,  2.03030303,  2.06969697,  2.10909091,  2.14848485,\n",
        "        2.18787879,  2.22727273,  2.26666667,  2.30606061,  2.34545455,\n",
        "        2.38484848,  2.42424242,  2.46363636,  2.5030303 ,  2.54242424,\n",
        "        2.58181818,  2.62121212,  2.66060606,  2.7       ,  2.73939394,\n",
        "        2.77878788,  2.81818182,  2.85757576,  2.8969697 ,  2.93636364,\n",
        "        2.97575758,  3.01515152,  3.05454545,  3.09393939,  3.13333333,\n",
        "        3.17272727,  3.21212121,  3.25151515,  3.29090909,  3.33030303,\n",
        "        3.36969697,  3.40909091,  3.44848485,  3.48787879,  3.52727273,\n",
        "        3.56666667,  3.60606061,  3.64545455,  3.68484848,  3.72424242,\n",
        "        3.76363636,  3.8030303 ,  3.84242424,  3.88181818,  3.92121212,\n",
        "        3.96060606,  4.        ]),\n",
        " array([ 0.84848485,  0.88787879,  0.92727273,  0.96666667,  1.00606061,\n",
        "        1.04545455,  1.08484848,  1.12424242,  1.16363636,  1.2030303 ,\n",
        "        1.24242424,  1.28181818,  1.32121212,  1.36060606,  1.4       ,\n",
        "        1.43939394,  1.47878788,  1.51818182,  1.55757576,  1.5969697 ,\n",
        "        1.63636364,  1.67575758,  1.71515152,  1.75454545,  1.79393939,\n",
        "        1.83333333,  1.87272727,  1.91212121,  1.95151515,  1.99090909,\n",
        "        2.03030303,  2.06969697,  2.10909091,  2.14848485,  2.18787879,\n",
        "        2.22727273,  2.26666667,  2.30606061,  2.34545455,  2.38484848,\n",
        "        2.42424242,  2.46363636,  2.5030303 ,  2.54242424,  2.58181818,\n",
        "        2.62121212,  2.66060606,  2.7       ,  2.73939394,  2.77878788,\n",
        "        2.81818182,  2.85757576,  2.8969697 ,  2.93636364,  2.97575758,\n",
        "        3.01515152,  3.05454545,  3.09393939,  3.13333333,  3.17272727,\n",
        "        3.21212121,  3.25151515,  3.29090909,  3.33030303,  3.36969697,\n",
        "        3.40909091,  3.44848485,  3.48787879,  3.52727273,  3.56666667,\n",
        "        3.60606061,  3.64545455,  3.68484848,  3.72424242,  3.76363636,\n",
        "        3.8030303 ,  3.84242424,  3.88181818,  3.92121212,  3.96060606,  4.        ]),\n",
        " array([ 0.88787879,  0.92727273,  0.96666667,  1.00606061,  1.04545455,\n",
        "        1.08484848,  1.12424242,  1.16363636,  1.2030303 ,  1.24242424,\n",
        "        1.28181818,  1.32121212,  1.36060606,  1.4       ,  1.43939394,\n",
        "        1.47878788,  1.51818182,  1.55757576,  1.5969697 ,  1.63636364,\n",
        "        1.67575758,  1.71515152,  1.75454545,  1.79393939,  1.83333333,\n",
        "        1.87272727,  1.91212121,  1.95151515,  1.99090909,  2.03030303,\n",
        "        2.06969697,  2.10909091,  2.14848485,  2.18787879,  2.22727273,\n",
        "        2.26666667,  2.30606061,  2.34545455,  2.38484848,  2.42424242,\n",
        "        2.46363636,  2.5030303 ,  2.54242424,  2.58181818,  2.62121212,\n",
        "        2.66060606,  2.7       ,  2.73939394,  2.77878788,  2.81818182,\n",
        "        2.85757576,  2.8969697 ,  2.93636364,  2.97575758,  3.01515152,\n",
        "        3.05454545,  3.09393939,  3.13333333,  3.17272727,  3.21212121,\n",
        "        3.25151515,  3.29090909,  3.33030303,  3.36969697,  3.40909091,\n",
        "        3.44848485,  3.48787879,  3.52727273,  3.56666667,  3.60606061,\n",
        "        3.64545455,  3.68484848,  3.72424242,  3.76363636,  3.8030303 ,\n",
        "        3.84242424,  3.88181818,  3.92121212,  3.96060606,  4.        ]),\n",
        " array([ 0.92727273,  0.96666667,  1.00606061,  1.04545455,  1.08484848,\n",
        "        1.12424242,  1.16363636,  1.2030303 ,  1.24242424,  1.28181818,\n",
        "        1.32121212,  1.36060606,  1.4       ,  1.43939394,  1.47878788,\n",
        "        1.51818182,  1.55757576,  1.5969697 ,  1.63636364,  1.67575758,\n",
        "        1.71515152,  1.75454545,  1.79393939,  1.83333333,  1.87272727,\n",
        "        1.91212121,  1.95151515,  1.99090909,  2.03030303,  2.06969697,\n",
        "        2.10909091,  2.14848485,  2.18787879,  2.22727273,  2.26666667,\n",
        "        2.30606061,  2.34545455,  2.38484848,  2.42424242,  2.46363636,\n",
        "        2.5030303 ,  2.54242424,  2.58181818,  2.62121212,  2.66060606,\n",
        "        2.7       ,  2.73939394,  2.77878788,  2.81818182,  2.85757576,\n",
        "        2.8969697 ,  2.93636364,  2.97575758,  3.01515152,  3.05454545,\n",
        "        3.09393939,  3.13333333,  3.17272727,  3.21212121,  3.25151515,\n",
        "        3.29090909,  3.33030303,  3.36969697,  3.40909091,  3.44848485,\n",
        "        3.48787879,  3.52727273,  3.56666667,  3.60606061,  3.64545455,\n",
        "        3.68484848,  3.72424242,  3.76363636,  3.8030303 ,  3.84242424,\n",
        "        3.88181818,  3.92121212,  3.96060606,  4.        ]),\n",
        " array([ 0.96666667,  1.00606061,  1.04545455,  1.08484848,  1.12424242,\n",
        "        1.16363636,  1.2030303 ,  1.24242424,  1.28181818,  1.32121212,\n",
        "        1.36060606,  1.4       ,  1.43939394,  1.47878788,  1.51818182,\n",
        "        1.55757576,  1.5969697 ,  1.63636364,  1.67575758,  1.71515152,\n",
        "        1.75454545,  1.79393939,  1.83333333,  1.87272727,  1.91212121,\n",
        "        1.95151515,  1.99090909,  2.03030303,  2.06969697,  2.10909091,\n",
        "        2.14848485,  2.18787879,  2.22727273,  2.26666667,  2.30606061,\n",
        "        2.34545455,  2.38484848,  2.42424242,  2.46363636,  2.5030303 ,\n",
        "        2.54242424,  2.58181818,  2.62121212,  2.66060606,  2.7       ,\n",
        "        2.73939394,  2.77878788,  2.81818182,  2.85757576,  2.8969697 ,\n",
        "        2.93636364,  2.97575758,  3.01515152,  3.05454545,  3.09393939,\n",
        "        3.13333333,  3.17272727,  3.21212121,  3.25151515,  3.29090909,\n",
        "        3.33030303,  3.36969697,  3.40909091,  3.44848485,  3.48787879,\n",
        "        3.52727273,  3.56666667,  3.60606061,  3.64545455,  3.68484848,\n",
        "        3.72424242,  3.76363636,  3.8030303 ,  3.84242424,  3.88181818,\n",
        "        3.92121212,  3.96060606,  4.        ]),\n",
        " array([ 1.00606061,  1.04545455,  1.08484848,  1.12424242,  1.16363636,\n",
        "        1.2030303 ,  1.24242424,  1.28181818,  1.32121212,  1.36060606,\n",
        "        1.4       ,  1.43939394,  1.47878788,  1.51818182,  1.55757576,\n",
        "        1.5969697 ,  1.63636364,  1.67575758,  1.71515152,  1.75454545,\n",
        "        1.79393939,  1.83333333,  1.87272727,  1.91212121,  1.95151515,\n",
        "        1.99090909,  2.03030303,  2.06969697,  2.10909091,  2.14848485,\n",
        "        2.18787879,  2.22727273,  2.26666667,  2.30606061,  2.34545455,\n",
        "        2.38484848,  2.42424242,  2.46363636,  2.5030303 ,  2.54242424,\n",
        "        2.58181818,  2.62121212,  2.66060606,  2.7       ,  2.73939394,\n",
        "        2.77878788,  2.81818182,  2.85757576,  2.8969697 ,  2.93636364,\n",
        "        2.97575758,  3.01515152,  3.05454545,  3.09393939,  3.13333333,\n",
        "        3.17272727,  3.21212121,  3.25151515,  3.29090909,  3.33030303,\n",
        "        3.36969697,  3.40909091,  3.44848485,  3.48787879,  3.52727273,\n",
        "        3.56666667,  3.60606061,  3.64545455,  3.68484848,  3.72424242,\n",
        "        3.76363636,  3.8030303 ,  3.84242424,  3.88181818,  3.92121212,\n",
        "        3.96060606,  4.        ]),\n",
        " array([ 1.04545455,  1.08484848,  1.12424242,  1.16363636,  1.2030303 ,\n",
        "        1.24242424,  1.28181818,  1.32121212,  1.36060606,  1.4       ,\n",
        "        1.43939394,  1.47878788,  1.51818182,  1.55757576,  1.5969697 ,\n",
        "        1.63636364,  1.67575758,  1.71515152,  1.75454545,  1.79393939,\n",
        "        1.83333333,  1.87272727,  1.91212121,  1.95151515,  1.99090909,\n",
        "        2.03030303,  2.06969697,  2.10909091,  2.14848485,  2.18787879,\n",
        "        2.22727273,  2.26666667,  2.30606061,  2.34545455,  2.38484848,\n",
        "        2.42424242,  2.46363636,  2.5030303 ,  2.54242424,  2.58181818,\n",
        "        2.62121212,  2.66060606,  2.7       ,  2.73939394,  2.77878788,\n",
        "        2.81818182,  2.85757576,  2.8969697 ,  2.93636364,  2.97575758,\n",
        "        3.01515152,  3.05454545,  3.09393939,  3.13333333,  3.17272727,\n",
        "        3.21212121,  3.25151515,  3.29090909,  3.33030303,  3.36969697,\n",
        "        3.40909091,  3.44848485,  3.48787879,  3.52727273,  3.56666667,\n",
        "        3.60606061,  3.64545455,  3.68484848,  3.72424242,  3.76363636,\n",
        "        3.8030303 ,  3.84242424,  3.88181818,  3.92121212,  3.96060606,  4.        ]),\n",
        " array([ 1.08484848,  1.12424242,  1.16363636,  1.2030303 ,  1.24242424,\n",
        "        1.28181818,  1.32121212,  1.36060606,  1.4       ,  1.43939394,\n",
        "        1.47878788,  1.51818182,  1.55757576,  1.5969697 ,  1.63636364,\n",
        "        1.67575758,  1.71515152,  1.75454545,  1.79393939,  1.83333333,\n",
        "        1.87272727,  1.91212121,  1.95151515,  1.99090909,  2.03030303,\n",
        "        2.06969697,  2.10909091,  2.14848485,  2.18787879,  2.22727273,\n",
        "        2.26666667,  2.30606061,  2.34545455,  2.38484848,  2.42424242,\n",
        "        2.46363636,  2.5030303 ,  2.54242424,  2.58181818,  2.62121212,\n",
        "        2.66060606,  2.7       ,  2.73939394,  2.77878788,  2.81818182,\n",
        "        2.85757576,  2.8969697 ,  2.93636364,  2.97575758,  3.01515152,\n",
        "        3.05454545,  3.09393939,  3.13333333,  3.17272727,  3.21212121,\n",
        "        3.25151515,  3.29090909,  3.33030303,  3.36969697,  3.40909091,\n",
        "        3.44848485,  3.48787879,  3.52727273,  3.56666667,  3.60606061,\n",
        "        3.64545455,  3.68484848,  3.72424242,  3.76363636,  3.8030303 ,\n",
        "        3.84242424,  3.88181818,  3.92121212,  3.96060606,  4.        ]),\n",
        " array([ 1.12424242,  1.16363636,  1.2030303 ,  1.24242424,  1.28181818,\n",
        "        1.32121212,  1.36060606,  1.4       ,  1.43939394,  1.47878788,\n",
        "        1.51818182,  1.55757576,  1.5969697 ,  1.63636364,  1.67575758,\n",
        "        1.71515152,  1.75454545,  1.79393939,  1.83333333,  1.87272727,\n",
        "        1.91212121,  1.95151515,  1.99090909,  2.03030303,  2.06969697,\n",
        "        2.10909091,  2.14848485,  2.18787879,  2.22727273,  2.26666667,\n",
        "        2.30606061,  2.34545455,  2.38484848,  2.42424242,  2.46363636,\n",
        "        2.5030303 ,  2.54242424,  2.58181818,  2.62121212,  2.66060606,\n",
        "        2.7       ,  2.73939394,  2.77878788,  2.81818182,  2.85757576,\n",
        "        2.8969697 ,  2.93636364,  2.97575758,  3.01515152,  3.05454545,\n",
        "        3.09393939,  3.13333333,  3.17272727,  3.21212121,  3.25151515,\n",
        "        3.29090909,  3.33030303,  3.36969697,  3.40909091,  3.44848485,\n",
        "        3.48787879,  3.52727273,  3.56666667,  3.60606061,  3.64545455,\n",
        "        3.68484848,  3.72424242,  3.76363636,  3.8030303 ,  3.84242424,\n",
        "        3.88181818,  3.92121212,  3.96060606,  4.        ]),\n",
        " array([ 1.16363636,  1.2030303 ,  1.24242424,  1.28181818,  1.32121212,\n",
        "        1.36060606,  1.4       ,  1.43939394,  1.47878788,  1.51818182,\n",
        "        1.55757576,  1.5969697 ,  1.63636364,  1.67575758,  1.71515152,\n",
        "        1.75454545,  1.79393939,  1.83333333,  1.87272727,  1.91212121,\n",
        "        1.95151515,  1.99090909,  2.03030303,  2.06969697,  2.10909091,\n",
        "        2.14848485,  2.18787879,  2.22727273,  2.26666667,  2.30606061,\n",
        "        2.34545455,  2.38484848,  2.42424242,  2.46363636,  2.5030303 ,\n",
        "        2.54242424,  2.58181818,  2.62121212,  2.66060606,  2.7       ,\n",
        "        2.73939394,  2.77878788,  2.81818182,  2.85757576,  2.8969697 ,\n",
        "        2.93636364,  2.97575758,  3.01515152,  3.05454545,  3.09393939,\n",
        "        3.13333333,  3.17272727,  3.21212121,  3.25151515,  3.29090909,\n",
        "        3.33030303,  3.36969697,  3.40909091,  3.44848485,  3.48787879,\n",
        "        3.52727273,  3.56666667,  3.60606061,  3.64545455,  3.68484848,\n",
        "        3.72424242,  3.76363636,  3.8030303 ,  3.84242424,  3.88181818,\n",
        "        3.92121212,  3.96060606,  4.        ]),\n",
        " array([ 1.2030303 ,  1.24242424,  1.28181818,  1.32121212,  1.36060606,\n",
        "        1.4       ,  1.43939394,  1.47878788,  1.51818182,  1.55757576,\n",
        "        1.5969697 ,  1.63636364,  1.67575758,  1.71515152,  1.75454545,\n",
        "        1.79393939,  1.83333333,  1.87272727,  1.91212121,  1.95151515,\n",
        "        1.99090909,  2.03030303,  2.06969697,  2.10909091,  2.14848485,\n",
        "        2.18787879,  2.22727273,  2.26666667,  2.30606061,  2.34545455,\n",
        "        2.38484848,  2.42424242,  2.46363636,  2.5030303 ,  2.54242424,\n",
        "        2.58181818,  2.62121212,  2.66060606,  2.7       ,  2.73939394,\n",
        "        2.77878788,  2.81818182,  2.85757576,  2.8969697 ,  2.93636364,\n",
        "        2.97575758,  3.01515152,  3.05454545,  3.09393939,  3.13333333,\n",
        "        3.17272727,  3.21212121,  3.25151515,  3.29090909,  3.33030303,\n",
        "        3.36969697,  3.40909091,  3.44848485,  3.48787879,  3.52727273,\n",
        "        3.56666667,  3.60606061,  3.64545455,  3.68484848,  3.72424242,\n",
        "        3.76363636,  3.8030303 ,  3.84242424,  3.88181818,  3.92121212,\n",
        "        3.96060606,  4.        ]),\n",
        " array([ 1.24242424,  1.28181818,  1.32121212,  1.36060606,  1.4       ,\n",
        "        1.43939394,  1.47878788,  1.51818182,  1.55757576,  1.5969697 ,\n",
        "        1.63636364,  1.67575758,  1.71515152,  1.75454545,  1.79393939,\n",
        "        1.83333333,  1.87272727,  1.91212121,  1.95151515,  1.99090909,\n",
        "        2.03030303,  2.06969697,  2.10909091,  2.14848485,  2.18787879,\n",
        "        2.22727273,  2.26666667,  2.30606061,  2.34545455,  2.38484848,\n",
        "        2.42424242,  2.46363636,  2.5030303 ,  2.54242424,  2.58181818,\n",
        "        2.62121212,  2.66060606,  2.7       ,  2.73939394,  2.77878788,\n",
        "        2.81818182,  2.85757576,  2.8969697 ,  2.93636364,  2.97575758,\n",
        "        3.01515152,  3.05454545,  3.09393939,  3.13333333,  3.17272727,\n",
        "        3.21212121,  3.25151515,  3.29090909,  3.33030303,  3.36969697,\n",
        "        3.40909091,  3.44848485,  3.48787879,  3.52727273,  3.56666667,\n",
        "        3.60606061,  3.64545455,  3.68484848,  3.72424242,  3.76363636,\n",
        "        3.8030303 ,  3.84242424,  3.88181818,  3.92121212,  3.96060606,  4.        ]),\n",
        " array([ 1.28181818,  1.32121212,  1.36060606,  1.4       ,  1.43939394,\n",
        "        1.47878788,  1.51818182,  1.55757576,  1.5969697 ,  1.63636364,\n",
        "        1.67575758,  1.71515152,  1.75454545,  1.79393939,  1.83333333,\n",
        "        1.87272727,  1.91212121,  1.95151515,  1.99090909,  2.03030303,\n",
        "        2.06969697,  2.10909091,  2.14848485,  2.18787879,  2.22727273,\n",
        "        2.26666667,  2.30606061,  2.34545455,  2.38484848,  2.42424242,\n",
        "        2.46363636,  2.5030303 ,  2.54242424,  2.58181818,  2.62121212,\n",
        "        2.66060606,  2.7       ,  2.73939394,  2.77878788,  2.81818182,\n",
        "        2.85757576,  2.8969697 ,  2.93636364,  2.97575758,  3.01515152,\n",
        "        3.05454545,  3.09393939,  3.13333333,  3.17272727,  3.21212121,\n",
        "        3.25151515,  3.29090909,  3.33030303,  3.36969697,  3.40909091,\n",
        "        3.44848485,  3.48787879,  3.52727273,  3.56666667,  3.60606061,\n",
        "        3.64545455,  3.68484848,  3.72424242,  3.76363636,  3.8030303 ,\n",
        "        3.84242424,  3.88181818,  3.92121212,  3.96060606,  4.        ]),\n",
        " array([ 1.32121212,  1.36060606,  1.4       ,  1.43939394,  1.47878788,\n",
        "        1.51818182,  1.55757576,  1.5969697 ,  1.63636364,  1.67575758,\n",
        "        1.71515152,  1.75454545,  1.79393939,  1.83333333,  1.87272727,\n",
        "        1.91212121,  1.95151515,  1.99090909,  2.03030303,  2.06969697,\n",
        "        2.10909091,  2.14848485,  2.18787879,  2.22727273,  2.26666667,\n",
        "        2.30606061,  2.34545455,  2.38484848,  2.42424242,  2.46363636,\n",
        "        2.5030303 ,  2.54242424,  2.58181818,  2.62121212,  2.66060606,\n",
        "        2.7       ,  2.73939394,  2.77878788,  2.81818182,  2.85757576,\n",
        "        2.8969697 ,  2.93636364,  2.97575758,  3.01515152,  3.05454545,\n",
        "        3.09393939,  3.13333333,  3.17272727,  3.21212121,  3.25151515,\n",
        "        3.29090909,  3.33030303,  3.36969697,  3.40909091,  3.44848485,\n",
        "        3.48787879,  3.52727273,  3.56666667,  3.60606061,  3.64545455,\n",
        "        3.68484848,  3.72424242,  3.76363636,  3.8030303 ,  3.84242424,\n",
        "        3.88181818,  3.92121212,  3.96060606,  4.        ]),\n",
        " array([ 1.36060606,  1.4       ,  1.43939394,  1.47878788,  1.51818182,\n",
        "        1.55757576,  1.5969697 ,  1.63636364,  1.67575758,  1.71515152,\n",
        "        1.75454545,  1.79393939,  1.83333333,  1.87272727,  1.91212121,\n",
        "        1.95151515,  1.99090909,  2.03030303,  2.06969697,  2.10909091,\n",
        "        2.14848485,  2.18787879,  2.22727273,  2.26666667,  2.30606061,\n",
        "        2.34545455,  2.38484848,  2.42424242,  2.46363636,  2.5030303 ,\n",
        "        2.54242424,  2.58181818,  2.62121212,  2.66060606,  2.7       ,\n",
        "        2.73939394,  2.77878788,  2.81818182,  2.85757576,  2.8969697 ,\n",
        "        2.93636364,  2.97575758,  3.01515152,  3.05454545,  3.09393939,\n",
        "        3.13333333,  3.17272727,  3.21212121,  3.25151515,  3.29090909,\n",
        "        3.33030303,  3.36969697,  3.40909091,  3.44848485,  3.48787879,\n",
        "        3.52727273,  3.56666667,  3.60606061,  3.64545455,  3.68484848,\n",
        "        3.72424242,  3.76363636,  3.8030303 ,  3.84242424,  3.88181818,\n",
        "        3.92121212,  3.96060606,  4.        ]),\n",
        " array([ 1.4       ,  1.43939394,  1.47878788,  1.51818182,  1.55757576,\n",
        "        1.5969697 ,  1.63636364,  1.67575758,  1.71515152,  1.75454545,\n",
        "        1.79393939,  1.83333333,  1.87272727,  1.91212121,  1.95151515,\n",
        "        1.99090909,  2.03030303,  2.06969697,  2.10909091,  2.14848485,\n",
        "        2.18787879,  2.22727273,  2.26666667,  2.30606061,  2.34545455,\n",
        "        2.38484848,  2.42424242,  2.46363636,  2.5030303 ,  2.54242424,\n",
        "        2.58181818,  2.62121212,  2.66060606,  2.7       ,  2.73939394,\n",
        "        2.77878788,  2.81818182,  2.85757576,  2.8969697 ,  2.93636364,\n",
        "        2.97575758,  3.01515152,  3.05454545,  3.09393939,  3.13333333,\n",
        "        3.17272727,  3.21212121,  3.25151515,  3.29090909,  3.33030303,\n",
        "        3.36969697,  3.40909091,  3.44848485,  3.48787879,  3.52727273,\n",
        "        3.56666667,  3.60606061,  3.64545455,  3.68484848,  3.72424242,\n",
        "        3.76363636,  3.8030303 ,  3.84242424,  3.88181818,  3.92121212,\n",
        "        3.96060606,  4.        ]),\n",
        " array([ 1.43939394,  1.47878788,  1.51818182,  1.55757576,  1.5969697 ,\n",
        "        1.63636364,  1.67575758,  1.71515152,  1.75454545,  1.79393939,\n",
        "        1.83333333,  1.87272727,  1.91212121,  1.95151515,  1.99090909,\n",
        "        2.03030303,  2.06969697,  2.10909091,  2.14848485,  2.18787879,\n",
        "        2.22727273,  2.26666667,  2.30606061,  2.34545455,  2.38484848,\n",
        "        2.42424242,  2.46363636,  2.5030303 ,  2.54242424,  2.58181818,\n",
        "        2.62121212,  2.66060606,  2.7       ,  2.73939394,  2.77878788,\n",
        "        2.81818182,  2.85757576,  2.8969697 ,  2.93636364,  2.97575758,\n",
        "        3.01515152,  3.05454545,  3.09393939,  3.13333333,  3.17272727,\n",
        "        3.21212121,  3.25151515,  3.29090909,  3.33030303,  3.36969697,\n",
        "        3.40909091,  3.44848485,  3.48787879,  3.52727273,  3.56666667,\n",
        "        3.60606061,  3.64545455,  3.68484848,  3.72424242,  3.76363636,\n",
        "        3.8030303 ,  3.84242424,  3.88181818,  3.92121212,  3.96060606,  4.        ]),\n",
        " array([ 1.47878788,  1.51818182,  1.55757576,  1.5969697 ,  1.63636364,\n",
        "        1.67575758,  1.71515152,  1.75454545,  1.79393939,  1.83333333,\n",
        "        1.87272727,  1.91212121,  1.95151515,  1.99090909,  2.03030303,\n",
        "        2.06969697,  2.10909091,  2.14848485,  2.18787879,  2.22727273,\n",
        "        2.26666667,  2.30606061,  2.34545455,  2.38484848,  2.42424242,\n",
        "        2.46363636,  2.5030303 ,  2.54242424,  2.58181818,  2.62121212,\n",
        "        2.66060606,  2.7       ,  2.73939394,  2.77878788,  2.81818182,\n",
        "        2.85757576,  2.8969697 ,  2.93636364,  2.97575758,  3.01515152,\n",
        "        3.05454545,  3.09393939,  3.13333333,  3.17272727,  3.21212121,\n",
        "        3.25151515,  3.29090909,  3.33030303,  3.36969697,  3.40909091,\n",
        "        3.44848485,  3.48787879,  3.52727273,  3.56666667,  3.60606061,\n",
        "        3.64545455,  3.68484848,  3.72424242,  3.76363636,  3.8030303 ,\n",
        "        3.84242424,  3.88181818,  3.92121212,  3.96060606,  4.        ]),\n",
        " array([ 1.51818182,  1.55757576,  1.5969697 ,  1.63636364,  1.67575758,\n",
        "        1.71515152,  1.75454545,  1.79393939,  1.83333333,  1.87272727,\n",
        "        1.91212121,  1.95151515,  1.99090909,  2.03030303,  2.06969697,\n",
        "        2.10909091,  2.14848485,  2.18787879,  2.22727273,  2.26666667,\n",
        "        2.30606061,  2.34545455,  2.38484848,  2.42424242,  2.46363636,\n",
        "        2.5030303 ,  2.54242424,  2.58181818,  2.62121212,  2.66060606,\n",
        "        2.7       ,  2.73939394,  2.77878788,  2.81818182,  2.85757576,\n",
        "        2.8969697 ,  2.93636364,  2.97575758,  3.01515152,  3.05454545,\n",
        "        3.09393939,  3.13333333,  3.17272727,  3.21212121,  3.25151515,\n",
        "        3.29090909,  3.33030303,  3.36969697,  3.40909091,  3.44848485,\n",
        "        3.48787879,  3.52727273,  3.56666667,  3.60606061,  3.64545455,\n",
        "        3.68484848,  3.72424242,  3.76363636,  3.8030303 ,  3.84242424,\n",
        "        3.88181818,  3.92121212,  3.96060606,  4.        ]),\n",
        " array([ 1.55757576,  1.5969697 ,  1.63636364,  1.67575758,  1.71515152,\n",
        "        1.75454545,  1.79393939,  1.83333333,  1.87272727,  1.91212121,\n",
        "        1.95151515,  1.99090909,  2.03030303,  2.06969697,  2.10909091,\n",
        "        2.14848485,  2.18787879,  2.22727273,  2.26666667,  2.30606061,\n",
        "        2.34545455,  2.38484848,  2.42424242,  2.46363636,  2.5030303 ,\n",
        "        2.54242424,  2.58181818,  2.62121212,  2.66060606,  2.7       ,\n",
        "        2.73939394,  2.77878788,  2.81818182,  2.85757576,  2.8969697 ,\n",
        "        2.93636364,  2.97575758,  3.01515152,  3.05454545,  3.09393939,\n",
        "        3.13333333,  3.17272727,  3.21212121,  3.25151515,  3.29090909,\n",
        "        3.33030303,  3.36969697,  3.40909091,  3.44848485,  3.48787879,\n",
        "        3.52727273,  3.56666667,  3.60606061,  3.64545455,  3.68484848,\n",
        "        3.72424242,  3.76363636,  3.8030303 ,  3.84242424,  3.88181818,\n",
        "        3.92121212,  3.96060606,  4.        ]),\n",
        " array([ 1.5969697 ,  1.63636364,  1.67575758,  1.71515152,  1.75454545,\n",
        "        1.79393939,  1.83333333,  1.87272727,  1.91212121,  1.95151515,\n",
        "        1.99090909,  2.03030303,  2.06969697,  2.10909091,  2.14848485,\n",
        "        2.18787879,  2.22727273,  2.26666667,  2.30606061,  2.34545455,\n",
        "        2.38484848,  2.42424242,  2.46363636,  2.5030303 ,  2.54242424,\n",
        "        2.58181818,  2.62121212,  2.66060606,  2.7       ,  2.73939394,\n",
        "        2.77878788,  2.81818182,  2.85757576,  2.8969697 ,  2.93636364,\n",
        "        2.97575758,  3.01515152,  3.05454545,  3.09393939,  3.13333333,\n",
        "        3.17272727,  3.21212121,  3.25151515,  3.29090909,  3.33030303,\n",
        "        3.36969697,  3.40909091,  3.44848485,  3.48787879,  3.52727273,\n",
        "        3.56666667,  3.60606061,  3.64545455,  3.68484848,  3.72424242,\n",
        "        3.76363636,  3.8030303 ,  3.84242424,  3.88181818,  3.92121212,\n",
        "        3.96060606,  4.        ]),\n",
        " array([ 1.63636364,  1.67575758,  1.71515152,  1.75454545,  1.79393939,\n",
        "        1.83333333,  1.87272727,  1.91212121,  1.95151515,  1.99090909,\n",
        "        2.03030303,  2.06969697,  2.10909091,  2.14848485,  2.18787879,\n",
        "        2.22727273,  2.26666667,  2.30606061,  2.34545455,  2.38484848,\n",
        "        2.42424242,  2.46363636,  2.5030303 ,  2.54242424,  2.58181818,\n",
        "        2.62121212,  2.66060606,  2.7       ,  2.73939394,  2.77878788,\n",
        "        2.81818182,  2.85757576,  2.8969697 ,  2.93636364,  2.97575758,\n",
        "        3.01515152,  3.05454545,  3.09393939,  3.13333333,  3.17272727,\n",
        "        3.21212121,  3.25151515,  3.29090909,  3.33030303,  3.36969697,\n",
        "        3.40909091,  3.44848485,  3.48787879,  3.52727273,  3.56666667,\n",
        "        3.60606061,  3.64545455,  3.68484848,  3.72424242,  3.76363636,\n",
        "        3.8030303 ,  3.84242424,  3.88181818,  3.92121212,  3.96060606,  4.        ]),\n",
        " array([ 1.67575758,  1.71515152,  1.75454545,  1.79393939,  1.83333333,\n",
        "        1.87272727,  1.91212121,  1.95151515,  1.99090909,  2.03030303,\n",
        "        2.06969697,  2.10909091,  2.14848485,  2.18787879,  2.22727273,\n",
        "        2.26666667,  2.30606061,  2.34545455,  2.38484848,  2.42424242,\n",
        "        2.46363636,  2.5030303 ,  2.54242424,  2.58181818,  2.62121212,\n",
        "        2.66060606,  2.7       ,  2.73939394,  2.77878788,  2.81818182,\n",
        "        2.85757576,  2.8969697 ,  2.93636364,  2.97575758,  3.01515152,\n",
        "        3.05454545,  3.09393939,  3.13333333,  3.17272727,  3.21212121,\n",
        "        3.25151515,  3.29090909,  3.33030303,  3.36969697,  3.40909091,\n",
        "        3.44848485,  3.48787879,  3.52727273,  3.56666667,  3.60606061,\n",
        "        3.64545455,  3.68484848,  3.72424242,  3.76363636,  3.8030303 ,\n",
        "        3.84242424,  3.88181818,  3.92121212,  3.96060606,  4.        ]),\n",
        " array([ 1.71515152,  1.75454545,  1.79393939,  1.83333333,  1.87272727,\n",
        "        1.91212121,  1.95151515,  1.99090909,  2.03030303,  2.06969697,\n",
        "        2.10909091,  2.14848485,  2.18787879,  2.22727273,  2.26666667,\n",
        "        2.30606061,  2.34545455,  2.38484848,  2.42424242,  2.46363636,\n",
        "        2.5030303 ,  2.54242424,  2.58181818,  2.62121212,  2.66060606,\n",
        "        2.7       ,  2.73939394,  2.77878788,  2.81818182,  2.85757576,\n",
        "        2.8969697 ,  2.93636364,  2.97575758,  3.01515152,  3.05454545,\n",
        "        3.09393939,  3.13333333,  3.17272727,  3.21212121,  3.25151515,\n",
        "        3.29090909,  3.33030303,  3.36969697,  3.40909091,  3.44848485,\n",
        "        3.48787879,  3.52727273,  3.56666667,  3.60606061,  3.64545455,\n",
        "        3.68484848,  3.72424242,  3.76363636,  3.8030303 ,  3.84242424,\n",
        "        3.88181818,  3.92121212,  3.96060606,  4.        ]),\n",
        " array([ 1.75454545,  1.79393939,  1.83333333,  1.87272727,  1.91212121,\n",
        "        1.95151515,  1.99090909,  2.03030303,  2.06969697,  2.10909091,\n",
        "        2.14848485,  2.18787879,  2.22727273,  2.26666667,  2.30606061,\n",
        "        2.34545455,  2.38484848,  2.42424242,  2.46363636,  2.5030303 ,\n",
        "        2.54242424,  2.58181818,  2.62121212,  2.66060606,  2.7       ,\n",
        "        2.73939394,  2.77878788,  2.81818182,  2.85757576,  2.8969697 ,\n",
        "        2.93636364,  2.97575758,  3.01515152,  3.05454545,  3.09393939,\n",
        "        3.13333333,  3.17272727,  3.21212121,  3.25151515,  3.29090909,\n",
        "        3.33030303,  3.36969697,  3.40909091,  3.44848485,  3.48787879,\n",
        "        3.52727273,  3.56666667,  3.60606061,  3.64545455,  3.68484848,\n",
        "        3.72424242,  3.76363636,  3.8030303 ,  3.84242424,  3.88181818,\n",
        "        3.92121212,  3.96060606,  4.        ]),\n",
        " array([ 1.79393939,  1.83333333,  1.87272727,  1.91212121,  1.95151515,\n",
        "        1.99090909,  2.03030303,  2.06969697,  2.10909091,  2.14848485,\n",
        "        2.18787879,  2.22727273,  2.26666667,  2.30606061,  2.34545455,\n",
        "        2.38484848,  2.42424242,  2.46363636,  2.5030303 ,  2.54242424,\n",
        "        2.58181818,  2.62121212,  2.66060606,  2.7       ,  2.73939394,\n",
        "        2.77878788,  2.81818182,  2.85757576,  2.8969697 ,  2.93636364,\n",
        "        2.97575758,  3.01515152,  3.05454545,  3.09393939,  3.13333333,\n",
        "        3.17272727,  3.21212121,  3.25151515,  3.29090909,  3.33030303,\n",
        "        3.36969697,  3.40909091,  3.44848485,  3.48787879,  3.52727273,\n",
        "        3.56666667,  3.60606061,  3.64545455,  3.68484848,  3.72424242,\n",
        "        3.76363636,  3.8030303 ,  3.84242424,  3.88181818,  3.92121212,\n",
        "        3.96060606,  4.        ]),\n",
        " array([ 1.83333333,  1.87272727,  1.91212121,  1.95151515,  1.99090909,\n",
        "        2.03030303,  2.06969697,  2.10909091,  2.14848485,  2.18787879,\n",
        "        2.22727273,  2.26666667,  2.30606061,  2.34545455,  2.38484848,\n",
        "        2.42424242,  2.46363636,  2.5030303 ,  2.54242424,  2.58181818,\n",
        "        2.62121212,  2.66060606,  2.7       ,  2.73939394,  2.77878788,\n",
        "        2.81818182,  2.85757576,  2.8969697 ,  2.93636364,  2.97575758,\n",
        "        3.01515152,  3.05454545,  3.09393939,  3.13333333,  3.17272727,\n",
        "        3.21212121,  3.25151515,  3.29090909,  3.33030303,  3.36969697,\n",
        "        3.40909091,  3.44848485,  3.48787879,  3.52727273,  3.56666667,\n",
        "        3.60606061,  3.64545455,  3.68484848,  3.72424242,  3.76363636,\n",
        "        3.8030303 ,  3.84242424,  3.88181818,  3.92121212,  3.96060606,  4.        ]),\n",
        " array([ 1.87272727,  1.91212121,  1.95151515,  1.99090909,  2.03030303,\n",
        "        2.06969697,  2.10909091,  2.14848485,  2.18787879,  2.22727273,\n",
        "        2.26666667,  2.30606061,  2.34545455,  2.38484848,  2.42424242,\n",
        "        2.46363636,  2.5030303 ,  2.54242424,  2.58181818,  2.62121212,\n",
        "        2.66060606,  2.7       ,  2.73939394,  2.77878788,  2.81818182,\n",
        "        2.85757576,  2.8969697 ,  2.93636364,  2.97575758,  3.01515152,\n",
        "        3.05454545,  3.09393939,  3.13333333,  3.17272727,  3.21212121,\n",
        "        3.25151515,  3.29090909,  3.33030303,  3.36969697,  3.40909091,\n",
        "        3.44848485,  3.48787879,  3.52727273,  3.56666667,  3.60606061,\n",
        "        3.64545455,  3.68484848,  3.72424242,  3.76363636,  3.8030303 ,\n",
        "        3.84242424,  3.88181818,  3.92121212,  3.96060606,  4.        ]),\n",
        " array([ 1.91212121,  1.95151515,  1.99090909,  2.03030303,  2.06969697,\n",
        "        2.10909091,  2.14848485,  2.18787879,  2.22727273,  2.26666667,\n",
        "        2.30606061,  2.34545455,  2.38484848,  2.42424242,  2.46363636,\n",
        "        2.5030303 ,  2.54242424,  2.58181818,  2.62121212,  2.66060606,\n",
        "        2.7       ,  2.73939394,  2.77878788,  2.81818182,  2.85757576,\n",
        "        2.8969697 ,  2.93636364,  2.97575758,  3.01515152,  3.05454545,\n",
        "        3.09393939,  3.13333333,  3.17272727,  3.21212121,  3.25151515,\n",
        "        3.29090909,  3.33030303,  3.36969697,  3.40909091,  3.44848485,\n",
        "        3.48787879,  3.52727273,  3.56666667,  3.60606061,  3.64545455,\n",
        "        3.68484848,  3.72424242,  3.76363636,  3.8030303 ,  3.84242424,\n",
        "        3.88181818,  3.92121212,  3.96060606,  4.        ]),\n",
        " array([ 1.95151515,  1.99090909,  2.03030303,  2.06969697,  2.10909091,\n",
        "        2.14848485,  2.18787879,  2.22727273,  2.26666667,  2.30606061,\n",
        "        2.34545455,  2.38484848,  2.42424242,  2.46363636,  2.5030303 ,\n",
        "        2.54242424,  2.58181818,  2.62121212,  2.66060606,  2.7       ,\n",
        "        2.73939394,  2.77878788,  2.81818182,  2.85757576,  2.8969697 ,\n",
        "        2.93636364,  2.97575758,  3.01515152,  3.05454545,  3.09393939,\n",
        "        3.13333333,  3.17272727,  3.21212121,  3.25151515,  3.29090909,\n",
        "        3.33030303,  3.36969697,  3.40909091,  3.44848485,  3.48787879,\n",
        "        3.52727273,  3.56666667,  3.60606061,  3.64545455,  3.68484848,\n",
        "        3.72424242,  3.76363636,  3.8030303 ,  3.84242424,  3.88181818,\n",
        "        3.92121212,  3.96060606,  4.        ]),\n",
        " array([ 1.99090909,  2.03030303,  2.06969697,  2.10909091,  2.14848485,\n",
        "        2.18787879,  2.22727273,  2.26666667,  2.30606061,  2.34545455,\n",
        "        2.38484848,  2.42424242,  2.46363636,  2.5030303 ,  2.54242424,\n",
        "        2.58181818,  2.62121212,  2.66060606,  2.7       ,  2.73939394,\n",
        "        2.77878788,  2.81818182,  2.85757576,  2.8969697 ,  2.93636364,\n",
        "        2.97575758,  3.01515152,  3.05454545,  3.09393939,  3.13333333,\n",
        "        3.17272727,  3.21212121,  3.25151515,  3.29090909,  3.33030303,\n",
        "        3.36969697,  3.40909091,  3.44848485,  3.48787879,  3.52727273,\n",
        "        3.56666667,  3.60606061,  3.64545455,  3.68484848,  3.72424242,\n",
        "        3.76363636,  3.8030303 ,  3.84242424,  3.88181818,  3.92121212,\n",
        "        3.96060606,  4.        ]),\n",
        " array([ 2.03030303,  2.06969697,  2.10909091,  2.14848485,  2.18787879,\n",
        "        2.22727273,  2.26666667,  2.30606061,  2.34545455,  2.38484848,\n",
        "        2.42424242,  2.46363636,  2.5030303 ,  2.54242424,  2.58181818,\n",
        "        2.62121212,  2.66060606,  2.7       ,  2.73939394,  2.77878788,\n",
        "        2.81818182,  2.85757576,  2.8969697 ,  2.93636364,  2.97575758,\n",
        "        3.01515152,  3.05454545,  3.09393939,  3.13333333,  3.17272727,\n",
        "        3.21212121,  3.25151515,  3.29090909,  3.33030303,  3.36969697,\n",
        "        3.40909091,  3.44848485,  3.48787879,  3.52727273,  3.56666667,\n",
        "        3.60606061,  3.64545455,  3.68484848,  3.72424242,  3.76363636,\n",
        "        3.8030303 ,  3.84242424,  3.88181818,  3.92121212,  3.96060606,  4.        ]),\n",
        " array([ 2.06969697,  2.10909091,  2.14848485,  2.18787879,  2.22727273,\n",
        "        2.26666667,  2.30606061,  2.34545455,  2.38484848,  2.42424242,\n",
        "        2.46363636,  2.5030303 ,  2.54242424,  2.58181818,  2.62121212,\n",
        "        2.66060606,  2.7       ,  2.73939394,  2.77878788,  2.81818182,\n",
        "        2.85757576,  2.8969697 ,  2.93636364,  2.97575758,  3.01515152,\n",
        "        3.05454545,  3.09393939,  3.13333333,  3.17272727,  3.21212121,\n",
        "        3.25151515,  3.29090909,  3.33030303,  3.36969697,  3.40909091,\n",
        "        3.44848485,  3.48787879,  3.52727273,  3.56666667,  3.60606061,\n",
        "        3.64545455,  3.68484848,  3.72424242,  3.76363636,  3.8030303 ,\n",
        "        3.84242424,  3.88181818,  3.92121212,  3.96060606,  4.        ]),\n",
        " array([ 2.10909091,  2.14848485,  2.18787879,  2.22727273,  2.26666667,\n",
        "        2.30606061,  2.34545455,  2.38484848,  2.42424242,  2.46363636,\n",
        "        2.5030303 ,  2.54242424,  2.58181818,  2.62121212,  2.66060606,\n",
        "        2.7       ,  2.73939394,  2.77878788,  2.81818182,  2.85757576,\n",
        "        2.8969697 ,  2.93636364,  2.97575758,  3.01515152,  3.05454545,\n",
        "        3.09393939,  3.13333333,  3.17272727,  3.21212121,  3.25151515,\n",
        "        3.29090909,  3.33030303,  3.36969697,  3.40909091,  3.44848485,\n",
        "        3.48787879,  3.52727273,  3.56666667,  3.60606061,  3.64545455,\n",
        "        3.68484848,  3.72424242,  3.76363636,  3.8030303 ,  3.84242424,\n",
        "        3.88181818,  3.92121212,  3.96060606,  4.        ]),\n",
        " array([ 2.14848485,  2.18787879,  2.22727273,  2.26666667,  2.30606061,\n",
        "        2.34545455,  2.38484848,  2.42424242,  2.46363636,  2.5030303 ,\n",
        "        2.54242424,  2.58181818,  2.62121212,  2.66060606,  2.7       ,\n",
        "        2.73939394,  2.77878788,  2.81818182,  2.85757576,  2.8969697 ,\n",
        "        2.93636364,  2.97575758,  3.01515152,  3.05454545,  3.09393939,\n",
        "        3.13333333,  3.17272727,  3.21212121,  3.25151515,  3.29090909,\n",
        "        3.33030303,  3.36969697,  3.40909091,  3.44848485,  3.48787879,\n",
        "        3.52727273,  3.56666667,  3.60606061,  3.64545455,  3.68484848,\n",
        "        3.72424242,  3.76363636,  3.8030303 ,  3.84242424,  3.88181818,\n",
        "        3.92121212,  3.96060606,  4.        ]),\n",
        " array([ 2.18787879,  2.22727273,  2.26666667,  2.30606061,  2.34545455,\n",
        "        2.38484848,  2.42424242,  2.46363636,  2.5030303 ,  2.54242424,\n",
        "        2.58181818,  2.62121212,  2.66060606,  2.7       ,  2.73939394,\n",
        "        2.77878788,  2.81818182,  2.85757576,  2.8969697 ,  2.93636364,\n",
        "        2.97575758,  3.01515152,  3.05454545,  3.09393939,  3.13333333,\n",
        "        3.17272727,  3.21212121,  3.25151515,  3.29090909,  3.33030303,\n",
        "        3.36969697,  3.40909091,  3.44848485,  3.48787879,  3.52727273,\n",
        "        3.56666667,  3.60606061,  3.64545455,  3.68484848,  3.72424242,\n",
        "        3.76363636,  3.8030303 ,  3.84242424,  3.88181818,  3.92121212,\n",
        "        3.96060606,  4.        ]),\n",
        " array([ 2.22727273,  2.26666667,  2.30606061,  2.34545455,  2.38484848,\n",
        "        2.42424242,  2.46363636,  2.5030303 ,  2.54242424,  2.58181818,\n",
        "        2.62121212,  2.66060606,  2.7       ,  2.73939394,  2.77878788,\n",
        "        2.81818182,  2.85757576,  2.8969697 ,  2.93636364,  2.97575758,\n",
        "        3.01515152,  3.05454545,  3.09393939,  3.13333333,  3.17272727,\n",
        "        3.21212121,  3.25151515,  3.29090909,  3.33030303,  3.36969697,\n",
        "        3.40909091,  3.44848485,  3.48787879,  3.52727273,  3.56666667,\n",
        "        3.60606061,  3.64545455,  3.68484848,  3.72424242,  3.76363636,\n",
        "        3.8030303 ,  3.84242424,  3.88181818,  3.92121212,  3.96060606,  4.        ]),\n",
        " array([ 2.26666667,  2.30606061,  2.34545455,  2.38484848,  2.42424242,\n",
        "        2.46363636,  2.5030303 ,  2.54242424,  2.58181818,  2.62121212,\n",
        "        2.66060606,  2.7       ,  2.73939394,  2.77878788,  2.81818182,\n",
        "        2.85757576,  2.8969697 ,  2.93636364,  2.97575758,  3.01515152,\n",
        "        3.05454545,  3.09393939,  3.13333333,  3.17272727,  3.21212121,\n",
        "        3.25151515,  3.29090909,  3.33030303,  3.36969697,  3.40909091,\n",
        "        3.44848485,  3.48787879,  3.52727273,  3.56666667,  3.60606061,\n",
        "        3.64545455,  3.68484848,  3.72424242,  3.76363636,  3.8030303 ,\n",
        "        3.84242424,  3.88181818,  3.92121212,  3.96060606,  4.        ]),\n",
        " array([ 2.30606061,  2.34545455,  2.38484848,  2.42424242,  2.46363636,\n",
        "        2.5030303 ,  2.54242424,  2.58181818,  2.62121212,  2.66060606,\n",
        "        2.7       ,  2.73939394,  2.77878788,  2.81818182,  2.85757576,\n",
        "        2.8969697 ,  2.93636364,  2.97575758,  3.01515152,  3.05454545,\n",
        "        3.09393939,  3.13333333,  3.17272727,  3.21212121,  3.25151515,\n",
        "        3.29090909,  3.33030303,  3.36969697,  3.40909091,  3.44848485,\n",
        "        3.48787879,  3.52727273,  3.56666667,  3.60606061,  3.64545455,\n",
        "        3.68484848,  3.72424242,  3.76363636,  3.8030303 ,  3.84242424,\n",
        "        3.88181818,  3.92121212,  3.96060606,  4.        ]),\n",
        " array([ 2.34545455,  2.38484848,  2.42424242,  2.46363636,  2.5030303 ,\n",
        "        2.54242424,  2.58181818,  2.62121212,  2.66060606,  2.7       ,\n",
        "        2.73939394,  2.77878788,  2.81818182,  2.85757576,  2.8969697 ,\n",
        "        2.93636364,  2.97575758,  3.01515152,  3.05454545,  3.09393939,\n",
        "        3.13333333,  3.17272727,  3.21212121,  3.25151515,  3.29090909,\n",
        "        3.33030303,  3.36969697,  3.40909091,  3.44848485,  3.48787879,\n",
        "        3.52727273,  3.56666667,  3.60606061,  3.64545455,  3.68484848,\n",
        "        3.72424242,  3.76363636,  3.8030303 ,  3.84242424,  3.88181818,\n",
        "        3.92121212,  3.96060606,  4.        ]),\n",
        " array([ 2.38484848,  2.42424242,  2.46363636,  2.5030303 ,  2.54242424,\n",
        "        2.58181818,  2.62121212,  2.66060606,  2.7       ,  2.73939394,\n",
        "        2.77878788,  2.81818182,  2.85757576,  2.8969697 ,  2.93636364,\n",
        "        2.97575758,  3.01515152,  3.05454545,  3.09393939,  3.13333333,\n",
        "        3.17272727,  3.21212121,  3.25151515,  3.29090909,  3.33030303,\n",
        "        3.36969697,  3.40909091,  3.44848485,  3.48787879,  3.52727273,\n",
        "        3.56666667,  3.60606061,  3.64545455,  3.68484848,  3.72424242,\n",
        "        3.76363636,  3.8030303 ,  3.84242424,  3.88181818,  3.92121212,\n",
        "        3.96060606,  4.        ]),\n",
        " array([ 2.42424242,  2.46363636,  2.5030303 ,  2.54242424,  2.58181818,\n",
        "        2.62121212,  2.66060606,  2.7       ,  2.73939394,  2.77878788,\n",
        "        2.81818182,  2.85757576,  2.8969697 ,  2.93636364,  2.97575758,\n",
        "        3.01515152,  3.05454545,  3.09393939,  3.13333333,  3.17272727,\n",
        "        3.21212121,  3.25151515,  3.29090909,  3.33030303,  3.36969697,\n",
        "        3.40909091,  3.44848485,  3.48787879,  3.52727273,  3.56666667,\n",
        "        3.60606061,  3.64545455,  3.68484848,  3.72424242,  3.76363636,\n",
        "        3.8030303 ,  3.84242424,  3.88181818,  3.92121212,  3.96060606,  4.        ]),\n",
        " array([ 2.46363636,  2.5030303 ,  2.54242424,  2.58181818,  2.62121212,\n",
        "        2.66060606,  2.7       ,  2.73939394,  2.77878788,  2.81818182,\n",
        "        2.85757576,  2.8969697 ,  2.93636364,  2.97575758,  3.01515152,\n",
        "        3.05454545,  3.09393939,  3.13333333,  3.17272727,  3.21212121,\n",
        "        3.25151515,  3.29090909,  3.33030303,  3.36969697,  3.40909091,\n",
        "        3.44848485,  3.48787879,  3.52727273,  3.56666667,  3.60606061,\n",
        "        3.64545455,  3.68484848,  3.72424242,  3.76363636,  3.8030303 ,\n",
        "        3.84242424,  3.88181818,  3.92121212,  3.96060606,  4.        ]),\n",
        " array([ 2.5030303 ,  2.54242424,  2.58181818,  2.62121212,  2.66060606,\n",
        "        2.7       ,  2.73939394,  2.77878788,  2.81818182,  2.85757576,\n",
        "        2.8969697 ,  2.93636364,  2.97575758,  3.01515152,  3.05454545,\n",
        "        3.09393939,  3.13333333,  3.17272727,  3.21212121,  3.25151515,\n",
        "        3.29090909,  3.33030303,  3.36969697,  3.40909091,  3.44848485,\n",
        "        3.48787879,  3.52727273,  3.56666667,  3.60606061,  3.64545455,\n",
        "        3.68484848,  3.72424242,  3.76363636,  3.8030303 ,  3.84242424,\n",
        "        3.88181818,  3.92121212,  3.96060606,  4.        ]),\n",
        " array([ 2.54242424,  2.58181818,  2.62121212,  2.66060606,  2.7       ,\n",
        "        2.73939394,  2.77878788,  2.81818182,  2.85757576,  2.8969697 ,\n",
        "        2.93636364,  2.97575758,  3.01515152,  3.05454545,  3.09393939,\n",
        "        3.13333333,  3.17272727,  3.21212121,  3.25151515,  3.29090909,\n",
        "        3.33030303,  3.36969697,  3.40909091,  3.44848485,  3.48787879,\n",
        "        3.52727273,  3.56666667,  3.60606061,  3.64545455,  3.68484848,\n",
        "        3.72424242,  3.76363636,  3.8030303 ,  3.84242424,  3.88181818,\n",
        "        3.92121212,  3.96060606,  4.        ]),\n",
        " array([ 2.58181818,  2.62121212,  2.66060606,  2.7       ,  2.73939394,\n",
        "        2.77878788,  2.81818182,  2.85757576,  2.8969697 ,  2.93636364,\n",
        "        2.97575758,  3.01515152,  3.05454545,  3.09393939,  3.13333333,\n",
        "        3.17272727,  3.21212121,  3.25151515,  3.29090909,  3.33030303,\n",
        "        3.36969697,  3.40909091,  3.44848485,  3.48787879,  3.52727273,\n",
        "        3.56666667,  3.60606061,  3.64545455,  3.68484848,  3.72424242,\n",
        "        3.76363636,  3.8030303 ,  3.84242424,  3.88181818,  3.92121212,\n",
        "        3.96060606,  4.        ]),\n",
        " array([ 2.62121212,  2.66060606,  2.7       ,  2.73939394,  2.77878788,\n",
        "        2.81818182,  2.85757576,  2.8969697 ,  2.93636364,  2.97575758,\n",
        "        3.01515152,  3.05454545,  3.09393939,  3.13333333,  3.17272727,\n",
        "        3.21212121,  3.25151515,  3.29090909,  3.33030303,  3.36969697,\n",
        "        3.40909091,  3.44848485,  3.48787879,  3.52727273,  3.56666667,\n",
        "        3.60606061,  3.64545455,  3.68484848,  3.72424242,  3.76363636,\n",
        "        3.8030303 ,  3.84242424,  3.88181818,  3.92121212,  3.96060606,  4.        ]),\n",
        " array([ 2.66060606,  2.7       ,  2.73939394,  2.77878788,  2.81818182,\n",
        "        2.85757576,  2.8969697 ,  2.93636364,  2.97575758,  3.01515152,\n",
        "        3.05454545,  3.09393939,  3.13333333,  3.17272727,  3.21212121,\n",
        "        3.25151515,  3.29090909,  3.33030303,  3.36969697,  3.40909091,\n",
        "        3.44848485,  3.48787879,  3.52727273,  3.56666667,  3.60606061,\n",
        "        3.64545455,  3.68484848,  3.72424242,  3.76363636,  3.8030303 ,\n",
        "        3.84242424,  3.88181818,  3.92121212,  3.96060606,  4.        ]),\n",
        " array([ 2.7       ,  2.73939394,  2.77878788,  2.81818182,  2.85757576,\n",
        "        2.8969697 ,  2.93636364,  2.97575758,  3.01515152,  3.05454545,\n",
        "        3.09393939,  3.13333333,  3.17272727,  3.21212121,  3.25151515,\n",
        "        3.29090909,  3.33030303,  3.36969697,  3.40909091,  3.44848485,\n",
        "        3.48787879,  3.52727273,  3.56666667,  3.60606061,  3.64545455,\n",
        "        3.68484848,  3.72424242,  3.76363636,  3.8030303 ,  3.84242424,\n",
        "        3.88181818,  3.92121212,  3.96060606,  4.        ]),\n",
        " array([ 2.73939394,  2.77878788,  2.81818182,  2.85757576,  2.8969697 ,\n",
        "        2.93636364,  2.97575758,  3.01515152,  3.05454545,  3.09393939,\n",
        "        3.13333333,  3.17272727,  3.21212121,  3.25151515,  3.29090909,\n",
        "        3.33030303,  3.36969697,  3.40909091,  3.44848485,  3.48787879,\n",
        "        3.52727273,  3.56666667,  3.60606061,  3.64545455,  3.68484848,\n",
        "        3.72424242,  3.76363636,  3.8030303 ,  3.84242424,  3.88181818,\n",
        "        3.92121212,  3.96060606,  4.        ]),\n",
        " array([ 2.77878788,  2.81818182,  2.85757576,  2.8969697 ,  2.93636364,\n",
        "        2.97575758,  3.01515152,  3.05454545,  3.09393939,  3.13333333,\n",
        "        3.17272727,  3.21212121,  3.25151515,  3.29090909,  3.33030303,\n",
        "        3.36969697,  3.40909091,  3.44848485,  3.48787879,  3.52727273,\n",
        "        3.56666667,  3.60606061,  3.64545455,  3.68484848,  3.72424242,\n",
        "        3.76363636,  3.8030303 ,  3.84242424,  3.88181818,  3.92121212,\n",
        "        3.96060606,  4.        ]),\n",
        " array([ 2.81818182,  2.85757576,  2.8969697 ,  2.93636364,  2.97575758,\n",
        "        3.01515152,  3.05454545,  3.09393939,  3.13333333,  3.17272727,\n",
        "        3.21212121,  3.25151515,  3.29090909,  3.33030303,  3.36969697,\n",
        "        3.40909091,  3.44848485,  3.48787879,  3.52727273,  3.56666667,\n",
        "        3.60606061,  3.64545455,  3.68484848,  3.72424242,  3.76363636,\n",
        "        3.8030303 ,  3.84242424,  3.88181818,  3.92121212,  3.96060606,  4.        ]),\n",
        " array([ 2.85757576,  2.8969697 ,  2.93636364,  2.97575758,  3.01515152,\n",
        "        3.05454545,  3.09393939,  3.13333333,  3.17272727,  3.21212121,\n",
        "        3.25151515,  3.29090909,  3.33030303,  3.36969697,  3.40909091,\n",
        "        3.44848485,  3.48787879,  3.52727273,  3.56666667,  3.60606061,\n",
        "        3.64545455,  3.68484848,  3.72424242,  3.76363636,  3.8030303 ,\n",
        "        3.84242424,  3.88181818,  3.92121212,  3.96060606,  4.        ]),\n",
        " array([ 2.8969697 ,  2.93636364,  2.97575758,  3.01515152,  3.05454545,\n",
        "        3.09393939,  3.13333333,  3.17272727,  3.21212121,  3.25151515,\n",
        "        3.29090909,  3.33030303,  3.36969697,  3.40909091,  3.44848485,\n",
        "        3.48787879,  3.52727273,  3.56666667,  3.60606061,  3.64545455,\n",
        "        3.68484848,  3.72424242,  3.76363636,  3.8030303 ,  3.84242424,\n",
        "        3.88181818,  3.92121212,  3.96060606,  4.        ]),\n",
        " array([ 2.93636364,  2.97575758,  3.01515152,  3.05454545,  3.09393939,\n",
        "        3.13333333,  3.17272727,  3.21212121,  3.25151515,  3.29090909,\n",
        "        3.33030303,  3.36969697,  3.40909091,  3.44848485,  3.48787879,\n",
        "        3.52727273,  3.56666667,  3.60606061,  3.64545455,  3.68484848,\n",
        "        3.72424242,  3.76363636,  3.8030303 ,  3.84242424,  3.88181818,\n",
        "        3.92121212,  3.96060606,  4.        ]),\n",
        " array([ 2.97575758,  3.01515152,  3.05454545,  3.09393939,  3.13333333,\n",
        "        3.17272727,  3.21212121,  3.25151515,  3.29090909,  3.33030303,\n",
        "        3.36969697,  3.40909091,  3.44848485,  3.48787879,  3.52727273,\n",
        "        3.56666667,  3.60606061,  3.64545455,  3.68484848,  3.72424242,\n",
        "        3.76363636,  3.8030303 ,  3.84242424,  3.88181818,  3.92121212,\n",
        "        3.96060606,  4.        ]),\n",
        " array([ 3.01515152,  3.05454545,  3.09393939,  3.13333333,  3.17272727,\n",
        "        3.21212121,  3.25151515,  3.29090909,  3.33030303,  3.36969697,\n",
        "        3.40909091,  3.44848485,  3.48787879,  3.52727273,  3.56666667,\n",
        "        3.60606061,  3.64545455,  3.68484848,  3.72424242,  3.76363636,\n",
        "        3.8030303 ,  3.84242424,  3.88181818,  3.92121212,  3.96060606,  4.        ]),\n",
        " array([ 3.05454545,  3.09393939,  3.13333333,  3.17272727,  3.21212121,\n",
        "        3.25151515,  3.29090909,  3.33030303,  3.36969697,  3.40909091,\n",
        "        3.44848485,  3.48787879,  3.52727273,  3.56666667,  3.60606061,\n",
        "        3.64545455,  3.68484848,  3.72424242,  3.76363636,  3.8030303 ,\n",
        "        3.84242424,  3.88181818,  3.92121212,  3.96060606,  4.        ]),\n",
        " array([ 3.09393939,  3.13333333,  3.17272727,  3.21212121,  3.25151515,\n",
        "        3.29090909,  3.33030303,  3.36969697,  3.40909091,  3.44848485,\n",
        "        3.48787879,  3.52727273,  3.56666667,  3.60606061,  3.64545455,\n",
        "        3.68484848,  3.72424242,  3.76363636,  3.8030303 ,  3.84242424,\n",
        "        3.88181818,  3.92121212,  3.96060606,  4.        ]),\n",
        " array([ 3.13333333,  3.17272727,  3.21212121,  3.25151515,  3.29090909,\n",
        "        3.33030303,  3.36969697,  3.40909091,  3.44848485,  3.48787879,\n",
        "        3.52727273,  3.56666667,  3.60606061,  3.64545455,  3.68484848,\n",
        "        3.72424242,  3.76363636,  3.8030303 ,  3.84242424,  3.88181818,\n",
        "        3.92121212,  3.96060606,  4.        ]),\n",
        " array([ 3.17272727,  3.21212121,  3.25151515,  3.29090909,  3.33030303,\n",
        "        3.36969697,  3.40909091,  3.44848485,  3.48787879,  3.52727273,\n",
        "        3.56666667,  3.60606061,  3.64545455,  3.68484848,  3.72424242,\n",
        "        3.76363636,  3.8030303 ,  3.84242424,  3.88181818,  3.92121212,\n",
        "        3.96060606,  4.        ]),\n",
        " array([ 3.21212121,  3.25151515,  3.29090909,  3.33030303,  3.36969697,\n",
        "        3.40909091,  3.44848485,  3.48787879,  3.52727273,  3.56666667,\n",
        "        3.60606061,  3.64545455,  3.68484848,  3.72424242,  3.76363636,\n",
        "        3.8030303 ,  3.84242424,  3.88181818,  3.92121212,  3.96060606,  4.        ]),\n",
        " array([ 3.25151515,  3.29090909,  3.33030303,  3.36969697,  3.40909091,\n",
        "        3.44848485,  3.48787879,  3.52727273,  3.56666667,  3.60606061,\n",
        "        3.64545455,  3.68484848,  3.72424242,  3.76363636,  3.8030303 ,\n",
        "        3.84242424,  3.88181818,  3.92121212,  3.96060606,  4.        ]),\n",
        " array([ 3.29090909,  3.33030303,  3.36969697,  3.40909091,  3.44848485,\n",
        "        3.48787879,  3.52727273,  3.56666667,  3.60606061,  3.64545455,\n",
        "        3.68484848,  3.72424242,  3.76363636,  3.8030303 ,  3.84242424,\n",
        "        3.88181818,  3.92121212,  3.96060606,  4.        ]),\n",
        " array([ 3.33030303,  3.36969697,  3.40909091,  3.44848485,  3.48787879,\n",
        "        3.52727273,  3.56666667,  3.60606061,  3.64545455,  3.68484848,\n",
        "        3.72424242,  3.76363636,  3.8030303 ,  3.84242424,  3.88181818,\n",
        "        3.92121212,  3.96060606,  4.        ]),\n",
        " array([ 3.36969697,  3.40909091,  3.44848485,  3.48787879,  3.52727273,\n",
        "        3.56666667,  3.60606061,  3.64545455,  3.68484848,  3.72424242,\n",
        "        3.76363636,  3.8030303 ,  3.84242424,  3.88181818,  3.92121212,\n",
        "        3.96060606,  4.        ]),\n",
        " array([ 3.40909091,  3.44848485,  3.48787879,  3.52727273,  3.56666667,\n",
        "        3.60606061,  3.64545455,  3.68484848,  3.72424242,  3.76363636,\n",
        "        3.8030303 ,  3.84242424,  3.88181818,  3.92121212,  3.96060606,  4.        ]),\n",
        " array([ 3.44848485,  3.48787879,  3.52727273,  3.56666667,  3.60606061,\n",
        "        3.64545455,  3.68484848,  3.72424242,  3.76363636,  3.8030303 ,\n",
        "        3.84242424,  3.88181818,  3.92121212,  3.96060606,  4.        ]),\n",
        " array([ 3.48787879,  3.52727273,  3.56666667,  3.60606061,  3.64545455,\n",
        "        3.68484848,  3.72424242,  3.76363636,  3.8030303 ,  3.84242424,\n",
        "        3.88181818,  3.92121212,  3.96060606,  4.        ]),\n",
        " array([ 3.52727273,  3.56666667,  3.60606061,  3.64545455,  3.68484848,\n",
        "        3.72424242,  3.76363636,  3.8030303 ,  3.84242424,  3.88181818,\n",
        "        3.92121212,  3.96060606,  4.        ]),\n",
        " array([ 3.56666667,  3.60606061,  3.64545455,  3.68484848,  3.72424242,\n",
        "        3.76363636,  3.8030303 ,  3.84242424,  3.88181818,  3.92121212,\n",
        "        3.96060606,  4.        ]),\n",
        " array([ 3.60606061,  3.64545455,  3.68484848,  3.72424242,  3.76363636,\n",
        "        3.8030303 ,  3.84242424,  3.88181818,  3.92121212,  3.96060606,  4.        ]),\n",
        " array([ 3.64545455,  3.68484848,  3.72424242,  3.76363636,  3.8030303 ,\n",
        "        3.84242424,  3.88181818,  3.92121212,  3.96060606,  4.        ]),\n",
        " array([ 3.68484848,  3.72424242,  3.76363636,  3.8030303 ,  3.84242424,\n",
        "        3.88181818,  3.92121212,  3.96060606,  4.        ]),\n",
        " array([ 3.72424242,  3.76363636,  3.8030303 ,  3.84242424,  3.88181818,\n",
        "        3.92121212,  3.96060606,  4.        ]),\n",
        " array([ 3.76363636,  3.8030303 ,  3.84242424,  3.88181818,  3.92121212,\n",
        "        3.96060606,  4.        ]),\n",
        " array([ 3.8030303 ,  3.84242424,  3.88181818,  3.92121212,  3.96060606,  4.        ]),\n",
        " array([ 3.84242424,  3.88181818,  3.92121212,  3.96060606,  4.        ]),\n",
        " array([ 3.88181818,  3.92121212,  3.96060606,  4.        ]),\n",
        " array([ 3.92121212,  3.96060606,  4.        ]),\n",
        " array([ 3.96060606,  4.        ]),\n",
        " array([ 4.]),\n",
        " array([], dtype=float64)]"
       ]
      }
     ],
     "prompt_number": 316
    },
    {
     "cell_type": "heading",
     "level": 2,
     "metadata": {},
     "source": [
      "Using `scipy.interpolate.pchip_interpolate`"
     ]
    },
    {
     "cell_type": "code",
     "collapsed": false,
     "input": [
      "from scipy.interpolate import pchip_interpolate"
     ],
     "language": "python",
     "metadata": {},
     "outputs": [],
     "prompt_number": 318
    },
    {
     "cell_type": "code",
     "collapsed": false,
     "input": [
      "pc = LinInterp(gp.X, gp.Y, kind='pchip')\n",
      "fine_grid = np.linspace(.1, 4, 1000)"
     ],
     "language": "python",
     "metadata": {},
     "outputs": [],
     "prompt_number": 365
    },
    {
     "cell_type": "code",
     "collapsed": false,
     "input": [
      "%autoreload"
     ],
     "language": "python",
     "metadata": {},
     "outputs": [],
     "prompt_number": 366
    },
    {
     "cell_type": "code",
     "collapsed": false,
     "input": [
      "plt.plot(fine_grid, gp(fine_grid), fine_grid, pc(fine_grid))"
     ],
     "language": "python",
     "metadata": {},
     "outputs": [
      {
       "metadata": {},
       "output_type": "pyout",
       "prompt_number": 367,
       "text": [
        "[<matplotlib.lines.Line2D at 0x1161efe90>,\n",
        " <matplotlib.lines.Line2D at 0x1161f1150>]"
       ]
      },
      {
       "metadata": {},
       "output_type": "display_data",
       "png": "[encoded data removed]",
       "text": [
        "<matplotlib.figure.Figure at 0x116151950>"
       ]
      }
     ],
     "prompt_number": 367
    },
    {
     "cell_type": "code",
     "collapsed": false,
     "input": [
      "plt.plot(grid, gp(grid) - pc(grid))"
     ],
     "language": "python",
     "metadata": {},
     "outputs": [
      {
       "metadata": {},
       "output_type": "pyout",
       "prompt_number": 368,
       "text": [
        "[<matplotlib.lines.Line2D at 0x116221910>]"
       ]
      },
      {
       "metadata": {},
       "output_type": "display_data",
       "png": "[encoded data removed]",
       "text": [
        "<matplotlib.figure.Figure at 0x11613eb50>"
       ]
      }
     ],
     "prompt_number": 368
    },
    {
     "cell_type": "code",
     "collapsed": false,
     "input": [],
     "language": "python",
     "metadata": {},
     "outputs": []
    }
   ],
   "metadata": {}
  }
 ]
}