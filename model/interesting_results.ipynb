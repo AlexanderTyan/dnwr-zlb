{
 "metadata": {
  "name": ""
 },
 "nbformat": 3,
 "nbformat_minor": 0,
 "worksheets": [
  {
   "cells": [
    {
     "cell_type": "code",
     "collapsed": false,
     "input": [
      "%pylab inline"
     ],
     "language": "python",
     "metadata": {},
     "outputs": [
      {
       "output_type": "stream",
       "stream": "stdout",
       "text": [
        "\n",
        "Welcome to pylab, a matplotlib-based Python environment [backend: module://IPython.kernel.zmq.pylab.backend_inline].\n",
        "For more information, type 'help(pylab)'.\n"
       ]
      }
     ],
     "prompt_number": 28
    },
    {
     "cell_type": "code",
     "collapsed": false,
     "input": [
      "%run value_function.py"
     ],
     "language": "python",
     "metadata": {},
     "outputs": [],
     "prompt_number": 39
    },
    {
     "cell_type": "heading",
     "level": 4,
     "metadata": {},
     "source": [
      "Plot restricted $w^*$ overs shocks"
     ]
    },
    {
     "cell_type": "code",
     "collapsed": false,
     "input": [
      "w0 = LinInterp(grid, -grid + 4)\n",
      "w = get_iters_takewhile(w0, .1, maxiter=15)\n",
      "res = bellman_shocks(w, u_, lambda_=1, argmax=True)"
     ],
     "language": "python",
     "metadata": {},
     "outputs": [
      {
       "output_type": "stream",
       "stream": "stdout",
       "text": [
        "iteration: 0, error: 1.\n",
        "iteration: 1, error: 3.01174862052."
       ]
      },
      {
       "output_type": "stream",
       "stream": "stdout",
       "text": [
        "\n",
        "iteration: 2, error: 1.22151817256."
       ]
      },
      {
       "output_type": "stream",
       "stream": "stdout",
       "text": [
        "\n",
        "iteration: 3, error: 0.665217028071."
       ]
      },
      {
       "output_type": "stream",
       "stream": "stdout",
       "text": [
        "\n",
        "iteration: 4, error: 0.573479301533."
       ]
      },
      {
       "output_type": "stream",
       "stream": "stdout",
       "text": [
        "\n",
        "iteration: 5, error: 0.550540129466."
       ]
      },
      {
       "output_type": "stream",
       "stream": "stdout",
       "text": [
        "\n",
        "iteration: 6, error: 0.528518524288."
       ]
      },
      {
       "output_type": "stream",
       "stream": "stdout",
       "text": [
        "\n",
        "iteration: 7, error: 0.507377783316."
       ]
      },
      {
       "output_type": "stream",
       "stream": "stdout",
       "text": [
        "\n",
        "iteration: 8, error: 0.487082671983."
       ]
      },
      {
       "output_type": "stream",
       "stream": "stdout",
       "text": [
        "\n",
        "iteration: 9, error: 0.467599365104."
       ]
      },
      {
       "output_type": "stream",
       "stream": "stdout",
       "text": [
        "\n",
        "iteration: 10, error: 0.4488953905."
       ]
      },
      {
       "output_type": "stream",
       "stream": "stdout",
       "text": [
        "\n",
        "iteration: 11, error: 0.43093957488."
       ]
      },
      {
       "output_type": "stream",
       "stream": "stdout",
       "text": [
        "\n",
        "iteration: 12, error: 0.413701991885."
       ]
      },
      {
       "output_type": "stream",
       "stream": "stdout",
       "text": [
        "\n",
        "iteration: 13, error: 0.397153912209."
       ]
      },
      {
       "output_type": "stream",
       "stream": "stdout",
       "text": [
        "\n",
        "iteration: 14, error: 0.381267755721."
       ]
      },
      {
       "output_type": "stream",
       "stream": "stdout",
       "text": [
        "\n",
        "Returning Tv before convergence!\n",
        "Error is currently: 0.366017045492"
       ]
      },
      {
       "output_type": "stream",
       "stream": "stdout",
       "text": [
        "\n"
       ]
      }
     ],
     "prompt_number": 3
    },
    {
     "cell_type": "markdown",
     "metadata": {},
     "source": [
      "`Res` is a list of arrays, each index (`w`, `shock`, `w*`)"
     ]
    },
    {
     "cell_type": "code",
     "collapsed": false,
     "input": [
      "_ = [plt.plot(x[:, 1], x[:, 2]) for x in res]"
     ],
     "language": "python",
     "metadata": {},
     "outputs": [],
     "prompt_number": 9
    },
    {
     "cell_type": "code",
     "collapsed": false,
     "input": [
      "fig = plt.figure(figsize=(16,10))\n",
      "_ = [plt.plot(x[:, 1], x[:, 2], label=str(i)) for i, x in enumerate(res) if i%10 == 0]\n",
      "plt.legend()"
     ],
     "language": "python",
     "metadata": {},
     "outputs": [
      {
       "metadata": {},
       "output_type": "pyout",
       "prompt_number": 4,
       "text": [
        "<matplotlib.legend.Legend at 0x1068f0050>"
       ]
      },
      {
       "metadata": {},
       "output_type": "display_data",
       "png": "[encoded data removed]",
       "text": [
        "<matplotlib.figure.Figure at 0x1068efa90>"
       ]
      }
     ],
     "prompt_number": 4
    },
    {
     "cell_type": "code",
     "collapsed": false,
     "input": [
      "unrestricted = bellman_shocks(w, u_, maxfun=maximizer, shock=shocks, lambda_=0)"
     ],
     "language": "python",
     "metadata": {},
     "outputs": [],
     "prompt_number": 40
    },
    {
     "cell_type": "code",
     "collapsed": false,
     "input": [
      "fig = plt.figure(figsize=(16,10))\n",
      "_ = [plt.plot(x[:, 1], x[:, 2], label=str(i)) for i, x in enumerate(unrestricted) if i%10 == 0]\n",
      "plt.legend()"
     ],
     "language": "python",
     "metadata": {},
     "outputs": [
      {
       "metadata": {},
       "output_type": "pyout",
       "prompt_number": 42,
       "text": [
        "<matplotlib.legend.Legend at 0x1086bd690>"
       ]
      },
      {
       "metadata": {},
       "output_type": "display_data",
       "png": "[encoded data removed]",
       "text": [
        "<matplotlib.figure.Figure at 0x1086cf710>"
       ]
      }
     ],
     "prompt_number": 42
    },
    {
     "cell_type": "code",
     "collapsed": false,
     "input": [
      "def get_diffs(w):\n",
      "    diffs = []\n",
      "    w_max = grid[-1]\n",
      "    for y in grid:\n",
      "        m1 = maximizer(h_, 0, w_max)\n",
      "        m2 = maximizer(h_, y, w_max)\n",
      "        diffs.append((m1, m2))\n",
      "\n",
      "    plt.figure()\n",
      "    ax = plt.plot(grid, map(lambda x: u_(x[0]) - u_(x[1]), diffs))\n",
      "    return ax, diffs\n",
      "\n",
      "\n",
      "def plot_hours_and_utility_over_shocks(shocks):\n",
      "    # This one is just utility.\n",
      "    h_ = lambda x, shock: -1 * u_(x, shock=shock)\n",
      "    ws = np.array([fminbound(h_, 0, 3, args=(x,)) for x in shocks])\n",
      "    us = [u_(x, shock=y) for x, y in zip(ws, shocks)]\n",
      "    ax = plt.plot(shocks, ws, label='hours', )\n",
      "    ax = plt.plot(shocks, us, label='utils')\n",
      "    plt.legend()\n",
      "    return ax\n",
      "\n",
      "\n",
      "def unrestricted_wage_shock_schedule(w0, u_fn, shock=shocks, pi=pi, grid=grid):\n",
      "    w = get_iters_takewhile(w0, tol=.1, maxiter=15, shock=shocks)\n",
      "    h_ = lambda x, ashock: -1 * (np.mean(u_fn(x, shock=ashock)) +\n",
      "                                 beta * w((x / (1 + pi))))\n",
      "    w_max = grid[-1]\n",
      "    by_shock = []\n",
      "    for z in shock:\n",
      "        m1 = maximizer(h_, 0, w_max, args=(z,))  # can be pre-cached/z\n",
      "        by_shock.append(m1)\n",
      "    wage_schedule = LinInterp(shocks, np.array(by_shock))\n",
      "    wage_schedule.plot()\n",
      "    return wage_schedule\n",
      "\n",
      "\n",
      "def restricted_wage_shock_schedule(w0, u_fn, shock=shocks, lambda_=.8, pi=pi, grid=grid):\n",
      "    w = get_iters_takewhile(w0, tol=.1, maxiter=15, shock=shocks)\n",
      "    h_ = lambda x, ashock: -1 * (np.mean(u_fn(x, shock=ashock)) +\n",
      "                                 beta * w((x / (1 + pi))))\n",
      "    w_max = grid[-1]\n",
      "    by_shock = []\n",
      "    for y in grid:\n",
      "        for z in shock:\n",
      "            m2 = maximizer(h_, y, w_max, args=(z,))\n",
      "            by_shock.append((y, m2))\n",
      "\n",
      "    by_shock = np.array(by_shock)\n",
      "    split = np.split(by_shock, len(shock))\n",
      "    return split\n",
      "\n",
      "\n",
      "\n",
      "\n",
      "if __name__ == '__main__':\n",
      "    pass\n"
     ],
     "language": "python",
     "metadata": {},
     "outputs": [],
     "prompt_number": 5
    },
    {
     "cell_type": "code",
     "collapsed": false,
     "input": [
      "w0 = LinInterp(grid, -grid + 4)\n",
      "w = get_iters_takewhile(w0, .1, maxiter=15)\n",
      "res = bellman_shocks(w, u_, lambda_=1, maxfun=maximizer)"
     ],
     "language": "python",
     "metadata": {},
     "outputs": [
      {
       "output_type": "stream",
       "stream": "stdout",
       "text": [
        "iteration: 0, error: 1.\n",
        "iteration: 1, error: 3.01174862052."
       ]
      },
      {
       "output_type": "stream",
       "stream": "stdout",
       "text": [
        "\n",
        "iteration: 2, error: 1.22151817256."
       ]
      },
      {
       "output_type": "stream",
       "stream": "stdout",
       "text": [
        "\n",
        "iteration: 3, error: 0.665217028071."
       ]
      },
      {
       "output_type": "stream",
       "stream": "stdout",
       "text": [
        "\n",
        "iteration: 4, error: 0.573479301533."
       ]
      },
      {
       "output_type": "stream",
       "stream": "stdout",
       "text": [
        "\n",
        "iteration: 5, error: 0.550540129466."
       ]
      },
      {
       "output_type": "stream",
       "stream": "stdout",
       "text": [
        "\n",
        "iteration: 6, error: 0.528518524288."
       ]
      },
      {
       "output_type": "stream",
       "stream": "stdout",
       "text": [
        "\n",
        "iteration: 7, error: 0.507377783316."
       ]
      },
      {
       "output_type": "stream",
       "stream": "stdout",
       "text": [
        "\n",
        "iteration: 8, error: 0.487082671983."
       ]
      },
      {
       "output_type": "stream",
       "stream": "stdout",
       "text": [
        "\n",
        "iteration: 9, error: 0.467599365104."
       ]
      },
      {
       "output_type": "stream",
       "stream": "stdout",
       "text": [
        "\n",
        "iteration: 10, error: 0.4488953905."
       ]
      },
      {
       "output_type": "stream",
       "stream": "stdout",
       "text": [
        "\n",
        "iteration: 11, error: 0.43093957488."
       ]
      },
      {
       "output_type": "stream",
       "stream": "stdout",
       "text": [
        "\n",
        "iteration: 12, error: 0.413701991885."
       ]
      },
      {
       "output_type": "stream",
       "stream": "stdout",
       "text": [
        "\n",
        "iteration: 13, error: 0.397153912209."
       ]
      },
      {
       "output_type": "stream",
       "stream": "stdout",
       "text": [
        "\n",
        "iteration: 14, error: 0.381267755721."
       ]
      },
      {
       "output_type": "stream",
       "stream": "stdout",
       "text": [
        "\n",
        "Returning Tv before convergence!\n",
        "Error is currently: 0.366017045492"
       ]
      },
      {
       "output_type": "stream",
       "stream": "stdout",
       "text": [
        "\n"
       ]
      }
     ],
     "prompt_number": 45
    },
    {
     "cell_type": "code",
     "collapsed": false,
     "input": [
      "fig = plt.figure(figsize=(16,10))\n",
      "_ = [plt.plot(x[:, 1], x[:, 2], label=str(i)) for i, x in enumerate(res) if i%10 == 0]\n",
      "plt.legend()"
     ],
     "language": "python",
     "metadata": {},
     "outputs": [
      {
       "metadata": {},
       "output_type": "pyout",
       "prompt_number": 46,
       "text": [
        "<matplotlib.legend.Legend at 0x1086cb250>"
       ]
      },
      {
       "metadata": {},
       "output_type": "display_data",
       "png": "[encoded data removed]",
       "text": [
        "<matplotlib.figure.Figure at 0x1086ed990>"
       ]
      }
     ],
     "prompt_number": 46
    },
    {
     "cell_type": "code",
     "collapsed": false,
     "input": [
      "split = bellman_shocks(w, u_, lambda_=.8, maxfun=maximizer)"
     ],
     "language": "python",
     "metadata": {},
     "outputs": [],
     "prompt_number": 47
    },
    {
     "cell_type": "code",
     "collapsed": false,
     "input": [
      "s2 = np.array(split)"
     ],
     "language": "python",
     "metadata": {},
     "outputs": [],
     "prompt_number": 55
    },
    {
     "cell_type": "code",
     "collapsed": false,
     "input": [
      "s2.shape"
     ],
     "language": "python",
     "metadata": {},
     "outputs": [
      {
       "metadata": {},
       "output_type": "pyout",
       "prompt_number": 56,
       "text": [
        "(100, 30, 3)"
       ]
      }
     ],
     "prompt_number": 56
    },
    {
     "cell_type": "code",
     "collapsed": false,
     "input": [
      "s2[0]"
     ],
     "language": "python",
     "metadata": {},
     "outputs": [
      {
       "metadata": {},
       "output_type": "pyout",
       "prompt_number": 57,
       "text": [
        "array([[ 0.1       ,  0.66854201,  0.93899769],\n",
        "       [ 0.1       ,  0.69420806,  0.94491177],\n",
        "       [ 0.1       ,  0.7371605 ,  0.95441461],\n",
        "       [ 0.1       ,  0.7389975 ,  0.95480998],\n",
        "       [ 0.1       ,  0.77864604,  0.96316116],\n",
        "       [ 0.1       ,  0.800462  ,  0.96760943],\n",
        "       [ 0.1       ,  0.8174179 ,  0.97099601],\n",
        "       [ 0.1       ,  0.86924719,  0.98099506],\n",
        "       [ 0.1       ,  0.87594016,  0.9822503 ],\n",
        "       [ 0.1       ,  0.87908249,  0.98283653],\n",
        "       [ 0.1       ,  0.89235176,  0.98529357],\n",
        "       [ 0.1       ,  0.89302031,  0.98541656],\n",
        "       [ 0.1       ,  0.89343335,  0.98549251],\n",
        "       [ 0.1       ,  0.92465115,  0.99114956],\n",
        "       [ 0.1       ,  0.93535357,  0.99305241],\n",
        "       [ 0.1       ,  0.93535664,  0.99305296],\n",
        "       [ 0.1       ,  0.93692199,  0.99332975],\n",
        "       [ 0.1       ,  0.95346472,  0.99623158],\n",
        "       [ 0.1       ,  0.99352668,  1.00308822],\n",
        "       [ 0.1       ,  1.00218691,  1.00454055],\n",
        "       [ 0.1       ,  1.02879936,  1.00893834],\n",
        "       [ 0.1       ,  1.04378076,  1.01137294],\n",
        "       [ 0.1       ,  1.05668812,  1.01344633],\n",
        "       [ 0.1       ,  1.0825754 ,  1.01754324],\n",
        "       [ 0.1       ,  1.09254737,  1.01909804],\n",
        "       [ 0.1       ,  1.11576214,  1.02267679],\n",
        "       [ 0.1       ,  1.14280635,  1.02676661],\n",
        "       [ 0.1       ,  1.31407074,  1.05094367],\n",
        "       [ 0.1       ,  1.32923817,  1.05295581],\n",
        "       [ 0.1       ,  1.3442585 ,  1.05492867]])"
       ]
      }
     ],
     "prompt_number": 57
    },
    {
     "cell_type": "code",
     "collapsed": false,
     "input": [
      "avg = s2.mean(1)"
     ],
     "language": "python",
     "metadata": {},
     "outputs": [],
     "prompt_number": 65
    },
    {
     "cell_type": "code",
     "collapsed": false,
     "input": [
      "fig = plt.figure(figsize=(16,10))\n",
      "ax1 = fig.add_subplot(111)\n",
      "ax1.plot(grid, avg[:, 2])\n",
      "ax1.set_xlabel('Wage today')\n",
      "ax1.set_ylabel('Optimal Wage')\n",
      "\n"
     ],
     "language": "python",
     "metadata": {},
     "outputs": [
      {
       "metadata": {},
       "output_type": "pyout",
       "prompt_number": 71,
       "text": [
        "<matplotlib.text.Text at 0x109562510>"
       ]
      },
      {
       "metadata": {},
       "output_type": "display_data",
       "png": "[encoded data removed]",
       "text": [
        "<matplotlib.figure.Figure at 0x1095544d0>"
       ]
      }
     ],
     "prompt_number": 71
    },
    {
     "cell_type": "code",
     "collapsed": false,
     "input": [],
     "language": "python",
     "metadata": {},
     "outputs": []
    }
   ],
   "metadata": {}
  }
 ]
}