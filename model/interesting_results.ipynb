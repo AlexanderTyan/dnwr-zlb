{
 "metadata": {
  "name": ""
 },
 "nbformat": 3,
 "nbformat_minor": 0,
 "worksheets": [
  {
   "cells": [
    {
     "cell_type": "code",
     "collapsed": false,
     "input": [
      "%pylab inline\n",
      "%load_ext autoreload"
     ],
     "language": "python",
     "metadata": {},
     "outputs": [
      {
       "output_type": "stream",
       "stream": "stdout",
       "text": [
        "\n",
        "Welcome to pylab, a matplotlib-based Python environment [backend: module://IPython.kernel.zmq.pylab.backend_inline].\n",
        "For more information, type 'help(pylab)'.\n"
       ]
      },
      {
       "output_type": "stream",
       "stream": "stdout",
       "text": [
        "The autoreload extension is already loaded. To reload it, use:\n",
        "  %reload_ext autoreload\n"
       ]
      }
     ],
     "prompt_number": 9
    },
    {
     "cell_type": "code",
     "collapsed": false,
     "input": [
      "%autoreload\n",
      "from value_function import *\n",
      "from vf_iteration import ss_wage_flexible, ss_output_flexible, load_params"
     ],
     "language": "python",
     "metadata": {},
     "outputs": [],
     "prompt_number": 104
    },
    {
     "cell_type": "code",
     "collapsed": false,
     "input": [
      "np.random.seed(42)"
     ],
     "language": "python",
     "metadata": {},
     "outputs": [],
     "prompt_number": 11
    },
    {
     "cell_type": "code",
     "collapsed": false,
     "input": [
      "# Setup\n",
      "grid = np.linspace(0.1, 4, 100)\n",
      "sigma = 0.2\n",
      "mu = -(sigma ** 2) / 2\n",
      "trunc = truncate_normal(norm(loc=mu, scale=sigma), .05, .95)\n",
      "shock = np.sort(np.exp(trunc.rvs(30)))"
     ],
     "language": "python",
     "metadata": {},
     "outputs": [],
     "prompt_number": 12
    },
    {
     "cell_type": "heading",
     "level": 2,
     "metadata": {},
     "source": [
      "Plot restricted $w^*$ over shocks"
     ]
    },
    {
     "cell_type": "code",
     "collapsed": false,
     "input": [
      "#w0 = LinInterp(grid, -grid + 4)\n",
      "#w = get_iters_takewhile(w0, .1, maxiter=15)\n",
      "#res = bellman_shocks(w, u_, lambda_=1, argmax=True)"
     ],
     "language": "python",
     "metadata": {},
     "outputs": [
      {
       "output_type": "stream",
       "stream": "stdout",
       "text": [
        "iteration: 0, error: 1.\n",
        "iteration: 1, error: 3.01174862052."
       ]
      },
      {
       "output_type": "stream",
       "stream": "stdout",
       "text": [
        "\n",
        "iteration: 2, error: 1.22151817256."
       ]
      },
      {
       "output_type": "stream",
       "stream": "stdout",
       "text": [
        "\n",
        "iteration: 3, error: 0.665217028071."
       ]
      },
      {
       "output_type": "stream",
       "stream": "stdout",
       "text": [
        "\n",
        "iteration: 4, error: 0.573479301533."
       ]
      },
      {
       "output_type": "stream",
       "stream": "stdout",
       "text": [
        "\n",
        "iteration: 5, error: 0.550540129466."
       ]
      },
      {
       "output_type": "stream",
       "stream": "stdout",
       "text": [
        "\n",
        "iteration: 6, error: 0.528518524288."
       ]
      },
      {
       "output_type": "stream",
       "stream": "stdout",
       "text": [
        "\n",
        "iteration: 7, error: 0.507377783316."
       ]
      },
      {
       "output_type": "stream",
       "stream": "stdout",
       "text": [
        "\n",
        "iteration: 8, error: 0.487082671983."
       ]
      },
      {
       "output_type": "stream",
       "stream": "stdout",
       "text": [
        "\n",
        "iteration: 9, error: 0.467599365104."
       ]
      },
      {
       "output_type": "stream",
       "stream": "stdout",
       "text": [
        "\n",
        "iteration: 10, error: 0.4488953905."
       ]
      },
      {
       "output_type": "stream",
       "stream": "stdout",
       "text": [
        "\n",
        "iteration: 11, error: 0.43093957488."
       ]
      },
      {
       "output_type": "stream",
       "stream": "stdout",
       "text": [
        "\n",
        "iteration: 12, error: 0.413701991885."
       ]
      },
      {
       "output_type": "stream",
       "stream": "stdout",
       "text": [
        "\n",
        "iteration: 13, error: 0.397153912209."
       ]
      },
      {
       "output_type": "stream",
       "stream": "stdout",
       "text": [
        "\n",
        "iteration: 14, error: 0.381267755721."
       ]
      },
      {
       "output_type": "stream",
       "stream": "stdout",
       "text": [
        "\n",
        "Returning Tv before convergence!\n",
        "Error is currently: 0.366017045492"
       ]
      },
      {
       "ename": "TypeError",
       "evalue": "bellman_shocks() got an unexpected keyword argument 'argmax'",
       "output_type": "pyerr",
       "traceback": [
        "\u001b[0;31m---------------------------------------------------------------------------\u001b[0m\n\u001b[0;31mTypeError\u001b[0m                                 Traceback (most recent call last)",
        "\u001b[0;32m<ipython-input-15-3906c7597e73>\u001b[0m in \u001b[0;36m<module>\u001b[0;34m()\u001b[0m\n\u001b[1;32m      1\u001b[0m \u001b[0mw0\u001b[0m \u001b[0;34m=\u001b[0m \u001b[0mLinInterp\u001b[0m\u001b[0;34m(\u001b[0m\u001b[0mgrid\u001b[0m\u001b[0;34m,\u001b[0m \u001b[0;34m-\u001b[0m\u001b[0mgrid\u001b[0m \u001b[0;34m+\u001b[0m \u001b[0;36m4\u001b[0m\u001b[0;34m)\u001b[0m\u001b[0;34m\u001b[0m\u001b[0m\n\u001b[1;32m      2\u001b[0m \u001b[0mw\u001b[0m \u001b[0;34m=\u001b[0m \u001b[0mget_iters_takewhile\u001b[0m\u001b[0;34m(\u001b[0m\u001b[0mw0\u001b[0m\u001b[0;34m,\u001b[0m \u001b[0;36m.1\u001b[0m\u001b[0;34m,\u001b[0m \u001b[0mmaxiter\u001b[0m\u001b[0;34m=\u001b[0m\u001b[0;36m15\u001b[0m\u001b[0;34m)\u001b[0m\u001b[0;34m\u001b[0m\u001b[0m\n\u001b[0;32m----> 3\u001b[0;31m \u001b[0mres\u001b[0m \u001b[0;34m=\u001b[0m \u001b[0mbellman_shocks\u001b[0m\u001b[0;34m(\u001b[0m\u001b[0mw\u001b[0m\u001b[0;34m,\u001b[0m \u001b[0mu_\u001b[0m\u001b[0;34m,\u001b[0m \u001b[0mlambda_\u001b[0m\u001b[0;34m=\u001b[0m\u001b[0;36m1\u001b[0m\u001b[0;34m,\u001b[0m \u001b[0margmax\u001b[0m\u001b[0;34m=\u001b[0m\u001b[0mTrue\u001b[0m\u001b[0;34m)\u001b[0m\u001b[0;34m\u001b[0m\u001b[0m\n\u001b[0m",
        "\u001b[0;31mTypeError\u001b[0m: bellman_shocks() got an unexpected keyword argument 'argmax'"
       ]
      },
      {
       "output_type": "stream",
       "stream": "stdout",
       "text": [
        "\n"
       ]
      }
     ],
     "prompt_number": 15
    },
    {
     "cell_type": "markdown",
     "metadata": {},
     "source": [
      "`Res` is a list of arrays, each index (`w`, `shock`, `w*`)"
     ]
    },
    {
     "cell_type": "code",
     "collapsed": false,
     "input": [
      "#_ = [plt.plot(x[:, 1], x[:, 2]) for x in res]"
     ],
     "language": "python",
     "metadata": {},
     "outputs": [],
     "prompt_number": 9
    },
    {
     "cell_type": "code",
     "collapsed": false,
     "input": [
      "#fig = plt.figure(figsize=(16,10))\n",
      "#_ = [plt.plot(x[:, 1], x[:, 2], label=str(i)) for i, x in enumerate(res) if i%10 == 0]\n",
      "#plt.legend()"
     ],
     "language": "python",
     "metadata": {},
     "outputs": [],
     "prompt_number": 16
    },
    {
     "cell_type": "code",
     "collapsed": false,
     "input": [
      "#unrestricted = bellman_shocks(w, u_, maxfun=maximizer, shock=shocks, lambda_=0)"
     ],
     "language": "python",
     "metadata": {},
     "outputs": [],
     "prompt_number": 40
    },
    {
     "cell_type": "code",
     "collapsed": false,
     "input": [
      "#fig = plt.figure(figsize=(16,10))\n",
      "#_ = [plt.plot(x[:, 1], x[:, 2], label=str(i)) for i, x in enumerate(unrestricted) if i%10 == 0]\n",
      "#plt.legend()"
     ],
     "language": "python",
     "metadata": {},
     "outputs": [
      {
       "metadata": {},
       "output_type": "pyout",
       "prompt_number": 42,
       "text": [
        "<matplotlib.legend.Legend at 0x1086bd690>"
       ]
      },
      {
       "metadata": {},
       "output_type": "display_data",
       "png": "[encoded data removed]",
       "text": [
        "<matplotlib.figure.Figure at 0x1086cf710>"
       ]
      }
     ],
     "prompt_number": 42
    },
    {
     "cell_type": "code",
     "collapsed": false,
     "input": [
      "w0 = LinInterp(grid, -grid + 4)\n",
      "w = get_iters_takewhile(w0, .1, maxiter=15)\n",
      "res, _,  = bellman_shocks(w, u_, lambda_=1)"
     ],
     "language": "python",
     "metadata": {},
     "outputs": [
      {
       "output_type": "stream",
       "stream": "stdout",
       "text": [
        "iteration: 0, error: 1.\n",
        "iteration: 1, error: 3.01174862052."
       ]
      },
      {
       "output_type": "stream",
       "stream": "stdout",
       "text": [
        "\n",
        "iteration: 2, error: 1.22151817256."
       ]
      },
      {
       "output_type": "stream",
       "stream": "stdout",
       "text": [
        "\n",
        "iteration: 3, error: 0.665217028071."
       ]
      },
      {
       "output_type": "stream",
       "stream": "stdout",
       "text": [
        "\n",
        "iteration: 4, error: 0.573479301533."
       ]
      },
      {
       "output_type": "stream",
       "stream": "stdout",
       "text": [
        "\n",
        "iteration: 5, error: 0.550540129466."
       ]
      },
      {
       "output_type": "stream",
       "stream": "stdout",
       "text": [
        "\n",
        "iteration: 6, error: 0.528518524288."
       ]
      },
      {
       "output_type": "stream",
       "stream": "stdout",
       "text": [
        "\n",
        "iteration: 7, error: 0.507377783316."
       ]
      },
      {
       "output_type": "stream",
       "stream": "stdout",
       "text": [
        "\n",
        "iteration: 8, error: 0.487082671983."
       ]
      },
      {
       "output_type": "stream",
       "stream": "stdout",
       "text": [
        "\n",
        "iteration: 9, error: 0.467599365104."
       ]
      },
      {
       "output_type": "stream",
       "stream": "stdout",
       "text": [
        "\n",
        "iteration: 10, error: 0.4488953905."
       ]
      },
      {
       "output_type": "stream",
       "stream": "stdout",
       "text": [
        "\n",
        "iteration: 11, error: 0.43093957488."
       ]
      },
      {
       "output_type": "stream",
       "stream": "stdout",
       "text": [
        "\n",
        "iteration: 12, error: 0.413701991885."
       ]
      },
      {
       "output_type": "stream",
       "stream": "stdout",
       "text": [
        "\n",
        "iteration: 13, error: 0.397153912209."
       ]
      },
      {
       "output_type": "stream",
       "stream": "stdout",
       "text": [
        "\n",
        "iteration: 14, error: 0.381267755721."
       ]
      },
      {
       "output_type": "stream",
       "stream": "stdout",
       "text": [
        "\n",
        "Returning Tv before convergence!\n",
        "Error is currently: 0.366017045492"
       ]
      },
      {
       "output_type": "stream",
       "stream": "stdout",
       "text": [
        "\n"
       ]
      }
     ],
     "prompt_number": 17
    },
    {
     "cell_type": "code",
     "collapsed": false,
     "input": [
      "fig = plt.figure(figsize=(16,10))\n",
      "_ = [plt.plot(x[:, 1], x[:, 2], label=str(i)) for i, x in enumerate(res) if i%10 == 0]\n",
      "plt.legend()"
     ],
     "language": "python",
     "metadata": {},
     "outputs": [
      {
       "metadata": {},
       "output_type": "pyout",
       "prompt_number": 46,
       "text": [
        "<matplotlib.legend.Legend at 0x1086cb250>"
       ]
      },
      {
       "metadata": {},
       "output_type": "display_data",
       "png": "[encoded data removed]",
       "text": [
        "<matplotlib.figure.Figure at 0x1086ed990>"
       ]
      }
     ],
     "prompt_number": 46
    },
    {
     "cell_type": "code",
     "collapsed": false,
     "input": [
      "w0 = LinInterp(grid, -grid + 4)"
     ],
     "language": "python",
     "metadata": {},
     "outputs": [],
     "prompt_number": 98
    },
    {
     "cell_type": "code",
     "collapsed": false,
     "input": [
      "w = get_iters_takewhile(w0, .1, maxiter=15)"
     ],
     "language": "python",
     "metadata": {},
     "outputs": [
      {
       "output_type": "stream",
       "stream": "stdout",
       "text": [
        "iteration: 0, error: 1.\n",
        "iteration: 1, error: 3.01174862052."
       ]
      },
      {
       "output_type": "stream",
       "stream": "stdout",
       "text": [
        "\n",
        "iteration: 2, error: 1.22151817256."
       ]
      },
      {
       "output_type": "stream",
       "stream": "stdout",
       "text": [
        "\n",
        "iteration: 3, error: 0.665217028071."
       ]
      },
      {
       "output_type": "stream",
       "stream": "stdout",
       "text": [
        "\n",
        "iteration: 4, error: 0.573479301533."
       ]
      },
      {
       "output_type": "stream",
       "stream": "stdout",
       "text": [
        "\n",
        "iteration: 5, error: 0.550540129466."
       ]
      },
      {
       "output_type": "stream",
       "stream": "stdout",
       "text": [
        "\n",
        "iteration: 6, error: 0.528518524288."
       ]
      },
      {
       "output_type": "stream",
       "stream": "stdout",
       "text": [
        "\n",
        "iteration: 7, error: 0.507377783316."
       ]
      },
      {
       "output_type": "stream",
       "stream": "stdout",
       "text": [
        "\n",
        "iteration: 8, error: 0.487082671983."
       ]
      },
      {
       "output_type": "stream",
       "stream": "stdout",
       "text": [
        "\n",
        "iteration: 9, error: 0.467599365104."
       ]
      },
      {
       "output_type": "stream",
       "stream": "stdout",
       "text": [
        "\n",
        "iteration: 10, error: 0.4488953905."
       ]
      },
      {
       "output_type": "stream",
       "stream": "stdout",
       "text": [
        "\n",
        "iteration: 11, error: 0.43093957488."
       ]
      },
      {
       "output_type": "stream",
       "stream": "stdout",
       "text": [
        "\n",
        "iteration: 12, error: 0.413701991885."
       ]
      },
      {
       "output_type": "stream",
       "stream": "stdout",
       "text": [
        "\n",
        "iteration: 13, error: 0.397153912209."
       ]
      },
      {
       "output_type": "stream",
       "stream": "stdout",
       "text": [
        "\n",
        "iteration: 14, error: 0.381267755721."
       ]
      },
      {
       "output_type": "stream",
       "stream": "stdout",
       "text": [
        "\n",
        "Returning Tv before convergence!\n",
        "Error is currently: 0.366017045492"
       ]
      },
      {
       "output_type": "stream",
       "stream": "stdout",
       "text": [
        "\n"
       ]
      }
     ],
     "prompt_number": 101
    },
    {
     "cell_type": "heading",
     "level": 2,
     "metadata": {},
     "source": [
      "Updated returns on bellmam"
     ]
    },
    {
     "cell_type": "code",
     "collapsed": false,
     "input": [
      "%run value_function"
     ],
     "language": "python",
     "metadata": {},
     "outputs": [],
     "prompt_number": 6
    },
    {
     "cell_type": "code",
     "collapsed": false,
     "input": [
      "w0 = LinInterp(grid, -grid + 4)"
     ],
     "language": "python",
     "metadata": {},
     "outputs": [],
     "prompt_number": 13
    },
    {
     "cell_type": "code",
     "collapsed": false,
     "input": [
      "w = burn_in_vf(w0, maxiter=10)\n",
      "Tv, wage_schedule, res = bellman(w, u_, shock=shock)"
     ],
     "language": "python",
     "metadata": {},
     "outputs": [
      {
       "output_type": "stream",
       "stream": "stdout",
       "text": [
        "1 / 10\n",
        "2 / 10"
       ]
      },
      {
       "output_type": "stream",
       "stream": "stdout",
       "text": [
        "\n",
        "3 / 10"
       ]
      },
      {
       "output_type": "stream",
       "stream": "stdout",
       "text": [
        "\n",
        "4 / 10"
       ]
      },
      {
       "output_type": "stream",
       "stream": "stdout",
       "text": [
        "\n",
        "5 / 10"
       ]
      },
      {
       "output_type": "stream",
       "stream": "stdout",
       "text": [
        "\n",
        "6 / 10"
       ]
      },
      {
       "output_type": "stream",
       "stream": "stdout",
       "text": [
        "\n",
        "7 / 10"
       ]
      },
      {
       "output_type": "stream",
       "stream": "stdout",
       "text": [
        "\n",
        "8 / 10"
       ]
      },
      {
       "output_type": "stream",
       "stream": "stdout",
       "text": [
        "\n",
        "9 / 10"
       ]
      },
      {
       "output_type": "stream",
       "stream": "stdout",
       "text": [
        "\n",
        "10 / 10"
       ]
      },
      {
       "output_type": "stream",
       "stream": "stdout",
       "text": [
        "\n"
       ]
      }
     ],
     "prompt_number": 14
    },
    {
     "cell_type": "code",
     "collapsed": false,
     "input": [
      "wage_schedule.plot()"
     ],
     "language": "python",
     "metadata": {},
     "outputs": [
      {
       "metadata": {},
       "output_type": "pyout",
       "prompt_number": 59,
       "text": [
        "[<matplotlib.lines.Line2D at 0x112a29910>]"
       ]
      },
      {
       "metadata": {},
       "output_type": "display_data",
       "png": "[encoded data removed]",
       "text": [
        "<matplotlib.figure.Figure at 0x11278bf50>"
       ]
      }
     ],
     "prompt_number": 59
    },
    {
     "cell_type": "code",
     "collapsed": false,
     "input": [
      "split = np.array(np.split(res, len(grid)))\n",
      "ws = split[0][:, 3]  # Doesn't matter which row for free case\n",
      "ws = LinInterp(shock, ws)\n",
      "ws.plot()  # should be the same?"
     ],
     "language": "python",
     "metadata": {},
     "outputs": [
      {
       "metadata": {},
       "output_type": "pyout",
       "prompt_number": 17,
       "text": [
        "[<matplotlib.lines.Line2D at 0x1068155d0>]"
       ]
      },
      {
       "metadata": {},
       "output_type": "display_data",
       "png": "[encoded data removed]",
       "text": [
        "<matplotlib.figure.Figure at 0x106645150>"
       ]
      }
     ],
     "prompt_number": 17
    },
    {
     "cell_type": "code",
     "collapsed": false,
     "input": [
      "ws.inverse().plot()"
     ],
     "language": "python",
     "metadata": {},
     "outputs": [
      {
       "metadata": {},
       "output_type": "pyout",
       "prompt_number": 18,
       "text": [
        "[<matplotlib.lines.Line2D at 0x1067dc290>]"
       ]
      },
      {
       "metadata": {},
       "output_type": "display_data",
       "png": "[encoded data removed]",
       "text": [
        "<matplotlib.figure.Figure at 0x106639290>"
       ]
      }
     ],
     "prompt_number": 18
    },
    {
     "cell_type": "code",
     "collapsed": false,
     "input": [
      "pan = pd.Panel(split, items=grid, major_axis=shock, minor_axis=['wage', 'shock', 'value', 'm1', 'm2'])\n",
      "pan.major_axis.name = 'shock'"
     ],
     "language": "python",
     "metadata": {},
     "outputs": [],
     "prompt_number": 19
    },
    {
     "cell_type": "code",
     "collapsed": false,
     "input": [
      "for i in range(20):\n",
      "    print i\n",
      "    Tv, wage_schedule, res = bellman(Tv, u_, shock=shock)\n",
      "    print Tv.Y"
     ],
     "language": "python",
     "metadata": {},
     "outputs": [
      {
       "output_type": "stream",
       "stream": "stdout",
       "text": [
        "0\n",
        "[ 16.18973735  16.18973735  16.18973735  16.18973735  16.18973735\n",
        "  16.18973735  16.18973735  16.18973735  16.18973735  16.18973735\n",
        "  16.18973735  16.18973735  16.18973735  16.18973735  16.18973735\n",
        "  16.18973735  16.18973735  16.18973735  16.18973735  16.18973735\n",
        "  16.18973735  16.18973735  16.18953126  16.18721554  16.17955592\n",
        "  16.16645213  16.14961538  16.1307049   16.1108138   16.09065148\n",
        "  16.07067376  16.05116776  16.03230802  16.01419379  15.99687409\n",
        "  15.98036469  15.96465957  15.94973871  15.93557352  15.92213037\n",
        "  15.90937314  15.89726479  15.88576856  15.8748486   15.86447046\n",
        "  15.85460133  15.84521019  15.83626784  15.8277469   15.81962178\n",
        "  15.81186855  15.80446494  15.79739016  15.79062431  15.78415052\n",
        "  15.77795143  15.77201142  15.76631592  15.76085138  15.75560512\n",
        "  15.75056534  15.74572102  15.74106186  15.73657822  15.73226108\n",
        "  15.72810201  15.7240931   15.72022692  15.71649654  15.71284669\n",
        "  15.70931589  15.70590214  15.70210198  15.69836713  15.69473423\n",
        "  15.68993573  15.68512531  15.68040394  15.67448112  15.66853286\n",
        "  15.66266275  15.65598534  15.64930577  15.64269569  15.63566164\n",
        "  15.62865036  15.62170013  15.6145768   15.60748997  15.600458\n",
        "  15.59341415  15.58641529  15.57946486  15.5726041   15.5657926\n",
        "  15.55902392  15.5524092   15.54584368  15.53931749  15.53298193]"
       ]
      },
      {
       "output_type": "stream",
       "stream": "stdout",
       "text": [
        "\n",
        "1\n",
        "[ 16.34948845  16.34948845  16.34948845  16.34948845  16.34948845\n",
        "  16.34948845  16.34948845  16.34948845  16.34948845  16.34948845\n",
        "  16.34948845  16.34948845  16.34948845  16.34948845  16.34948845\n",
        "  16.34948845  16.34948845  16.34948845  16.34948845  16.34948845\n",
        "  16.34948845  16.34948845  16.34928236  16.34696664  16.33930702\n",
        "  16.32620322  16.30936647  16.290456    16.27056489  16.25040258\n",
        "  16.23042486  16.21091886  16.19205912  16.17394488  16.15662519\n",
        "  16.14011579  16.12441066  16.10948981  16.09532461  16.08188147\n",
        "  16.06912423  16.05701589  16.04551966  16.0345997   16.02422156\n",
        "  16.01435243  16.00496128  15.99601893  15.987498    15.97937287\n",
        "  15.97161965  15.96421603  15.95714126  15.9503754   15.94390162\n",
        "  15.93770253  15.93176252  15.92606702  15.92060247  15.91535621\n",
        "  15.91031644  15.90547212  15.90081295  15.89632931  15.89201218\n",
        "  15.88785311  15.88384419  15.87997802  15.87624763  15.87259778\n",
        "  15.86906699  15.86565324  15.86185307  15.85811823  15.85448533\n",
        "  15.84968683  15.8448764   15.84015504  15.83423222  15.82828396\n",
        "  15.82241385  15.81573644  15.80905687  15.80244679  15.79541273\n",
        "  15.78840146  15.78145123  15.7743279   15.76724107  15.7602091\n",
        "  15.75316525  15.74616639  15.73921595  15.7323552   15.72554369\n",
        "  15.71877501  15.7121603   15.70559478  15.69906858  15.69273303]"
       ]
      },
      {
       "output_type": "stream",
       "stream": "stdout",
       "text": [
        "\n",
        "2\n",
        "[ 16.5028495   16.5028495   16.5028495   16.5028495   16.5028495\n",
        "  16.5028495   16.5028495   16.5028495   16.5028495   16.5028495\n",
        "  16.5028495   16.5028495   16.5028495   16.5028495   16.5028495\n",
        "  16.5028495   16.5028495   16.5028495   16.5028495   16.5028495\n",
        "  16.5028495   16.5028495   16.50264341  16.50032769  16.49266807\n",
        "  16.47956428  16.46272753  16.44381705  16.42392595  16.40376363\n",
        "  16.38378591  16.36427992  16.34542017  16.32730594  16.30998624\n",
        "  16.29347685  16.27777172  16.26285086  16.24868567  16.23524252\n",
        "  16.22248529  16.21037694  16.19888071  16.18796075  16.17758261\n",
        "  16.16771348  16.15832234  16.14937999  16.14085905  16.13273393\n",
        "  16.1249807   16.11757709  16.11050231  16.10373646  16.09726267\n",
        "  16.09106358  16.08512357  16.07942807  16.07396353  16.06871727\n",
        "  16.06367749  16.05883317  16.05417401  16.04969037  16.04537323\n",
        "  16.04121416  16.03720525  16.03333907  16.02960869  16.02595884\n",
        "  16.02242804  16.01901429  16.01521413  16.01147928  16.00784638\n",
        "  16.00304788  15.99823746  15.99351609  15.98759327  15.98164501\n",
        "  15.9757749   15.96909749  15.96241792  15.95580784  15.94877379\n",
        "  15.94176251  15.93481228  15.92768895  15.92060212  15.91357015\n",
        "  15.9065263   15.89952744  15.89257701  15.88571625  15.87890475\n",
        "  15.87213607  15.86552135  15.85895583  15.85242964  15.84609408]"
       ]
      },
      {
       "output_type": "stream",
       "stream": "stdout",
       "text": [
        "\n",
        "3\n",
        "[ 16.65007612  16.65007612  16.65007612  16.65007612  16.65007612\n",
        "  16.65007612  16.65007612  16.65007612  16.65007612  16.65007612\n",
        "  16.65007612  16.65007612  16.65007612  16.65007612  16.65007612\n",
        "  16.65007612  16.65007612  16.65007612  16.65007612  16.65007612\n",
        "  16.65007612  16.65007612  16.64987002  16.6475543   16.63989468\n",
        "  16.62679089  16.60995414  16.59104366  16.57115256  16.55099024\n",
        "  16.53101252  16.51150653  16.49264679  16.47453255  16.45721285\n",
        "  16.44070346  16.42499833  16.41007747  16.39591228  16.38246913\n",
        "  16.3697119   16.35760356  16.34610732  16.33518736  16.32480922\n",
        "  16.31494009  16.30554895  16.2966066   16.28808566  16.27996054\n",
        "  16.27220731  16.2648037   16.25772892  16.25096307  16.24448928\n",
        "  16.23829019  16.23235018  16.22665469  16.22119014  16.21594388\n",
        "  16.2109041   16.20605978  16.20140062  16.19691698  16.19259984\n",
        "  16.18844077  16.18443186  16.18056568  16.1768353   16.17318545\n",
        "  16.16965465  16.1662409   16.16244074  16.15870589  16.15507299\n",
        "  16.15027449  16.14546407  16.1407427   16.13481989  16.12887162\n",
        "  16.12300151  16.1163241   16.10964453  16.10303445  16.0960004\n",
        "  16.08898912  16.08203889  16.07491556  16.06782873  16.06079677\n",
        "  16.05375291  16.04675405  16.03980362  16.03294287  16.02613136\n",
        "  16.01936268  16.01274796  16.00618244  15.99965625  15.99332069]"
       ]
      },
      {
       "output_type": "stream",
       "stream": "stdout",
       "text": [
        "\n",
        "4\n",
        "[ 16.79141366  16.79141366  16.79141366  16.79141366  16.79141366\n",
        "  16.79141366  16.79141366  16.79141366  16.79141366  16.79141366\n",
        "  16.79141366  16.79141366  16.79141366  16.79141366  16.79141366\n",
        "  16.79141366  16.79141366  16.79141366  16.79141366  16.79141366\n",
        "  16.79141366  16.79141366  16.79120757  16.78889185  16.78123223\n",
        "  16.76812843  16.75129168  16.73238121  16.7124901   16.69232779\n",
        "  16.67235007  16.65284407  16.63398433  16.61587009  16.5985504   16.582041\n",
        "  16.56633587  16.55141502  16.53724982  16.52380668  16.51104944\n",
        "  16.4989411   16.48744487  16.47652491  16.46614677  16.45627764\n",
        "  16.44688649  16.43794414  16.42942321  16.42129808  16.41354486\n",
        "  16.40614125  16.39906647  16.39230061  16.38582683  16.37962774\n",
        "  16.37368773  16.36799223  16.36252768  16.35728142  16.35224165\n",
        "  16.34739733  16.34273816  16.33825452  16.33393739  16.32977832\n",
        "  16.3257694   16.32190323  16.31817284  16.314523    16.3109922\n",
        "  16.30757845  16.30377828  16.30004344  16.29641054  16.29161204\n",
        "  16.28680162  16.28208025  16.27615743  16.27020917  16.26433906\n",
        "  16.25766165  16.25098208  16.244372    16.23733794  16.23032667\n",
        "  16.22337644  16.21625311  16.20916628  16.20213431  16.19509046\n",
        "  16.1880916   16.18114116  16.17428041  16.1674689   16.16070022\n",
        "  16.15408551  16.14751999  16.1409938   16.13465824]"
       ]
      },
      {
       "output_type": "stream",
       "stream": "stdout",
       "text": [
        "\n",
        "5\n",
        "[ 16.92709771  16.92709771  16.92709771  16.92709771  16.92709771\n",
        "  16.92709771  16.92709771  16.92709771  16.92709771  16.92709771\n",
        "  16.92709771  16.92709771  16.92709771  16.92709771  16.92709771\n",
        "  16.92709771  16.92709771  16.92709771  16.92709771  16.92709771\n",
        "  16.92709771  16.92709771  16.92689161  16.92457589  16.91691627\n",
        "  16.90381248  16.88697573  16.86806525  16.84817415  16.82801183\n",
        "  16.80803411  16.78852812  16.76966838  16.75155414  16.73423444\n",
        "  16.71772505  16.70201992  16.68709907  16.67293387  16.65949072\n",
        "  16.64673349  16.63462515  16.62312891  16.61220895  16.60183081\n",
        "  16.59196168  16.58257054  16.57362819  16.56510726  16.55698213\n",
        "  16.54922891  16.54182529  16.53475051  16.52798466  16.52151087\n",
        "  16.51531179  16.50937177  16.50367628  16.49821173  16.49296547\n",
        "  16.48792569  16.48308137  16.47842221  16.47393857  16.46962143\n",
        "  16.46546236  16.46145345  16.45758728  16.45385689  16.45020704\n",
        "  16.44667625  16.44326249  16.43946233  16.43572748  16.43209458\n",
        "  16.42729608  16.42248566  16.41776429  16.41184148  16.40589321\n",
        "  16.40002311  16.39334569  16.38666612  16.38005604  16.37302199\n",
        "  16.36601072  16.35906049  16.35193715  16.34485032  16.33781836\n",
        "  16.3307745   16.32377565  16.31682521  16.30996446  16.30315295\n",
        "  16.29638427  16.28976955  16.28320403  16.27667784  16.27034229]"
       ]
      },
      {
       "output_type": "stream",
       "stream": "stdout",
       "text": [
        "\n",
        "6\n",
        "[ 17.05735439  17.05735439  17.05735439  17.05735439  17.05735439\n",
        "  17.05735439  17.05735439  17.05735439  17.05735439  17.05735439\n",
        "  17.05735439  17.05735439  17.05735439  17.05735439  17.05735439\n",
        "  17.05735439  17.05735439  17.05735439  17.05735439  17.05735439\n",
        "  17.05735439  17.05735439  17.05714829  17.05483258  17.04717296\n",
        "  17.03406916  17.01723241  16.99832194  16.97843083  16.95826852\n",
        "  16.93829079  16.9187848   16.89992506  16.88181082  16.86449113\n",
        "  16.84798173  16.8322766   16.81735575  16.80319055  16.78974741\n",
        "  16.77699017  16.76488183  16.7533856   16.74246564  16.73208749\n",
        "  16.72221836  16.71282722  16.70388487  16.69536394  16.68723881\n",
        "  16.67948559  16.67208197  16.66500719  16.65824134  16.65176756\n",
        "  16.64556847  16.63962846  16.63393296  16.62846841  16.62322215\n",
        "  16.61818238  16.61333805  16.60867889  16.60419525  16.59987811\n",
        "  16.59571904  16.59171013  16.58784396  16.58411357  16.58046372\n",
        "  16.57693293  16.57351918  16.56971901  16.56598416  16.56235127\n",
        "  16.55755277  16.55274234  16.54802098  16.54209816  16.5361499\n",
        "  16.53027979  16.52360238  16.51692281  16.51031273  16.50327867\n",
        "  16.4962674   16.48931717  16.48219383  16.47510701  16.46807504\n",
        "  16.46103118  16.45403233  16.44708189  16.44022114  16.43340963\n",
        "  16.42664095  16.42002624  16.41346071  16.40693452  16.40059897]"
       ]
      },
      {
       "output_type": "stream",
       "stream": "stdout",
       "text": [
        "\n",
        "7\n",
        "[ 17.18240081  17.18240081  17.18240081  17.18240081  17.18240081\n",
        "  17.18240081  17.18240081  17.18240081  17.18240081  17.18240081\n",
        "  17.18240081  17.18240081  17.18240081  17.18240081  17.18240081\n",
        "  17.18240081  17.18240081  17.18240081  17.18240081  17.18240081\n",
        "  17.18240081  17.18240081  17.18219471  17.17987899  17.17221937\n",
        "  17.15911558  17.14227883  17.12336835  17.10347725  17.08331493\n",
        "  17.06333721  17.04383122  17.02497148  17.00685724  16.98953754\n",
        "  16.97302815  16.95732302  16.94240216  16.92823697  16.91479382\n",
        "  16.90203659  16.88992825  16.87843201  16.86751205  16.85713391\n",
        "  16.84726478  16.83787364  16.82893129  16.82041035  16.81228523\n",
        "  16.804532    16.79712839  16.79005361  16.78328776  16.77681397\n",
        "  16.77061488  16.76467487  16.75897938  16.75351483  16.74826857\n",
        "  16.74322879  16.73838447  16.73372531  16.72924167  16.72492453\n",
        "  16.72076546  16.71675655  16.71289037  16.70915999  16.70551014\n",
        "  16.70197934  16.69856559  16.69476543  16.69103058  16.68739768\n",
        "  16.68259918  16.67778876  16.67306739  16.66714458  16.66119631\n",
        "  16.6553262   16.64864879  16.64196922  16.63535914  16.62832509\n",
        "  16.62131381  16.61436358  16.60724025  16.60015342  16.59312146\n",
        "  16.5860776   16.57907874  16.57212831  16.56526756  16.55845605\n",
        "  16.55168737  16.54507265  16.53850713  16.53198094  16.52564538]"
       ]
      },
      {
       "output_type": "stream",
       "stream": "stdout",
       "text": [
        "\n",
        "8\n",
        "[ 17.30244536  17.30244536  17.30244536  17.30244536  17.30244536\n",
        "  17.30244536  17.30244536  17.30244536  17.30244536  17.30244536\n",
        "  17.30244536  17.30244536  17.30244536  17.30244536  17.30244536\n",
        "  17.30244536  17.30244536  17.30244536  17.30244536  17.30244536\n",
        "  17.30244536  17.30244536  17.30223927  17.29992355  17.29226393\n",
        "  17.27916014  17.26232339  17.24341291  17.22352181  17.20335949\n",
        "  17.18338177  17.16387577  17.14501603  17.1269018   17.1095821\n",
        "  17.0930727   17.07736758  17.06244672  17.04828153  17.03483838\n",
        "  17.02208115  17.0099728   16.99847657  16.98755661  16.97717847\n",
        "  16.96730934  16.9579182   16.94897585  16.94045491  16.93232979\n",
        "  16.92457656  16.91717295  16.91009817  16.90333232  16.89685853\n",
        "  16.89065944  16.88471943  16.87902393  16.87355939  16.86831313\n",
        "  16.86327335  16.85842903  16.85376987  16.84928623  16.84496909\n",
        "  16.84081002  16.83680111  16.83293493  16.82920455  16.8255547\n",
        "  16.8220239   16.81861015  16.81480998  16.81107514  16.80744224\n",
        "  16.80264374  16.79783332  16.79311195  16.78718913  16.78124087\n",
        "  16.77537076  16.76869335  16.76201378  16.7554037   16.74836965\n",
        "  16.74135837  16.73440814  16.72728481  16.72019798  16.71316601\n",
        "  16.70612216  16.6991233   16.69217287  16.68531211  16.67850061\n",
        "  16.67173193  16.66511721  16.65855169  16.6520255   16.64568994]"
       ]
      },
      {
       "output_type": "stream",
       "stream": "stdout",
       "text": [
        "\n",
        "9\n",
        "[ 17.41768814  17.41768814  17.41768814  17.41768814  17.41768814\n",
        "  17.41768814  17.41768814  17.41768814  17.41768814  17.41768814\n",
        "  17.41768814  17.41768814  17.41768814  17.41768814  17.41768814\n",
        "  17.41768814  17.41768814  17.41768814  17.41768814  17.41768814\n",
        "  17.41768814  17.41768814  17.41748205  17.41516633  17.40750671\n",
        "  17.39440291  17.37756616  17.35865569  17.33876458  17.31860227\n",
        "  17.29862455  17.27911855  17.26025881  17.24214457  17.22482488\n",
        "  17.20831548  17.19261035  17.1776895   17.1635243   17.15008116\n",
        "  17.13732392  17.12521558  17.11371935  17.10279939  17.09242124\n",
        "  17.08255211  17.07316097  17.06421862  17.05569769  17.04757256\n",
        "  17.03981934  17.03241572  17.02534095  17.01857509  17.01210131\n",
        "  17.00590222  16.99996221  16.99426671  16.98880216  16.9835559\n",
        "  16.97851613  16.97367181  16.96901264  16.964529    16.96021187\n",
        "  16.9560528   16.95204388  16.94817771  16.94444732  16.94079747\n",
        "  16.93726668  16.93385293  16.93005276  16.92631792  16.92268502\n",
        "  16.91788652  16.91307609  16.90835473  16.90243191  16.89648365\n",
        "  16.89061354  16.88393613  16.87725656  16.87064648  16.86361242\n",
        "  16.85660115  16.84965092  16.84252758  16.83544076  16.82840879\n",
        "  16.82136494  16.81436608  16.80741564  16.80055489  16.79374338\n",
        "  16.7869747   16.78035999  16.77379446  16.76726827  16.76093272]"
       ]
      },
      {
       "output_type": "stream",
       "stream": "stdout",
       "text": [
        "\n",
        "10\n",
        "[ 17.52832121  17.52832121  17.52832121  17.52832121  17.52832121\n",
        "  17.52832121  17.52832121  17.52832121  17.52832121  17.52832121\n",
        "  17.52832121  17.52832121  17.52832121  17.52832121  17.52832121\n",
        "  17.52832121  17.52832121  17.52832121  17.52832121  17.52832121\n",
        "  17.52832121  17.52832121  17.52811511  17.52579939  17.51813977\n",
        "  17.50503598  17.48819923  17.46928875  17.44939765  17.42923533\n",
        "  17.40925761  17.38975162  17.37089188  17.35277764  17.33545794\n",
        "  17.31894855  17.30324342  17.28832257  17.27415737  17.26071422\n",
        "  17.24795699  17.23584865  17.22435241  17.21343245  17.20305431\n",
        "  17.19318518  17.18379404  17.17485169  17.16633075  17.15820563\n",
        "  17.15045241  17.14304879  17.13597401  17.12920816  17.12273437\n",
        "  17.11653528  17.11059527  17.10489978  17.09943523  17.09418897\n",
        "  17.08914919  17.08430487  17.07964571  17.07516207  17.07084493\n",
        "  17.06668586  17.06267695  17.05881078  17.05508039  17.05143054\n",
        "  17.04789975  17.04448599  17.04068583  17.03695098  17.03331808\n",
        "  17.02851958  17.02370916  17.01898779  17.01306498  17.00711671\n",
        "  17.00124661  16.99456919  16.98788962  16.98127954  16.97424549\n",
        "  16.96723421  16.96028399  16.95316065  16.94607382  16.93904186\n",
        "  16.931998    16.92499914  16.91804871  16.91118796  16.90437645\n",
        "  16.89760777  16.89099305  16.88442753  16.87790134  16.87156579]"
       ]
      },
      {
       "output_type": "stream",
       "stream": "stdout",
       "text": [
        "\n",
        "11\n",
        "[ 17.63452895  17.63452895  17.63452895  17.63452895  17.63452895\n",
        "  17.63452895  17.63452895  17.63452895  17.63452895  17.63452895\n",
        "  17.63452895  17.63452895  17.63452895  17.63452895  17.63452895\n",
        "  17.63452895  17.63452895  17.63452895  17.63452895  17.63452895\n",
        "  17.63452895  17.63452895  17.63432285  17.63200714  17.62434752\n",
        "  17.61124372  17.59440697  17.5754965   17.55560539  17.53544308\n",
        "  17.51546535  17.49595936  17.47709962  17.45898538  17.44166569\n",
        "  17.42515629  17.40945116  17.39453031  17.38036511  17.36692197\n",
        "  17.35416473  17.34205639  17.33056016  17.3196402   17.30926205\n",
        "  17.29939292  17.29000178  17.28105943  17.2725385   17.26441337\n",
        "  17.25666015  17.24925653  17.24218175  17.2354159   17.22894211\n",
        "  17.22274303  17.21680302  17.21110752  17.20564297  17.20039671\n",
        "  17.19535694  17.19051261  17.18585345  17.18136981  17.17705267\n",
        "  17.1728936   17.16888469  17.16501852  17.16128813  17.15763828\n",
        "  17.15410749  17.15069374  17.14689357  17.14315872  17.13952583\n",
        "  17.13472733  17.1299169   17.12519554  17.11927272  17.11332446\n",
        "  17.10745435  17.10077694  17.09409737  17.08748728  17.08045323\n",
        "  17.07344196  17.06649173  17.05936839  17.05228157  17.0452496\n",
        "  17.03820574  17.03120689  17.02425645  17.0173957   17.01058419\n",
        "  17.00381551  16.9972008   16.99063527  16.98410908  16.97777353]"
       ]
      },
      {
       "output_type": "stream",
       "stream": "stdout",
       "text": [
        "\n",
        "12\n",
        "[ 17.73648838  17.73648838  17.73648838  17.73648838  17.73648838\n",
        "  17.73648838  17.73648838  17.73648838  17.73648838  17.73648838\n",
        "  17.73648838  17.73648838  17.73648838  17.73648838  17.73648838\n",
        "  17.73648838  17.73648838  17.73648838  17.73648838  17.73648838\n",
        "  17.73648838  17.73648838  17.73628229  17.73396657  17.72630695\n",
        "  17.71320315  17.6963664   17.67745593  17.65756483  17.63740251\n",
        "  17.61742479  17.59791879  17.57905905  17.56094481  17.54362512\n",
        "  17.52711572  17.5114106   17.49648974  17.48232454  17.4688814\n",
        "  17.45612417  17.44401582  17.43251959  17.42159963  17.41122149\n",
        "  17.40135236  17.39196121  17.38301887  17.37449793  17.36637281\n",
        "  17.35861958  17.35121597  17.34414119  17.33737533  17.33090155\n",
        "  17.32470246  17.31876245  17.31306695  17.3076024   17.30235615\n",
        "  17.29731637  17.29247205  17.28781288  17.28332924  17.27901211\n",
        "  17.27485304  17.27084412  17.26697795  17.26324756  17.25959772\n",
        "  17.25606692  17.25265317  17.248853    17.24511816  17.24148526\n",
        "  17.23668676  17.23187634  17.22715497  17.22123215  17.21528389\n",
        "  17.20941378  17.20273637  17.1960568   17.18944672  17.18241267\n",
        "  17.17540139  17.16845116  17.16132783  17.154241    17.14720903\n",
        "  17.14016518  17.13316632  17.12621588  17.11935513  17.11254362\n",
        "  17.10577494  17.09916023  17.09259471  17.08606852  17.07973296]"
       ]
      },
      {
       "output_type": "stream",
       "stream": "stdout",
       "text": [
        "\n",
        "13\n",
        "[ 17.83436944  17.83436944  17.83436944  17.83436944  17.83436944\n",
        "  17.83436944  17.83436944  17.83436944  17.83436944  17.83436944\n",
        "  17.83436944  17.83436944  17.83436944  17.83436944  17.83436944\n",
        "  17.83436944  17.83436944  17.83436944  17.83436944  17.83436944\n",
        "  17.83436944  17.83436944  17.83416334  17.83184763  17.824188\n",
        "  17.81108421  17.79424746  17.77533699  17.75544588  17.73528357\n",
        "  17.71530584  17.69579985  17.67694011  17.65882587  17.64150618\n",
        "  17.62499678  17.60929165  17.5943708   17.5802056   17.56676246\n",
        "  17.55400522  17.54189688  17.53040065  17.51948069  17.50910254\n",
        "  17.49923341  17.48984227  17.48089992  17.47237899  17.46425386\n",
        "  17.45650064  17.44909702  17.44202224  17.43525639  17.4287826\n",
        "  17.42258352  17.4166435   17.41094801  17.40548346  17.4002372\n",
        "  17.39519742  17.3903531   17.38569394  17.3812103   17.37689316\n",
        "  17.37273409  17.36872518  17.36485901  17.36112862  17.35747877\n",
        "  17.35394798  17.35053423  17.34673406  17.34299921  17.33936632\n",
        "  17.33456782  17.32975739  17.32503603  17.31911321  17.31316495\n",
        "  17.30729484  17.30061743  17.29393786  17.28732777  17.28029372\n",
        "  17.27328245  17.26633222  17.25920888  17.25212205  17.24509009\n",
        "  17.23804623  17.23104738  17.22409694  17.21723619  17.21042468\n",
        "  17.203656    17.19704129  17.19047576  17.18394957  17.17761402]"
       ]
      },
      {
       "output_type": "stream",
       "stream": "stdout",
       "text": [
        "\n",
        "14\n",
        "[ 17.92833525  17.92833525  17.92833525  17.92833525  17.92833525\n",
        "  17.92833525  17.92833525  17.92833525  17.92833525  17.92833525\n",
        "  17.92833525  17.92833525  17.92833525  17.92833525  17.92833525\n",
        "  17.92833525  17.92833525  17.92833525  17.92833525  17.92833525\n",
        "  17.92833525  17.92833525  17.92812916  17.92581344  17.91815382\n",
        "  17.90505002  17.88821327  17.8693028   17.84941169  17.82924938\n",
        "  17.80927166  17.78976566  17.77090592  17.75279168  17.73547199\n",
        "  17.71896259  17.70325746  17.68833661  17.67417141  17.66072827\n",
        "  17.64797103  17.63586269  17.62436646  17.6134465   17.60306836\n",
        "  17.59319923  17.58380808  17.57486573  17.5663448   17.55821967\n",
        "  17.55046645  17.54306284  17.53598806  17.5292222   17.52274842\n",
        "  17.51654933  17.51060932  17.50491382  17.49944927  17.49420301\n",
        "  17.48916324  17.48431892  17.47965975  17.47517611  17.47085898\n",
        "  17.46669991  17.46269099  17.45882482  17.45509443  17.45144459\n",
        "  17.44791379  17.44450004  17.44069987  17.43696503  17.43333213\n",
        "  17.42853363  17.42372321  17.41900184  17.41307902  17.40713076\n",
        "  17.40126065  17.39458324  17.38790367  17.38129359  17.37425953\n",
        "  17.36724826  17.36029803  17.3531747   17.34608787  17.3390559\n",
        "  17.33201205  17.32501319  17.31806275  17.311202    17.30439049\n",
        "  17.29762181  17.2910071   17.28444158  17.27791539  17.27157983]"
       ]
      },
      {
       "output_type": "stream",
       "stream": "stdout",
       "text": [
        "\n",
        "15\n",
        "[ 18.01854243  18.01854243  18.01854243  18.01854243  18.01854243\n",
        "  18.01854243  18.01854243  18.01854243  18.01854243  18.01854243\n",
        "  18.01854243  18.01854243  18.01854243  18.01854243  18.01854243\n",
        "  18.01854243  18.01854243  18.01854243  18.01854243  18.01854243\n",
        "  18.01854243  18.01854243  18.01833634  18.01602062  18.008361    17.9952572\n",
        "  17.97842045  17.95950998  17.93961888  17.91945656  17.89947884\n",
        "  17.87997284  17.8611131   17.84299887  17.82567917  17.80916977\n",
        "  17.79346465  17.77854379  17.76437859  17.75093545  17.73817822\n",
        "  17.72606987  17.71457364  17.70365368  17.69327554  17.68340641\n",
        "  17.67401527  17.66507292  17.65655198  17.64842686  17.64067363\n",
        "  17.63327002  17.62619524  17.61942939  17.6129556   17.60675651\n",
        "  17.6008165   17.595121    17.58965645  17.5844102   17.57937042\n",
        "  17.5745261   17.56986693  17.56538329  17.56106616  17.55690709\n",
        "  17.55289817  17.549032    17.54530161  17.54165177  17.53812097\n",
        "  17.53470722  17.53090705  17.52717221  17.52353931  17.51874081\n",
        "  17.51393039  17.50920902  17.5032862   17.49733794  17.49146783\n",
        "  17.48479042  17.47811085  17.47150077  17.46446672  17.45745544\n",
        "  17.45050521  17.44338188  17.43629505  17.42926308  17.42221923\n",
        "  17.41522037  17.40826994  17.40140918  17.39459767  17.38782899\n",
        "  17.38121428  17.37464876  17.36812257  17.36178701]"
       ]
      },
      {
       "output_type": "stream",
       "stream": "stdout",
       "text": [
        "\n",
        "16\n",
        "[ 18.10514133  18.10514133  18.10514133  18.10514133  18.10514133\n",
        "  18.10514133  18.10514133  18.10514133  18.10514133  18.10514133\n",
        "  18.10514133  18.10514133  18.10514133  18.10514133  18.10514133\n",
        "  18.10514133  18.10514133  18.10514133  18.10514133  18.10514133\n",
        "  18.10514133  18.10514133  18.10493523  18.10261952  18.09495989\n",
        "  18.0818561   18.06501935  18.04610887  18.02621777  18.00605545\n",
        "  17.98607773  17.96657174  17.947712    17.92959776  17.91227806\n",
        "  17.89576867  17.88006354  17.86514269  17.85097749  17.83753434\n",
        "  17.82477711  17.81266877  17.80117253  17.79025257  17.77987443\n",
        "  17.7700053   17.76061416  17.75167181  17.74315088  17.73502575\n",
        "  17.72727253  17.71986891  17.71279413  17.70602828  17.69955449\n",
        "  17.69335541  17.68741539  17.6817199   17.67625535  17.67100909\n",
        "  17.66596931  17.66112499  17.65646583  17.65198219  17.64766505\n",
        "  17.64350598  17.63949707  17.6356309   17.63190051  17.62825066\n",
        "  17.62471987  17.62130611  17.61750595  17.6137711   17.61013821\n",
        "  17.6053397   17.60052928  17.59580791  17.5898851   17.58393683\n",
        "  17.57806673  17.57138931  17.56470974  17.55809966  17.55106561\n",
        "  17.54405434  17.53710411  17.52998077  17.52289394  17.51586198\n",
        "  17.50881812  17.50181927  17.49486883  17.48800808  17.48119657\n",
        "  17.47442789  17.46781317  17.46124765  17.45472146  17.44838591]"
       ]
      },
      {
       "output_type": "stream",
       "stream": "stdout",
       "text": [
        "\n",
        "17\n",
        "[ 18.18827627  18.18827627  18.18827627  18.18827627  18.18827627\n",
        "  18.18827627  18.18827627  18.18827627  18.18827627  18.18827627\n",
        "  18.18827627  18.18827627  18.18827627  18.18827627  18.18827627\n",
        "  18.18827627  18.18827627  18.18827627  18.18827627  18.18827627\n",
        "  18.18827627  18.18827627  18.18807017  18.18575445  18.17809483\n",
        "  18.16499104  18.14815429  18.12924381  18.10935271  18.08919039\n",
        "  18.06921267  18.04970668  18.03084693  18.0127327   17.995413\n",
        "  17.97890361  17.96319848  17.94827762  17.93411243  17.92066928\n",
        "  17.90791205  17.89580371  17.88430747  17.87338751  17.86300937\n",
        "  17.85314024  17.8437491   17.83480675  17.82628581  17.81816069\n",
        "  17.81040746  17.80300385  17.79592907  17.78916322  17.78268943\n",
        "  17.77649034  17.77055033  17.76485484  17.75939029  17.75414403\n",
        "  17.74910425  17.74425993  17.73960077  17.73511713  17.73079999\n",
        "  17.72664092  17.72263201  17.71876583  17.71503545  17.7113856\n",
        "  17.7078548   17.70444105  17.70064089  17.69690604  17.69327314\n",
        "  17.68847464  17.68366422  17.67894285  17.67302004  17.66707177\n",
        "  17.66120166  17.65452425  17.64784468  17.6412346   17.63420055\n",
        "  17.62718927  17.62023904  17.61311571  17.60602888  17.59899692\n",
        "  17.59195306  17.5849542   17.57800377  17.57114302  17.56433151\n",
        "  17.55756283  17.55094811  17.54438259  17.5378564   17.53152084]"
       ]
      },
      {
       "output_type": "stream",
       "stream": "stdout",
       "text": [
        "\n",
        "18\n",
        "[ 18.26808581  18.26808581  18.26808581  18.26808581  18.26808581\n",
        "  18.26808581  18.26808581  18.26808581  18.26808581  18.26808581\n",
        "  18.26808581  18.26808581  18.26808581  18.26808581  18.26808581\n",
        "  18.26808581  18.26808581  18.26808581  18.26808581  18.26808581\n",
        "  18.26808581  18.26808581  18.26787971  18.26556399  18.25790437\n",
        "  18.24480058  18.22796383  18.20905335  18.18916225  18.16899993\n",
        "  18.14902221  18.12951622  18.11065648  18.09254224  18.07522254\n",
        "  18.05871315  18.04300802  18.02808717  18.01392197  18.00047882\n",
        "  17.98772159  17.97561325  17.96411701  17.95319705  17.94281891\n",
        "  17.93294978  17.92355864  17.91461629  17.90609535  17.89797023\n",
        "  17.890217    17.88281339  17.87573861  17.86897276  17.86249897\n",
        "  17.85629988  17.85035987  17.84466438  17.83919983  17.83395357\n",
        "  17.82891379  17.82406947  17.81941031  17.81492667  17.81060953\n",
        "  17.80645046  17.80244155  17.79857538  17.79484499  17.79119514\n",
        "  17.78766434  17.78425059  17.78045043  17.77671558  17.77308268\n",
        "  17.76828418  17.76347376  17.75875239  17.75282958  17.74688131\n",
        "  17.7410112   17.73433379  17.72765422  17.72104414  17.71401009\n",
        "  17.70699881  17.70004859  17.69292525  17.68583842  17.67880646\n",
        "  17.6717626   17.66476374  17.65781331  17.65095256  17.64414105\n",
        "  17.63737237  17.63075765  17.62419213  17.61766594  17.61133039]"
       ]
      },
      {
       "output_type": "stream",
       "stream": "stdout",
       "text": [
        "\n",
        "19\n",
        "[ 18.34470296  18.34470296  18.34470296  18.34470296  18.34470296\n",
        "  18.34470296  18.34470296  18.34470296  18.34470296  18.34470296\n",
        "  18.34470296  18.34470296  18.34470296  18.34470296  18.34470296\n",
        "  18.34470296  18.34470296  18.34470296  18.34470296  18.34470296\n",
        "  18.34470296  18.34470296  18.34449687  18.34218115  18.33452153\n",
        "  18.32141774  18.30458099  18.28567051  18.26577941  18.24561709\n",
        "  18.22563937  18.20613338  18.18727363  18.1691594   18.1518397\n",
        "  18.13533031  18.11962518  18.10470432  18.09053913  18.07709598\n",
        "  18.06433875  18.0522304   18.04073417  18.02981421  18.01943607\n",
        "  18.00956694  18.0001758   17.99123345  17.98271251  17.97458739\n",
        "  17.96683416  17.95943055  17.95235577  17.94558992  17.93911613\n",
        "  17.93291704  17.92697703  17.92128153  17.91581699  17.91057073\n",
        "  17.90553095  17.90068663  17.89602747  17.89154383  17.88722669\n",
        "  17.88306762  17.87905871  17.87519253  17.87146215  17.8678123\n",
        "  17.8642815   17.86086775  17.85706759  17.85333274  17.84969984\n",
        "  17.84490134  17.84009092  17.83536955  17.82944674  17.82349847\n",
        "  17.81762836  17.81095095  17.80427138  17.7976613   17.79062725\n",
        "  17.78361597  17.77666574  17.76954241  17.76245558  17.75542361\n",
        "  17.74837976  17.7413809   17.73443047  17.72756972  17.72075821\n",
        "  17.71398953  17.70737481  17.70080929  17.6942831   17.68794754]"
       ]
      },
      {
       "output_type": "stream",
       "stream": "stdout",
       "text": [
        "\n"
       ]
      }
     ],
     "prompt_number": 46
    },
    {
     "cell_type": "code",
     "collapsed": false,
     "input": [
      "Tv2, ws2, res2 = bellman(Tv, u_, shock=shock)"
     ],
     "language": "python",
     "metadata": {},
     "outputs": [],
     "prompt_number": 48
    },
    {
     "cell_type": "code",
     "collapsed": false,
     "input": [
      "ax = plt.plot(Tv.X, Tv.Y, Tv2.X, Tv2.Y)"
     ],
     "language": "python",
     "metadata": {},
     "outputs": [
      {
       "metadata": {},
       "output_type": "display_data",
       "png": "[encoded data removed]",
       "text": [
        "<matplotlib.figure.Figure at 0x106a2da50>"
       ]
      }
     ],
     "prompt_number": 49
    },
    {
     "cell_type": "code",
     "collapsed": false,
     "input": [
      "Tv2 - Tv"
     ],
     "language": "python",
     "metadata": {},
     "outputs": [
      {
       "metadata": {},
       "output_type": "pyout",
       "prompt_number": 50,
       "text": [
        "array([ 0.07355247,  0.07355247,  0.07355247,  0.07355247,  0.07355247,\n",
        "        0.07355247,  0.07355247,  0.07355247,  0.07355247,  0.07355247,\n",
        "        0.07355247,  0.07355247,  0.07355247,  0.07355247,  0.07355247,\n",
        "        0.07355247,  0.07355247,  0.07355247,  0.07355247,  0.07355247,\n",
        "        0.07355247,  0.07355247,  0.07355247,  0.07355247,  0.07355247,\n",
        "        0.07355247,  0.07355247,  0.07355247,  0.07355247,  0.07355247,\n",
        "        0.07355247,  0.07355247,  0.07355247,  0.07355247,  0.07355247,\n",
        "        0.07355247,  0.07355247,  0.07355247,  0.07355247,  0.07355247,\n",
        "        0.07355247,  0.07355247,  0.07355247,  0.07355247,  0.07355247,\n",
        "        0.07355247,  0.07355247,  0.07355247,  0.07355247,  0.07355247,\n",
        "        0.07355247,  0.07355247,  0.07355247,  0.07355247,  0.07355247,\n",
        "        0.07355247,  0.07355247,  0.07355247,  0.07355247,  0.07355247,\n",
        "        0.07355247,  0.07355247,  0.07355247,  0.07355247,  0.07355247,\n",
        "        0.07355247,  0.07355247,  0.07355247,  0.07355247,  0.07355247,\n",
        "        0.07355247,  0.07355247,  0.07355247,  0.07355247,  0.07355247,\n",
        "        0.07355247,  0.07355247,  0.07355247,  0.07355247,  0.07355247,\n",
        "        0.07355247,  0.07355247,  0.07355247,  0.07355247,  0.07355247,\n",
        "        0.07355247,  0.07355247,  0.07355247,  0.07355247,  0.07355247,\n",
        "        0.07355247,  0.07355247,  0.07355247,  0.07355247,  0.07355247,\n",
        "        0.07355247,  0.07355247,  0.07355247,  0.07355247,  0.07355247])"
       ]
      }
     ],
     "prompt_number": 50
    },
    {
     "cell_type": "heading",
     "level": 3,
     "metadata": {},
     "source": [
      "Wage Setting Schedules"
     ]
    },
    {
     "cell_type": "heading",
     "level": 4,
     "metadata": {},
     "source": [
      "Flexible Case.  Should be the same?  Or should it not?  Seems like if you have a high shock today you wouldn't want to raise your wage all the way, since tomorrow you might get a low shock and want to lower your wage."
     ]
    },
    {
     "cell_type": "code",
     "collapsed": false,
     "input": [
      "wage_schedule.plot()"
     ],
     "language": "python",
     "metadata": {},
     "outputs": [
      {
       "metadata": {},
       "output_type": "display_data",
       "png": "[encoded data removed]",
       "text": [
        "<matplotlib.figure.Figure at 0x106fc29d0>"
       ]
      }
     ],
     "prompt_number": 73
    },
    {
     "cell_type": "code",
     "collapsed": false,
     "input": [
      "params = load_params()\n",
      "flex = ss_wage_flexible(params, shock)"
     ],
     "language": "python",
     "metadata": {},
     "outputs": [],
     "prompt_number": 74
    },
    {
     "cell_type": "code",
     "collapsed": false,
     "input": [
      "plt.plot(shock, flex)"
     ],
     "language": "python",
     "metadata": {},
     "outputs": [
      {
       "metadata": {},
       "output_type": "pyout",
       "prompt_number": 75,
       "text": [
        "[<matplotlib.lines.Line2D at 0x106d0c450>]"
       ]
      },
      {
       "metadata": {},
       "output_type": "display_data",
       "png": "[encoded data removed]",
       "text": [
        "<matplotlib.figure.Figure at 0x106851b10>"
       ]
      }
     ],
     "prompt_number": 75
    },
    {
     "cell_type": "heading",
     "level": 5,
     "metadata": {},
     "source": [
      "With Rigidities.  Rigid should be lower."
     ]
    },
    {
     "cell_type": "code",
     "collapsed": false,
     "input": [
      "# m1 is free, m2 is rigid.  This seems wrong...\n",
      "pan.mean(axis='items')[['m1', 'm2']].plot()"
     ],
     "language": "python",
     "metadata": {},
     "outputs": [
      {
       "metadata": {},
       "output_type": "pyout",
       "prompt_number": 99,
       "text": [
        "<matplotlib.axes._subplots.AxesSubplot at 0x106d1cb10>"
       ]
      },
      {
       "metadata": {},
       "output_type": "display_data",
       "png": "[encoded data removed]",
       "text": [
        "<matplotlib.figure.Figure at 0x10713dad0>"
       ]
      }
     ],
     "prompt_number": 99
    },
    {
     "cell_type": "heading",
     "level": 3,
     "metadata": {},
     "source": [
      "Compare free ($\\lambda = 1$) with mostly rigid ($\\lambda = 2$)"
     ]
    },
    {
     "cell_type": "code",
     "collapsed": false,
     "input": [
      "w0 = LinInterp(grid, -grid + 4)\n",
      "Tv_free, ws_free, res_free = bellman(w0, u_, shock=shock, lambda_=0)\n",
      "Tv_res,  ws_res,  res_res  = bellman(w0, u_, shock=shock, lambda_=.9)"
     ],
     "language": "python",
     "metadata": {},
     "outputs": [],
     "prompt_number": 105
    },
    {
     "cell_type": "code",
     "collapsed": false,
     "input": [
      "# Now recurse\n",
      "Tv_free, ws_free, res_free = bellman(Tv_free, u_, shock=shock, lambda_=0)\n",
      "Tv_res,  ws_res,  res_res  = bellman(Tv_res, u_, shock=shock, lambda_=.9)"
     ],
     "language": "python",
     "metadata": {},
     "outputs": [],
     "prompt_number": 120
    },
    {
     "cell_type": "code",
     "collapsed": false,
     "input": [
      "plt.plot(grid, Tv_free - Tv_res)"
     ],
     "language": "python",
     "metadata": {},
     "outputs": [
      {
       "metadata": {},
       "output_type": "pyout",
       "prompt_number": 117,
       "text": [
        "[<matplotlib.lines.Line2D at 0x107fae610>]"
       ]
      },
      {
       "metadata": {},
       "output_type": "display_data",
       "png": "[encoded data removed]",
       "text": [
        "<matplotlib.figure.Figure at 0x1070c02d0>"
       ]
      }
     ],
     "prompt_number": 117
    },
    {
     "cell_type": "code",
     "collapsed": false,
     "input": [
      "plt.plot(grid, Tv_free - Tv_res)"
     ],
     "language": "python",
     "metadata": {},
     "outputs": [
      {
       "metadata": {},
       "output_type": "pyout",
       "prompt_number": 121,
       "text": [
        "[<matplotlib.lines.Line2D at 0x1080df990>]"
       ]
      },
      {
       "metadata": {},
       "output_type": "display_data",
       "png": "[encoded data removed]",
       "text": [
        "<matplotlib.figure.Figure at 0x1078e7d90>"
       ]
      }
     ],
     "prompt_number": 121
    },
    {
     "cell_type": "code",
     "collapsed": false,
     "input": [],
     "language": "python",
     "metadata": {},
     "outputs": []
    }
   ],
   "metadata": {}
  }
 ]
}