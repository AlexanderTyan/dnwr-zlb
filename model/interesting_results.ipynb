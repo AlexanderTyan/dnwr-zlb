{
 "metadata": {
  "name": ""
 },
 "nbformat": 3,
 "nbformat_minor": 0,
 "worksheets": [
  {
   "cells": [
    {
     "cell_type": "code",
     "collapsed": false,
     "input": [
      "%pylab inline\n",
      "%load_ext autoreload\n",
      "%load_ext cythonmagic\n",
      "%load_ext line_profiler\n",
      "%connect_info"
     ],
     "language": "python",
     "metadata": {},
     "outputs": [
      {
       "output_type": "stream",
       "stream": "stdout",
       "text": [
        "\n",
        "Welcome to pylab, a matplotlib-based Python environment [backend: module://IPython.kernel.zmq.pylab.backend_inline].\n",
        "For more information, type 'help(pylab)'.\n"
       ]
      },
      {
       "output_type": "stream",
       "stream": "stdout",
       "text": [
        "The autoreload extension is already loaded. To reload it, use:\n",
        "  %reload_ext autoreload\n",
        "The line_profiler extension is already loaded. To reload it, use:"
       ]
      },
      {
       "output_type": "stream",
       "stream": "stdout",
       "text": [
        "\n",
        "  %reload_ext line_profiler\n",
        "{\n",
        "  \"stdin_port\": 52066, \n",
        "  \"ip\": \"127.0.0.1\", \n",
        "  \"control_port\": 52067, \n",
        "  \"hb_port\": 52068, \n",
        "  \"key\": \"72d0b53c-555d-4bce-b3c3-3486cb70e098\", \n",
        "  \"shell_port\": 52064, \n",
        "  \"transport\": \"tcp\", \n",
        "  \"iopub_port\": 52065\n",
        "}\n",
        "\n",
        "Paste the above JSON into a file, and connect with:\n",
        "    $> ipython <app> --existing <file>\n",
        "or, if you are local, you can connect with just:\n",
        "    $> ipython <app> --existing kernel-a3500036-db60-4cd0-9420-0a04da1c045f.json \n",
        "or even just:\n",
        "    $> ipython <app> --existing \n",
        "if this is the most recent IPython session you have started.\n"
       ]
      }
     ],
     "prompt_number": 27
    },
    {
     "cell_type": "code",
     "collapsed": false,
     "input": [
      "%autoreload\n",
      "\n",
      "import cPickle\n",
      "import pickle\n",
      "\n",
      "from scipy.stats import norm, lognorm\n",
      "\n",
      "from value_function import *\n",
      "from vf_iteration import ss_wage_flexible, ss_output_flexible, load_params, truncate_distribution\n"
     ],
     "language": "python",
     "metadata": {},
     "outputs": [],
     "prompt_number": 45
    },
    {
     "cell_type": "code",
     "collapsed": false,
     "input": [
      "np.random.seed(42)"
     ],
     "language": "python",
     "metadata": {},
     "outputs": [],
     "prompt_number": 46
    },
    {
     "cell_type": "code",
     "collapsed": false,
     "input": [
      "# Setup\n",
      "grid = np.linspace(0.1, 4, 100)\n",
      "fine_grid = np.linspace(.1, grid[-1], 10000)\n",
      "sigma = 0.2\n",
      "mu = -(sigma ** 2) / 2\n",
      "trunc = truncate_distribution(norm(loc=mu, scale=sigma), .05, .95)\n",
      "shock = np.sort(np.exp(trunc.rvs(30)))\n",
      "fine_shock = np.sort(np.exp(trunc.rvs(1000)))  # need to deal with endoints\n",
      "params = load_params()\n",
      "gamma = params['gamma'][0]\n",
      "eta = params['eta'][0]\n",
      "params = load_params()\n",
      "params['shock'] = shock, 'Random sample from lognomral'\n",
      "params['grid'] = grid, 'Wage grid'"
     ],
     "language": "python",
     "metadata": {},
     "outputs": [],
     "prompt_number": 47
    },
    {
     "cell_type": "heading",
     "level": 2,
     "metadata": {},
     "source": [
      "Updated returns on bellmam"
     ]
    },
    {
     "cell_type": "code",
     "collapsed": false,
     "input": [
      "w0 = Interp(grid, -grid + 4)\n",
      "w = burn_in_vf(w0, maxiter=10, pi=.02)"
     ],
     "language": "python",
     "metadata": {},
     "outputs": [
      {
       "output_type": "stream",
       "stream": "stdout",
       "text": [
        "1 / 10\n",
        "2 / 10"
       ]
      },
      {
       "output_type": "stream",
       "stream": "stdout",
       "text": [
        "\n",
        "3 / 10"
       ]
      },
      {
       "output_type": "stream",
       "stream": "stdout",
       "text": [
        "\n",
        "4 / 10"
       ]
      },
      {
       "output_type": "stream",
       "stream": "stdout",
       "text": [
        "\n",
        "5 / 10"
       ]
      },
      {
       "output_type": "stream",
       "stream": "stdout",
       "text": [
        "\n",
        "6 / 10"
       ]
      },
      {
       "output_type": "stream",
       "stream": "stdout",
       "text": [
        "\n",
        "7 / 10"
       ]
      },
      {
       "output_type": "stream",
       "stream": "stdout",
       "text": [
        "\n",
        "8 / 10"
       ]
      },
      {
       "output_type": "stream",
       "stream": "stdout",
       "text": [
        "\n",
        "9 / 10"
       ]
      },
      {
       "output_type": "stream",
       "stream": "stdout",
       "text": [
        "\n",
        "10 / 10"
       ]
      },
      {
       "output_type": "stream",
       "stream": "stdout",
       "text": [
        "\n"
       ]
      }
     ],
     "prompt_number": 5
    },
    {
     "cell_type": "code",
     "collapsed": false,
     "input": [
      "# %lprun -f bellman bellman(w, u_, shock=shock, pi=.02)\n",
      "# prun -l 7 -s cumulative bellman(w, u_, shock=shock, pi=.02)\n",
      "Tv, wage_schedule, res = bellman(w, u_, shock=shock, pi=.02)"
     ],
     "language": "python",
     "metadata": {},
     "outputs": [],
     "prompt_number": 6
    },
    {
     "cell_type": "code",
     "collapsed": false,
     "input": [
      "Tv.plot()"
     ],
     "language": "python",
     "metadata": {},
     "outputs": [
      {
       "metadata": {},
       "output_type": "pyout",
       "prompt_number": 7,
       "text": [
        "[<matplotlib.lines.Line2D at 0x10c331550>]"
       ]
      },
      {
       "metadata": {},
       "output_type": "display_data",
       "png": "[encoded data removed]",
       "text": [
        "<matplotlib.figure.Figure at 0x10ab37650>"
       ]
      }
     ],
     "prompt_number": 7
    },
    {
     "cell_type": "code",
     "collapsed": false,
     "input": [
      "fig = plt.figure(figsize=(19, 8))\n",
      "ax = fig.add_subplot(121)\n",
      "ax.set_xlabel(\"Shock\")\n",
      "l1 = ax.plot(fine_shock, wage_schedule(fine_shock), label='Wage Schedule: $w_t(Z_{it})$', c='r')\n",
      "ax.legend(loc=2)\n",
      "ax2 = fig.add_subplot(122)\n",
      "ax2.set_xlabel(\"Wage\")\n",
      "l2 = ax2.plot(fine_grid, wage_schedule.inverse()(fine_grid), label='$z_t(w)$')\n",
      "ax2.legend(loc=2)"
     ],
     "language": "python",
     "metadata": {},
     "outputs": [
      {
       "metadata": {},
       "output_type": "pyout",
       "prompt_number": 8,
       "text": [
        "<matplotlib.legend.Legend at 0x10c47d190>"
       ]
      },
      {
       "metadata": {},
       "output_type": "display_data",
       "png": "[encoded data removed]",
       "text": [
        "<matplotlib.figure.Figure at 0x10ab37450>"
       ]
      }
     ],
     "prompt_number": 8
    },
    {
     "cell_type": "code",
     "collapsed": false,
     "input": [
      "split = np.array(np.split(res, len(grid)))\n",
      "pan = pd.Panel(split, items=grid, major_axis=shock, minor_axis=['wage', 'shock', 'value', 'm1', 'm2'])\n",
      "pan.major_axis.name = 'shock'"
     ],
     "language": "python",
     "metadata": {},
     "outputs": [],
     "prompt_number": 9
    },
    {
     "cell_type": "code",
     "collapsed": false,
     "input": [
      "pan.shape"
     ],
     "language": "python",
     "metadata": {},
     "outputs": [
      {
       "metadata": {},
       "output_type": "pyout",
       "prompt_number": 10,
       "text": [
        "(100, 30, 5)"
       ]
      }
     ],
     "prompt_number": 10
    },
    {
     "cell_type": "code",
     "collapsed": false,
     "input": [
      "for i in range(10):\n",
      "    print i\n",
      "    Tv, wage_schedule, res = bellman(Tv, u_, shock=shock, pi=.02)\n",
      "    "
     ],
     "language": "python",
     "metadata": {},
     "outputs": [
      {
       "output_type": "stream",
       "stream": "stdout",
       "text": [
        "0\n",
        "1"
       ]
      },
      {
       "output_type": "stream",
       "stream": "stdout",
       "text": [
        "\n",
        "2"
       ]
      },
      {
       "output_type": "stream",
       "stream": "stdout",
       "text": [
        "\n",
        "3"
       ]
      },
      {
       "output_type": "stream",
       "stream": "stdout",
       "text": [
        "\n",
        "4"
       ]
      },
      {
       "output_type": "stream",
       "stream": "stdout",
       "text": [
        "\n",
        "5"
       ]
      },
      {
       "output_type": "stream",
       "stream": "stdout",
       "text": [
        "\n",
        "6"
       ]
      },
      {
       "output_type": "stream",
       "stream": "stdout",
       "text": [
        "\n",
        "7"
       ]
      },
      {
       "output_type": "stream",
       "stream": "stdout",
       "text": [
        "\n",
        "8"
       ]
      },
      {
       "output_type": "stream",
       "stream": "stdout",
       "text": [
        "\n",
        "9"
       ]
      },
      {
       "output_type": "stream",
       "stream": "stdout",
       "text": [
        "\n"
       ]
      }
     ],
     "prompt_number": 12
    },
    {
     "cell_type": "heading",
     "level": 3,
     "metadata": {},
     "source": [
      "With Piecewise Cubics"
     ]
    },
    {
     "cell_type": "code",
     "collapsed": false,
     "input": [
      "#w0 = pchip(grid, -grid + 4)\n",
      "#w0.X = np.array(w0.xi)\n",
      "#w = burn_in_vf(w0, maxiter=10, cubic=True)\n",
      "Tv, wage_schedule, res = bellman(w, u_, shock=shock, cubic=True)\n",
      "with open('cubic_bellman.pck', 'wb') as f:\n",
      "    pickle.dump(Tv, f)\n",
      "\n",
      "with open('cubic_ws.pck', 'wb') as f:\n",
      "    pickle.dump(wage_schedule, f)\n",
      "\n",
      "with open('cubic_res.pck', 'wb') as f:\n",
      "    pickle.dump(res, f)"
     ],
     "language": "python",
     "metadata": {},
     "outputs": [],
     "prompt_number": 76
    },
    {
     "cell_type": "code",
     "collapsed": false,
     "input": [
      "with open('cubic_bellman.pck', 'wb') as f:\n",
      "    pickle.dump(Tv, f)"
     ],
     "language": "python",
     "metadata": {},
     "outputs": [],
     "prompt_number": 107
    },
    {
     "cell_type": "code",
     "collapsed": false,
     "input": [
      "plt.plot(fine_grid, Tv(fine_grid))"
     ],
     "language": "python",
     "metadata": {},
     "outputs": [
      {
       "metadata": {},
       "output_type": "pyout",
       "prompt_number": 113,
       "text": [
        "[<matplotlib.lines.Line2D at 0x116bd9390>]"
       ]
      },
      {
       "metadata": {},
       "output_type": "display_data",
       "png": "[encoded data removed]",
       "text": [
        "<matplotlib.figure.Figure at 0x115057850>"
       ]
      }
     ],
     "prompt_number": 113
    },
    {
     "cell_type": "code",
     "collapsed": false,
     "input": [
      "plt.plot(fine_shock, wage_schedule(fine_shock))"
     ],
     "language": "python",
     "metadata": {},
     "outputs": [
      {
       "metadata": {},
       "output_type": "pyout",
       "prompt_number": 114,
       "text": [
        "[<matplotlib.lines.Line2D at 0x116ef2d50>]"
       ]
      },
      {
       "metadata": {},
       "output_type": "display_data",
       "png": "[encoded data removed]",
       "text": [
        "<matplotlib.figure.Figure at 0x115038610>"
       ]
      }
     ],
     "prompt_number": 114
    },
    {
     "cell_type": "heading",
     "level": 3,
     "metadata": {},
     "source": [
      "Wage Setting Schedules"
     ]
    },
    {
     "cell_type": "heading",
     "level": 4,
     "metadata": {},
     "source": [
      "Flexible Case.  Should be the same?  Or should it not?  Seems like if you have a high shock today you wouldn't want to raise your wage all the way, since tomorrow you might get a low shock and want to lower your wage."
     ]
    },
    {
     "cell_type": "code",
     "collapsed": false,
     "input": [
      "wage_schedule = Interp(wage_schedule.X, wage_schedule.Y)"
     ],
     "language": "python",
     "metadata": {},
     "outputs": [],
     "prompt_number": 15
    },
    {
     "cell_type": "code",
     "collapsed": false,
     "input": [
      "fig = plt.figure(figsize=(19, 8))\n",
      "ax = fig.add_subplot(121)\n",
      "ax.set_xlabel(\"Shock\")\n",
      "l1 = ax.plot(fine_shock, wage_schedule(fine_shock), label='Wage Schedule: $w_t(Z_{it})$', c='r')\n",
      "ax.legend(loc=2)\n",
      "ax2 = fig.add_subplot(122)\n",
      "ax2.set_xlabel(\"Wage\")\n",
      "l2 = ax2.plot(fine_grid, wage_schedule.inverse()(fine_grid), label='$z_t(w)$')\n",
      "ax2.legend(loc=2)"
     ],
     "language": "python",
     "metadata": {},
     "outputs": [
      {
       "metadata": {},
       "output_type": "pyout",
       "prompt_number": 16,
       "text": [
        "<matplotlib.legend.Legend at 0x10c9c9e10>"
       ]
      },
      {
       "metadata": {},
       "output_type": "display_data",
       "png": "[encoded data removed]",
       "text": [
        "<matplotlib.figure.Figure at 0x10c966e10>"
       ]
      }
     ],
     "prompt_number": 16
    },
    {
     "cell_type": "code",
     "collapsed": false,
     "input": [
      "flex = ss_wage_flexible(params, shock)"
     ],
     "language": "python",
     "metadata": {},
     "outputs": [],
     "prompt_number": 17
    },
    {
     "cell_type": "code",
     "collapsed": false,
     "input": [
      "fig = plt.figure(figsize=(13,7))\n",
      "ax = fig.add_subplot(211)\n",
      "l1 = ax.plot(shock, wage_schedule(shock), label='Rigid Wage Schedule $W_t(Z_{it})$')\n",
      "l2 = ax.plot(shock, ss_wage_flexible(params, shock), label='Flex. Wage Schedule $\\hat{w}_{it}(Z)$')\n",
      "plt.legend(loc=2)\n",
      "ax2 = fig.add_subplot(212)\n",
      "l3 = ax2.plot(shock, wage_schedule(shock) - ss_wage_flexible(params, shock), c='r', label='Difference')\n",
      "plt.legend()"
     ],
     "language": "python",
     "metadata": {},
     "outputs": [
      {
       "metadata": {},
       "output_type": "pyout",
       "prompt_number": 18,
       "text": [
        "<matplotlib.legend.Legend at 0x10cdbc510>"
       ]
      },
      {
       "metadata": {},
       "output_type": "display_data",
       "png": "[encoded data removed]",
       "text": [
        "<matplotlib.figure.Figure at 0x10cd8e610>"
       ]
      }
     ],
     "prompt_number": 18
    },
    {
     "cell_type": "heading",
     "level": 2,
     "metadata": {},
     "source": [
      "Stochastic Recursive Sequence for $G_t(w) = (1 - \\lambda) F(z_t(w)) + \\lambda G_{t-1}(w(1 + \\pi_t))F(z_t(w))$"
     ]
    },
    {
     "cell_type": "code",
     "collapsed": false,
     "input": [
      "from value_function import g_p\n",
      "d = lognorm(sigma, shape=exp(mu))"
     ],
     "language": "python",
     "metadata": {},
     "outputs": [],
     "prompt_number": 19
    },
    {
     "cell_type": "code",
     "collapsed": false,
     "input": [
      "%autoreload"
     ],
     "language": "python",
     "metadata": {},
     "outputs": [],
     "prompt_number": 20
    },
    {
     "cell_type": "code",
     "collapsed": false,
     "input": [
      "pchip(grid, grid)(20)"
     ],
     "language": "python",
     "metadata": {},
     "outputs": [
      {
       "metadata": {},
       "output_type": "pyout",
       "prompt_number": 21,
       "text": [
        "array(-1326174.035502949)"
       ]
      }
     ],
     "prompt_number": 21
    },
    {
     "cell_type": "code",
     "collapsed": false,
     "input": [
      "g1 = Interp(grid, (1 - lambda_) * d.cdf(grid) + lambda_ * d.cdf(grid) * grid / grid[-1], kind='pchip')\n",
      "gp, vals = g_p(g1, d, full_output=True)\n",
      "_ = [plt.plot(grid, x.Y) for x in vals]"
     ],
     "language": "python",
     "metadata": {},
     "outputs": [
      {
       "metadata": {},
       "output_type": "display_data",
       "png": "[encoded data removed]",
       "text": [
        "<matplotlib.figure.Figure at 0x10ce73e10>"
       ]
      }
     ],
     "prompt_number": 22
    },
    {
     "cell_type": "code",
     "collapsed": false,
     "input": [
      "flex = ss_wage_flexible(params, shock)\n",
      "ws = wage_schedule"
     ],
     "language": "python",
     "metadata": {},
     "outputs": [],
     "prompt_number": 23
    },
    {
     "cell_type": "code",
     "collapsed": false,
     "input": [
      "(1 - lambda_) * sum((1 / shock) ** (gamma * (eta - 1) / (gamma + eta)) * (flex / ws.Y) ** (eta - 1))"
     ],
     "language": "python",
     "metadata": {},
     "outputs": [
      {
       "metadata": {},
       "output_type": "pyout",
       "prompt_number": 24,
       "text": [
        "6.1487296266287412"
       ]
      }
     ],
     "prompt_number": 24
    },
    {
     "cell_type": "code",
     "collapsed": false,
     "input": [
      "dg = pchip(gp.X, gp.Y).derivative"
     ],
     "language": "python",
     "metadata": {},
     "outputs": [],
     "prompt_number": 82
    },
    {
     "cell_type": "code",
     "collapsed": false,
     "input": [
      "flex_ws = LinInterp(shock, flex)"
     ],
     "language": "python",
     "metadata": {},
     "outputs": [],
     "prompt_number": 84
    },
    {
     "cell_type": "code",
     "collapsed": false,
     "input": [
      "%%cython\n",
      "def p_f(x):\n",
      "    return x**2-x\n",
      "\n",
      "def p_integrate_f(a, b, N):\n",
      "    s = 0\n",
      "    dx = (b-a)/N\n",
      "    for i in range(N):\n",
      "        s += p_f(a+i*dx)\n",
      "    return s * dx\n",
      "\n",
      "def f(double x):\n",
      "    return x**2-x\n",
      "\n",
      "def integrate_f(double a, double b, int N):\n",
      "    cdef int i\n",
      "    cdef double s, dx\n",
      "    s = 0\n",
      "    dx = (b-a)/N\n",
      "    for i in range(N):\n",
      "        s += f(a+i*dx)\n",
      "    return s * dx\n",
      "\n",
      "cdef double c_f(double x) except? -2:\n",
      "    return x**2-x\n",
      "\n",
      "def c_integrate_f(double a, double b, int N):\n",
      "    cdef int i\n",
      "    cdef double s, dx\n",
      "    s = 0\n",
      "    dx = (b-a)/N\n",
      "    for i in range(N):\n",
      "        s += c_f(a+i*dx)\n",
      "    return s * dx"
     ],
     "language": "python",
     "metadata": {},
     "outputs": [],
     "prompt_number": 28
    },
    {
     "cell_type": "code",
     "collapsed": false,
     "input": [
      "%timeit p_integrate_f(0, 4, 100)\n",
      "%timeit integrate_f(0.0, 4.0, 100)\n",
      "%timeit c_integrate_f(0.0, 4.0, 100)"
     ],
     "language": "python",
     "metadata": {},
     "outputs": [
      {
       "output_type": "stream",
       "stream": "stdout",
       "text": [
        "10000 loops, best of 3: 15.4 \u00b5s per loop\n",
        "100000 loops, best of 3: 10.6 \u00b5s per loop"
       ]
      },
      {
       "output_type": "stream",
       "stream": "stdout",
       "text": [
        "\n",
        "1000000 loops, best of 3: 456 ns per loop"
       ]
      },
      {
       "output_type": "stream",
       "stream": "stdout",
       "text": [
        "\n"
       ]
      }
     ],
     "prompt_number": 29
    },
    {
     "cell_type": "heading",
     "level": 2,
     "metadata": {},
     "source": [
      "Settle this lognormal Stuff."
     ]
    },
    {
     "cell_type": "code",
     "collapsed": false,
     "input": [
      "from scipy import stats"
     ],
     "language": "python",
     "metadata": {},
     "outputs": [],
     "prompt_number": 31
    },
    {
     "cell_type": "markdown",
     "metadata": {},
     "source": [
      "The following is the *correct* way to use the scipy lognormal distribution.\n",
      "Since $ln(Z) \\sim N(-\\frac{\\sigma^2}{2}, \\sigma)$, $Z \\sim LN(shape=\\sigma, scale=e^\\mu)$ where $\\sigma$ is the **standard deviation**."
     ]
    },
    {
     "cell_type": "code",
     "collapsed": false,
     "input": [
      "ln_dist = truncate_distribution(stats.lognorm(sigma, scale=exp(-(sigma)**2 / 2)), .05, .95)\n",
      "ln_dist.stats()"
     ],
     "language": "python",
     "metadata": {},
     "outputs": [
      {
       "metadata": {},
       "output_type": "pyout",
       "prompt_number": 32,
       "text": [
        "(array(0.9999999999999999), array(0.040810774192388204))"
       ]
      }
     ],
     "prompt_number": 32
    },
    {
     "cell_type": "code",
     "collapsed": false,
     "input": [
      "ret = truncate_distribution(ln_dist, .05, .95)"
     ],
     "language": "python",
     "metadata": {},
     "outputs": [],
     "prompt_number": 33
    },
    {
     "cell_type": "code",
     "collapsed": false,
     "input": [
      "shocks = np.sort(ln_dist.rvs(100))\n",
      "def clean_shocks(new_shocks, calibrated_shocks):\n",
      "    new_shocks[new_shocks < calibrated_shocks[0]] = calibrated_shocks[0]\n",
      "    new_shocks[new_shocks > calibrated_shocks[-1]] = calibrated_shocks[-1]\n",
      "    return new_shocks\n",
      "\n",
      "shocks = clean_shocks(shocks, shock)"
     ],
     "language": "python",
     "metadata": {},
     "outputs": [],
     "prompt_number": 34
    },
    {
     "cell_type": "heading",
     "level": 2,
     "metadata": {},
     "source": [
      "Using lognormal in eq (18)"
     ]
    },
    {
     "cell_type": "code",
     "collapsed": false,
     "input": [
      "sub_w = lambda z: grid[grid > ws(z)]  # check on > vs >=\n",
      "dg = pchip(gp.X, gp.Y).derivative\n",
      "flex_ws = LinInterp(shock, flex)"
     ],
     "language": "python",
     "metadata": {},
     "outputs": [],
     "prompt_number": 48
    },
    {
     "cell_type": "code",
     "collapsed": false,
     "input": [
      "get_rigid_output(params, ws, flex_ws, gp)"
     ],
     "language": "python",
     "metadata": {},
     "outputs": [
      {
       "output_type": "stream",
       "stream": "stdout",
       "text": [
        "0.0138088461171\n"
       ]
      },
      {
       "metadata": {},
       "output_type": "pyout",
       "prompt_number": 39,
       "text": [
        "0.21185537998327808"
       ]
      }
     ],
     "prompt_number": 39
    },
    {
     "cell_type": "code",
     "collapsed": false,
     "input": [
      "zt = np.exp(-0.5 * (eta * (1 + gamma)) / (gamma + eta) * sigma ** 2)\n",
      "f = lambda x: (1 / x) ** (gamma * (eta - 1) / (eta + gamma))\n",
      "zt - (f(ln_dist.rvs(10000)).mean()) ** -((eta + gamma) / (gamma * (eta - 1)))"
     ],
     "language": "python",
     "metadata": {},
     "outputs": [
      {
       "metadata": {},
       "output_type": "pyout",
       "prompt_number": 49,
       "text": [
        "0.0047634854261987547"
       ]
      }
     ],
     "prompt_number": 49
    },
    {
     "cell_type": "code",
     "collapsed": false,
     "input": [
      "z = shock[0]\n",
      "inner_range = sub_w(z)  \n",
      "inner_vals = inner_f(inner_range, z).mean()\n",
      "print(inner_f(inner_range, z))\n",
      "print(z, inner_range.shape, inner_vals)"
     ],
     "language": "python",
     "metadata": {},
     "outputs": [
      {
       "output_type": "stream",
       "stream": "stdout",
       "text": [
        "[  1.02047624e+00   1.13867893e+00   1.24140466e+00   1.31871141e+00\n",
        "   1.36015744e+00   1.35708216e+00   1.30531610e+00   1.20735488e+00\n",
        "   1.07278879e+00   9.16328681e-01   7.54118436e-01   6.00046424e-01\n",
        "   4.63524035e-01   3.49105125e-01   2.57401147e-01   1.86484638e-01\n",
        "   1.33187971e-01   9.40365478e-02   6.57957835e-02   4.57207637e-02\n",
        "   3.16173644e-02   2.18030615e-02   1.50259203e-02   1.03751473e-02\n",
        "   7.19946141e-03   5.03937820e-03   3.57646620e-03   2.58494398e-03\n",
        "   1.91150641e-03   1.45369090e-03   1.14170780e-03   9.28199448e-04\n",
        "   7.81118044e-04   6.78817039e-04   6.06695707e-04   5.54919207e-04\n",
        "   5.16873636e-04   4.88119168e-04   4.65680406e-04   4.47565738e-04\n",
        "   4.32442627e-04   4.19419007e-04   4.07896649e-04   3.97473114e-04\n",
        "   3.87876357e-04   3.78921188e-04   3.70480323e-04   3.62465149e-04\n",
        "   3.54812942e-04   3.47478377e-04   3.40427888e-04   3.33635903e-04\n",
        "   3.27082346e-04   3.20750962e-04   3.14628196e-04   3.08702435e-04\n",
        "   3.02963502e-04   2.97402304e-04   2.92010591e-04   2.86780792e-04\n",
        "   2.81705893e-04   2.76779353e-04   2.71995042e-04   2.67347188e-04\n",
        "   2.62830346e-04   2.58439362e-04   2.54169356e-04   2.50015692e-04\n",
        "   2.45973970e-04   2.42040001e-04   2.38209801e-04   2.34479575e-04\n",
        "   2.30845703e-04   2.27304736e-04   2.23853380e-04   1.14286624e-04\n",
        "  -6.63354752e-04  -2.08604165e-03]\n",
        "(0.66854200552014875, (78,), 0.19234655544922774)\n"
       ]
      }
     ],
     "prompt_number": 79
    },
    {
     "cell_type": "code",
     "collapsed": false,
     "input": [
      "f1 = lambda z: ((1 / z) ** (gamma * (eta - 1) / (gamma + eta)) *\n",
      "    (flex_ws(z) / ws(z)) ** (eta - 2))\n",
      "f2 = lambda z : ((1 / z) ** (gamma * (eta - 1) / (gamma + eta)) *\n",
      "          gp(ws(z) * (1 + pi)) * (flex_ws(z) / ws(z)) ** (eta - 1))\n",
      "\n",
      "inner_f = lambda w, z: (1 + pi) * dg(w * (1 + pi)) * (flex_ws(z) / w) ** (eta - 1)\n",
      "\n",
      "def f3(shock):\n",
      "    p3 = 0.0\n",
      "    for z in shock:\n",
      "        inner_range = sub_w(z)  \n",
      "        inner_vals = inner_f(inner_range, z).mean()\n",
      "        p3 += (1 / z)**(gamma * (eta - 1) / (eta + gamma)) * inner_vals\n",
      "    return p3 / len(shock)"
     ],
     "language": "python",
     "metadata": {},
     "outputs": [],
     "prompt_number": 50
    },
    {
     "cell_type": "code",
     "collapsed": false,
     "input": [
      "p1 = f1(shock).mean()\n",
      "p2 = f2(shock).mean()\n",
      "p3 = f3(shock)\n",
      "z_part = ((1 - lambda_) * p1 + lambda_ * (p2 + p3))**(-(eta + gamma) / (gamma * (eta - 1)))\n",
      "res1 = ((eta - 1) / eta)**(gamma / (1 + gamma)) * (1 / z_part)**(gamma / (1 + gamma))"
     ],
     "language": "python",
     "metadata": {},
     "outputs": [],
     "prompt_number": 89
    },
    {
     "cell_type": "code",
     "collapsed": false,
     "input": [
      "z_part"
     ],
     "language": "python",
     "metadata": {},
     "outputs": [
      {
       "metadata": {},
       "output_type": "pyout",
       "prompt_number": 57,
       "text": [
        "14.863476195441924"
       ]
      }
     ],
     "prompt_number": 57
    },
    {
     "cell_type": "code",
     "collapsed": false,
     "input": [
      "%autoreload"
     ],
     "language": "python",
     "metadata": {},
     "outputs": [],
     "prompt_number": 80
    },
    {
     "cell_type": "code",
     "collapsed": false,
     "input": [
      "dg = pchip(gp.X, gp.Y).derivative\n",
      "dg(2)"
     ],
     "language": "python",
     "metadata": {},
     "outputs": [
      {
       "metadata": {},
       "output_type": "pyout",
       "prompt_number": 81,
       "text": [
        "array(0.013808846117127127)"
       ]
      }
     ],
     "prompt_number": 81
    },
    {
     "cell_type": "code",
     "collapsed": false,
     "input": [
      "params"
     ],
     "language": "python",
     "metadata": {},
     "outputs": [
      {
       "metadata": {},
       "output_type": "pyout",
       "prompt_number": 82,
       "text": [
        "{u'beta': [0.97, u'disount factor. check this'],\n",
        " u'eta': [2.5, u'elas. of subs among labor types'],\n",
        " u'gamma': [0.5, u'frisch elas. of labor supply'],\n",
        " 'grid': (array([ 0.1       ,  0.13939394,  0.17878788,  0.21818182,  0.25757576,\n",
        "        0.2969697 ,  0.33636364,  0.37575758,  0.41515152,  0.45454545,\n",
        "        0.49393939,  0.53333333,  0.57272727,  0.61212121,  0.65151515,\n",
        "        0.69090909,  0.73030303,  0.76969697,  0.80909091,  0.84848485,\n",
        "        0.88787879,  0.92727273,  0.96666667,  1.00606061,  1.04545455,\n",
        "        1.08484848,  1.12424242,  1.16363636,  1.2030303 ,  1.24242424,\n",
        "        1.28181818,  1.32121212,  1.36060606,  1.4       ,  1.43939394,\n",
        "        1.47878788,  1.51818182,  1.55757576,  1.5969697 ,  1.63636364,\n",
        "        1.67575758,  1.71515152,  1.75454545,  1.79393939,  1.83333333,\n",
        "        1.87272727,  1.91212121,  1.95151515,  1.99090909,  2.03030303,\n",
        "        2.06969697,  2.10909091,  2.14848485,  2.18787879,  2.22727273,\n",
        "        2.26666667,  2.30606061,  2.34545455,  2.38484848,  2.42424242,\n",
        "        2.46363636,  2.5030303 ,  2.54242424,  2.58181818,  2.62121212,\n",
        "        2.66060606,  2.7       ,  2.73939394,  2.77878788,  2.81818182,\n",
        "        2.85757576,  2.8969697 ,  2.93636364,  2.97575758,  3.01515152,\n",
        "        3.05454545,  3.09393939,  3.13333333,  3.17272727,  3.21212121,\n",
        "        3.25151515,  3.29090909,  3.33030303,  3.36969697,  3.40909091,\n",
        "        3.44848485,  3.48787879,  3.52727273,  3.56666667,  3.60606061,\n",
        "        3.64545455,  3.68484848,  3.72424242,  3.76363636,  3.8030303 ,\n",
        "        3.84242424,  3.88181818,  3.92121212,  3.96060606,  4.        ]),\n",
        "  'Wage grid'),\n",
        " u'lambda_': [[0.2, 0.5, 0.8], u'degree of rigidity'],\n",
        " u'pibar': [0.02, u'target inflation'],\n",
        " 'shock': (array([ 0.66854201,  0.69420806,  0.7371605 ,  0.7389975 ,  0.77864604,\n",
        "        0.800462  ,  0.8174179 ,  0.86924719,  0.87594016,  0.87908249,\n",
        "        0.89235176,  0.89302031,  0.89343335,  0.92465115,  0.93535357,\n",
        "        0.93535664,  0.93692199,  0.95346472,  0.99352668,  1.00218691,\n",
        "        1.02879936,  1.04378076,  1.05668812,  1.0825754 ,  1.09254737,\n",
        "        1.11576214,  1.14280635,  1.31407074,  1.32923817,  1.3442585 ]),\n",
        "  'Random sample from lognomral'),\n",
        " u'sigma': [0.2, u'std. dev. of log(Z) (shocks)'],\n",
        " u'tol': [1e-05, u'error tolerance for iteration'],\n",
        " u'wl': [0.3, u'wage lower bound'],\n",
        " u'wn': [400, u'wage grid point'],\n",
        " u'wu': [2.0, u'wage upper bound']}"
       ]
      }
     ],
     "prompt_number": 82
    },
    {
     "cell_type": "code",
     "collapsed": false,
     "input": [
      "res2 = get_rigid_output(params, ws, flex_ws, gp)"
     ],
     "language": "python",
     "metadata": {},
     "outputs": [
      {
       "output_type": "stream",
       "stream": "stdout",
       "text": [
        "0.02\n",
        "0.0138088461171\n",
        "1.0247882711\n",
        "0.180866610615\n",
        "0.199555789159\n",
        "zpart 14.8634761954\n"
       ]
      }
     ],
     "prompt_number": 83
    },
    {
     "cell_type": "code",
     "collapsed": false,
     "input": [
      "print(dg(2))\n",
      "print(p1)\n",
      "print(p2)\n",
      "print(p3)\n",
      "print(z_part)"
     ],
     "language": "python",
     "metadata": {},
     "outputs": [
      {
       "output_type": "stream",
       "stream": "stdout",
       "text": [
        "0.0138088461171\n",
        "1.0247882711\n",
        "0.180866610615\n",
        "0.199555789159\n",
        "14.8634761954\n"
       ]
      }
     ],
     "prompt_number": 84
    },
    {
     "cell_type": "code",
     "collapsed": false,
     "input": [],
     "language": "python",
     "metadata": {},
     "outputs": []
    }
   ],
   "metadata": {}
  }
 ]
}